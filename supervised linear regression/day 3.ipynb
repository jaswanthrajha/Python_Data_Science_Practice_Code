{
 "cells": [
  {
   "cell_type": "code",
   "execution_count": 1,
   "metadata": {},
   "outputs": [],
   "source": [
    "import numpy as np\n",
    "import pandas as pd\n",
    "import matplotlib.pyplot as plt\n",
    "import seaborn as sns"
   ]
  },
  {
   "cell_type": "code",
   "execution_count": 67,
   "metadata": {},
   "outputs": [],
   "source": [
    "from sklearn.datasets import load_boston\n",
    "boston = load_boston()\n",
    "bos = pd.DataFrame(boston.data,columns=boston.feature_names)\n",
    "bos['Price']=boston.target\n",
    "\n",
    "bos = bos.sample(frac = 1,random_state=3)"
   ]
  },
  {
   "cell_type": "code",
   "execution_count": 68,
   "metadata": {},
   "outputs": [],
   "source": [
    "y = bos.Price\n",
    "x = bos.drop(['Price'],axis=1)"
   ]
  },
  {
   "cell_type": "markdown",
   "metadata": {},
   "source": [
    "# recursive feature elimination"
   ]
  },
  {
   "cell_type": "code",
   "execution_count": 69,
   "metadata": {},
   "outputs": [
    {
     "data": {
      "text/plain": [
       "RFE(estimator=LinearRegression(copy_X=True, fit_intercept=True, n_jobs=None,\n",
       "                               normalize=False),\n",
       "    n_features_to_select=10, step=1, verbose=0)"
      ]
     },
     "execution_count": 69,
     "metadata": {},
     "output_type": "execute_result"
    }
   ],
   "source": [
    "from sklearn.linear_model import LinearRegression\n",
    "from sklearn.feature_selection import RFE\n",
    "lr = LinearRegression()\n",
    "\n",
    "rfe = RFE(lr, n_features_to_select= 10)\n",
    "rfe.fit(x,y)\n"
   ]
  },
  {
   "cell_type": "code",
   "execution_count": 70,
   "metadata": {},
   "outputs": [
    {
     "data": {
      "text/plain": [
       "array([ True,  True,  True,  True,  True,  True, False,  True,  True,\n",
       "       False,  True, False,  True])"
      ]
     },
     "execution_count": 70,
     "metadata": {},
     "output_type": "execute_result"
    }
   ],
   "source": [
    "rfe.support_"
   ]
  },
  {
   "cell_type": "code",
   "execution_count": 71,
   "metadata": {},
   "outputs": [
    {
     "data": {
      "text/html": [
       "<div>\n",
       "<style scoped>\n",
       "    .dataframe tbody tr th:only-of-type {\n",
       "        vertical-align: middle;\n",
       "    }\n",
       "\n",
       "    .dataframe tbody tr th {\n",
       "        vertical-align: top;\n",
       "    }\n",
       "\n",
       "    .dataframe thead th {\n",
       "        text-align: right;\n",
       "    }\n",
       "</style>\n",
       "<table border=\"1\" class=\"dataframe\">\n",
       "  <thead>\n",
       "    <tr style=\"text-align: right;\">\n",
       "      <th></th>\n",
       "      <th>select</th>\n",
       "    </tr>\n",
       "  </thead>\n",
       "  <tbody>\n",
       "    <tr>\n",
       "      <td>CRIM</td>\n",
       "      <td>1</td>\n",
       "    </tr>\n",
       "    <tr>\n",
       "      <td>ZN</td>\n",
       "      <td>1</td>\n",
       "    </tr>\n",
       "    <tr>\n",
       "      <td>INDUS</td>\n",
       "      <td>1</td>\n",
       "    </tr>\n",
       "    <tr>\n",
       "      <td>CHAS</td>\n",
       "      <td>1</td>\n",
       "    </tr>\n",
       "    <tr>\n",
       "      <td>NOX</td>\n",
       "      <td>1</td>\n",
       "    </tr>\n",
       "    <tr>\n",
       "      <td>RM</td>\n",
       "      <td>1</td>\n",
       "    </tr>\n",
       "    <tr>\n",
       "      <td>AGE</td>\n",
       "      <td>4</td>\n",
       "    </tr>\n",
       "    <tr>\n",
       "      <td>DIS</td>\n",
       "      <td>1</td>\n",
       "    </tr>\n",
       "    <tr>\n",
       "      <td>RAD</td>\n",
       "      <td>1</td>\n",
       "    </tr>\n",
       "    <tr>\n",
       "      <td>TAX</td>\n",
       "      <td>2</td>\n",
       "    </tr>\n",
       "    <tr>\n",
       "      <td>PTRATIO</td>\n",
       "      <td>1</td>\n",
       "    </tr>\n",
       "    <tr>\n",
       "      <td>B</td>\n",
       "      <td>3</td>\n",
       "    </tr>\n",
       "    <tr>\n",
       "      <td>LSTAT</td>\n",
       "      <td>1</td>\n",
       "    </tr>\n",
       "  </tbody>\n",
       "</table>\n",
       "</div>"
      ],
      "text/plain": [
       "         select\n",
       "CRIM          1\n",
       "ZN            1\n",
       "INDUS         1\n",
       "CHAS          1\n",
       "NOX           1\n",
       "RM            1\n",
       "AGE           4\n",
       "DIS           1\n",
       "RAD           1\n",
       "TAX           2\n",
       "PTRATIO       1\n",
       "B             3\n",
       "LSTAT         1"
      ]
     },
     "execution_count": 71,
     "metadata": {},
     "output_type": "execute_result"
    }
   ],
   "source": [
    "pd.DataFrame(rfe.ranking_,index=x.columns,columns=['select'])"
   ]
  },
  {
   "cell_type": "code",
   "execution_count": 82,
   "metadata": {},
   "outputs": [],
   "source": [
    "from sklearn.metrics import r2_score,mean_squared_error\n",
    "from sklearn.model_selection import train_test_split\n",
    "X_train, X_test, y_train, y_test = train_test_split(x, y, test_size=0.30, random_state=3)"
   ]
  },
  {
   "cell_type": "code",
   "execution_count": 83,
   "metadata": {},
   "outputs": [
    {
     "data": {
      "text/plain": [
       "13"
      ]
     },
     "execution_count": 83,
     "metadata": {},
     "output_type": "execute_result"
    }
   ],
   "source": [
    "x.shape[1]"
   ]
  },
  {
   "cell_type": "code",
   "execution_count": 84,
   "metadata": {},
   "outputs": [],
   "source": [
    "no_ofcols = x.shape[1]\n",
    "score_list = []\n",
    "rmse_list = []\n",
    "for n in range(no_ofcols):\n",
    "    model  = LinearRegression() \n",
    "    rfe  = RFE(model,n_features_to_select=n+1)\n",
    "    rfe.fit(X_train,y_train)\n",
    "    y_test_pred = rfe.predict(X_test)\n",
    "    score = r2_score(y_test,y_test_pred)\n",
    "    rmse = np.sqrt(mean_squared_error(y_test,y_test_pred))\n",
    "    rmse_list.append(rmse)\n",
    "    score_list.append(score)"
   ]
  },
  {
   "cell_type": "code",
   "execution_count": 85,
   "metadata": {},
   "outputs": [
    {
     "data": {
      "text/plain": [
       "[<matplotlib.lines.Line2D at 0x20e5f35d148>]"
      ]
     },
     "execution_count": 85,
     "metadata": {},
     "output_type": "execute_result"
    },
    {
     "data": {
      "image/png": "[encoded data removed]",
      "text/plain": [
       "<Figure size 432x288 with 1 Axes>"
      ]
     },
     "metadata": {
      "needs_background": "light"
     },
     "output_type": "display_data"
    }
   ],
   "source": [
    "plt.plot(score_list)"
   ]
  },
  {
   "cell_type": "code",
   "execution_count": 86,
   "metadata": {
    "scrolled": true
   },
   "outputs": [
    {
     "data": {
      "text/plain": [
       "[0.16348822635766036,\n",
       " 0.3430364519606568,\n",
       " 0.37894253632805186,\n",
       " 0.397697423941613,\n",
       " 0.4313148307898742,\n",
       " 0.5725284799620725,\n",
       " 0.5656202009687706,\n",
       " 0.5731962746104835,\n",
       " 0.5799406964717686,\n",
       " 0.5805492278662603,\n",
       " 0.5771563742038247,\n",
       " 0.5771620879588306,\n",
       " 0.5813557734289051]"
      ]
     },
     "execution_count": 86,
     "metadata": {},
     "output_type": "execute_result"
    }
   ],
   "source": [
    "score_list"
   ]
  },
  {
   "cell_type": "code",
   "execution_count": 87,
   "metadata": {},
   "outputs": [
    {
     "data": {
      "text/plain": [
       "[<matplotlib.lines.Line2D at 0x20e5fd51ec8>]"
      ]
     },
     "execution_count": 87,
     "metadata": {},
     "output_type": "execute_result"
    },
    {
     "data": {
      "image/png": "[encoded data removed]",
      "text/plain": [
       "<Figure size 432x288 with 1 Axes>"
      ]
     },
     "metadata": {
      "needs_background": "light"
     },
     "output_type": "display_data"
    }
   ],
   "source": [
    "plt.plot(range(1,14),rmse_list)"
   ]
  },
  {
   "cell_type": "code",
   "execution_count": 88,
   "metadata": {},
   "outputs": [
    {
     "data": {
      "text/plain": [
       "[8.502771474929627,\n",
       " 7.535205736901996,\n",
       " 7.326395688933875,\n",
       " 7.2149252885621635,\n",
       " 7.0106845974664616,\n",
       " 6.07824316926824,\n",
       " 6.127160940444648,\n",
       " 6.073493607536484,\n",
       " 6.025315352747143,\n",
       " 6.0209493948743775,\n",
       " 6.045251479748807,\n",
       " 6.04521063580499,\n",
       " 6.015157884854259]"
      ]
     },
     "execution_count": 88,
     "metadata": {},
     "output_type": "execute_result"
    }
   ],
   "source": [
    "rmse_list"
   ]
  },
  {
   "cell_type": "code",
   "execution_count": null,
   "metadata": {},
   "outputs": [],
   "source": []
  },
  {
   "cell_type": "markdown",
   "metadata": {},
   "source": [
    "the result of r2 and the rmse shows that we are getting wery closed to getting the max when no of features=10 hence, we will choose 10 as optimal number to keep"
   ]
  },
  {
   "cell_type": "code",
   "execution_count": 90,
   "metadata": {},
   "outputs": [
    {
     "data": {
      "text/plain": [
       "RFE(estimator=LinearRegression(copy_X=True, fit_intercept=True, n_jobs=None,\n",
       "                               normalize=False),\n",
       "    n_features_to_select=10, step=1, verbose=0)"
      ]
     },
     "execution_count": 90,
     "metadata": {},
     "output_type": "execute_result"
    }
   ],
   "source": [
    "rfe = RFE(lr, n_features_to_select= 10)\n",
    "rfe.fit(x,y)\n"
   ]
  },
  {
   "cell_type": "code",
   "execution_count": 91,
   "metadata": {},
   "outputs": [
    {
     "data": {
      "text/html": [
       "<div>\n",
       "<style scoped>\n",
       "    .dataframe tbody tr th:only-of-type {\n",
       "        vertical-align: middle;\n",
       "    }\n",
       "\n",
       "    .dataframe tbody tr th {\n",
       "        vertical-align: top;\n",
       "    }\n",
       "\n",
       "    .dataframe thead th {\n",
       "        text-align: right;\n",
       "    }\n",
       "</style>\n",
       "<table border=\"1\" class=\"dataframe\">\n",
       "  <thead>\n",
       "    <tr style=\"text-align: right;\">\n",
       "      <th></th>\n",
       "      <th>ranks</th>\n",
       "    </tr>\n",
       "  </thead>\n",
       "  <tbody>\n",
       "    <tr>\n",
       "      <td>CRIM</td>\n",
       "      <td>1</td>\n",
       "    </tr>\n",
       "    <tr>\n",
       "      <td>ZN</td>\n",
       "      <td>1</td>\n",
       "    </tr>\n",
       "    <tr>\n",
       "      <td>INDUS</td>\n",
       "      <td>1</td>\n",
       "    </tr>\n",
       "    <tr>\n",
       "      <td>CHAS</td>\n",
       "      <td>1</td>\n",
       "    </tr>\n",
       "    <tr>\n",
       "      <td>NOX</td>\n",
       "      <td>1</td>\n",
       "    </tr>\n",
       "    <tr>\n",
       "      <td>RM</td>\n",
       "      <td>1</td>\n",
       "    </tr>\n",
       "    <tr>\n",
       "      <td>DIS</td>\n",
       "      <td>1</td>\n",
       "    </tr>\n",
       "    <tr>\n",
       "      <td>RAD</td>\n",
       "      <td>1</td>\n",
       "    </tr>\n",
       "    <tr>\n",
       "      <td>PTRATIO</td>\n",
       "      <td>1</td>\n",
       "    </tr>\n",
       "    <tr>\n",
       "      <td>LSTAT</td>\n",
       "      <td>1</td>\n",
       "    </tr>\n",
       "    <tr>\n",
       "      <td>TAX</td>\n",
       "      <td>2</td>\n",
       "    </tr>\n",
       "    <tr>\n",
       "      <td>B</td>\n",
       "      <td>3</td>\n",
       "    </tr>\n",
       "    <tr>\n",
       "      <td>AGE</td>\n",
       "      <td>4</td>\n",
       "    </tr>\n",
       "  </tbody>\n",
       "</table>\n",
       "</div>"
      ],
      "text/plain": [
       "         ranks\n",
       "CRIM         1\n",
       "ZN           1\n",
       "INDUS        1\n",
       "CHAS         1\n",
       "NOX          1\n",
       "RM           1\n",
       "DIS          1\n",
       "RAD          1\n",
       "PTRATIO      1\n",
       "LSTAT        1\n",
       "TAX          2\n",
       "B            3\n",
       "AGE          4"
      ]
     },
     "execution_count": 91,
     "metadata": {},
     "output_type": "execute_result"
    }
   ],
   "source": [
    "rf = pd.DataFrame(rfe.ranking_,index=x.columns,columns=['ranks'])\n",
    "rf = rf.sort_values(by='ranks')\n",
    "rf"
   ]
  },
  {
   "cell_type": "code",
   "execution_count": 93,
   "metadata": {},
   "outputs": [
    {
     "data": {
      "text/plain": [
       "dict_keys(['explained_variance', 'r2', 'max_error', 'neg_median_absolute_error', 'neg_mean_absolute_error', 'neg_mean_squared_error', 'neg_mean_squared_log_error', 'accuracy', 'roc_auc', 'balanced_accuracy', 'average_precision', 'neg_log_loss', 'brier_score_loss', 'adjusted_rand_score', 'homogeneity_score', 'completeness_score', 'v_measure_score', 'mutual_info_score', 'adjusted_mutual_info_score', 'normalized_mutual_info_score', 'fowlkes_mallows_score', 'precision', 'precision_macro', 'precision_micro', 'precision_samples', 'precision_weighted', 'recall', 'recall_macro', 'recall_micro', 'recall_samples', 'recall_weighted', 'f1', 'f1_macro', 'f1_micro', 'f1_samples', 'f1_weighted', 'jaccard', 'jaccard_macro', 'jaccard_micro', 'jaccard_samples', 'jaccard_weighted'])"
      ]
     },
     "execution_count": 93,
     "metadata": {},
     "output_type": "execute_result"
    }
   ],
   "source": [
    "import sklearn\n",
    "sklearn.metrics.SCORERS.keys()"
   ]
  },
  {
   "cell_type": "code",
   "execution_count": 113,
   "metadata": {},
   "outputs": [
    {
     "data": {
      "text/plain": [
       "GridSearchCV(cv=KFold(n_splits=3, random_state=3, shuffle=False),\n",
       "             error_score='raise-deprecating',\n",
       "             estimator=RFE(estimator=LinearRegression(copy_X=True,\n",
       "                                                      fit_intercept=True,\n",
       "                                                      n_jobs=None,\n",
       "                                                      normalize=False),\n",
       "                           n_features_to_select=None, step=1, verbose=0),\n",
       "             iid='warn', n_jobs=None,\n",
       "             param_grid={'n_features_to_select': [1, 2, 3, 4, 5, 6, 7, 8, 9, 10,\n",
       "                                                  11, 12, 13]},\n",
       "             pre_dispatch='2*n_jobs', refit=True, return_train_score=True,\n",
       "             scoring='r2', verbose=0)"
      ]
     },
     "execution_count": 113,
     "metadata": {},
     "output_type": "execute_result"
    }
   ],
   "source": [
    "from sklearn.model_selection import KFold, GridSearchCV\n",
    "kf = KFold(n_splits=3, random_state=3)\n",
    "params = {'n_features_to_select':list(range(1,14))}\n",
    "rfe = RFE(lr)\n",
    "\n",
    "gsearch = GridSearchCV(rfe, param_grid=params, cv=kf, scoring='r2', return_train_score= True)\n",
    "\n",
    "gsearch.fit(x,y)"
   ]
  },
  {
   "cell_type": "code",
   "execution_count": 114,
   "metadata": {},
   "outputs": [
    {
     "data": {
      "text/plain": [
       "{'n_features_to_select': 13}"
      ]
     },
     "execution_count": 114,
     "metadata": {},
     "output_type": "execute_result"
    }
   ],
   "source": [
    "gsearch.best_params_"
   ]
  },
  {
   "cell_type": "code",
   "execution_count": 115,
   "metadata": {},
   "outputs": [],
   "source": [
    "gs=pd.DataFrame(gsearch.cv_results_)"
   ]
  },
  {
   "cell_type": "code",
   "execution_count": 116,
   "metadata": {},
   "outputs": [
    {
     "data": {
      "text/html": [
       "<div>\n",
       "<style scoped>\n",
       "    .dataframe tbody tr th:only-of-type {\n",
       "        vertical-align: middle;\n",
       "    }\n",
       "\n",
       "    .dataframe tbody tr th {\n",
       "        vertical-align: top;\n",
       "    }\n",
       "\n",
       "    .dataframe thead th {\n",
       "        text-align: right;\n",
       "    }\n",
       "</style>\n",
       "<table border=\"1\" class=\"dataframe\">\n",
       "  <thead>\n",
       "    <tr style=\"text-align: right;\">\n",
       "      <th></th>\n",
       "      <th>mean_fit_time</th>\n",
       "      <th>std_fit_time</th>\n",
       "      <th>mean_score_time</th>\n",
       "      <th>std_score_time</th>\n",
       "      <th>param_n_features_to_select</th>\n",
       "      <th>params</th>\n",
       "      <th>split0_test_score</th>\n",
       "      <th>split1_test_score</th>\n",
       "      <th>split2_test_score</th>\n",
       "      <th>mean_test_score</th>\n",
       "      <th>std_test_score</th>\n",
       "      <th>rank_test_score</th>\n",
       "      <th>split0_train_score</th>\n",
       "      <th>split1_train_score</th>\n",
       "      <th>split2_train_score</th>\n",
       "      <th>mean_train_score</th>\n",
       "      <th>std_train_score</th>\n",
       "    </tr>\n",
       "  </thead>\n",
       "  <tbody>\n",
       "    <tr>\n",
       "      <td>0</td>\n",
       "      <td>0.012300</td>\n",
       "      <td>0.002860</td>\n",
       "      <td>0.000997</td>\n",
       "      <td>2.247832e-07</td>\n",
       "      <td>1</td>\n",
       "      <td>{'n_features_to_select': 1}</td>\n",
       "      <td>0.199862</td>\n",
       "      <td>0.158002</td>\n",
       "      <td>0.184327</td>\n",
       "      <td>0.180723</td>\n",
       "      <td>0.017294</td>\n",
       "      <td>13</td>\n",
       "      <td>0.174418</td>\n",
       "      <td>0.192692</td>\n",
       "      <td>0.180015</td>\n",
       "      <td>0.182375</td>\n",
       "      <td>0.007644</td>\n",
       "    </tr>\n",
       "    <tr>\n",
       "      <td>1</td>\n",
       "      <td>0.007371</td>\n",
       "      <td>0.005473</td>\n",
       "      <td>0.000621</td>\n",
       "      <td>8.775536e-04</td>\n",
       "      <td>2</td>\n",
       "      <td>{'n_features_to_select': 2}</td>\n",
       "      <td>0.620833</td>\n",
       "      <td>0.497652</td>\n",
       "      <td>0.483520</td>\n",
       "      <td>0.534101</td>\n",
       "      <td>0.061690</td>\n",
       "      <td>12</td>\n",
       "      <td>0.494590</td>\n",
       "      <td>0.552738</td>\n",
       "      <td>0.561023</td>\n",
       "      <td>0.536117</td>\n",
       "      <td>0.029558</td>\n",
       "    </tr>\n",
       "    <tr>\n",
       "      <td>2</td>\n",
       "      <td>0.008571</td>\n",
       "      <td>0.002248</td>\n",
       "      <td>0.000997</td>\n",
       "      <td>1.946680e-07</td>\n",
       "      <td>3</td>\n",
       "      <td>{'n_features_to_select': 3}</td>\n",
       "      <td>0.587543</td>\n",
       "      <td>0.524968</td>\n",
       "      <td>0.519504</td>\n",
       "      <td>0.544053</td>\n",
       "      <td>0.030878</td>\n",
       "      <td>11</td>\n",
       "      <td>0.535370</td>\n",
       "      <td>0.569403</td>\n",
       "      <td>0.568948</td>\n",
       "      <td>0.557907</td>\n",
       "      <td>0.015937</td>\n",
       "    </tr>\n",
       "    <tr>\n",
       "      <td>3</td>\n",
       "      <td>0.005140</td>\n",
       "      <td>0.003641</td>\n",
       "      <td>0.005540</td>\n",
       "      <td>7.140947e-03</td>\n",
       "      <td>4</td>\n",
       "      <td>{'n_features_to_select': 4}</td>\n",
       "      <td>0.662637</td>\n",
       "      <td>0.588033</td>\n",
       "      <td>0.569893</td>\n",
       "      <td>0.606927</td>\n",
       "      <td>0.040140</td>\n",
       "      <td>10</td>\n",
       "      <td>0.589695</td>\n",
       "      <td>0.628191</td>\n",
       "      <td>0.634907</td>\n",
       "      <td>0.617598</td>\n",
       "      <td>0.019920</td>\n",
       "    </tr>\n",
       "    <tr>\n",
       "      <td>4</td>\n",
       "      <td>0.005207</td>\n",
       "      <td>0.007364</td>\n",
       "      <td>0.000000</td>\n",
       "      <td>0.000000e+00</td>\n",
       "      <td>5</td>\n",
       "      <td>{'n_features_to_select': 5}</td>\n",
       "      <td>0.693000</td>\n",
       "      <td>0.600449</td>\n",
       "      <td>0.581944</td>\n",
       "      <td>0.625216</td>\n",
       "      <td>0.048591</td>\n",
       "      <td>9</td>\n",
       "      <td>0.601537</td>\n",
       "      <td>0.648881</td>\n",
       "      <td>0.656495</td>\n",
       "      <td>0.635638</td>\n",
       "      <td>0.024312</td>\n",
       "    </tr>\n",
       "    <tr>\n",
       "      <td>5</td>\n",
       "      <td>0.010418</td>\n",
       "      <td>0.007367</td>\n",
       "      <td>0.000000</td>\n",
       "      <td>0.000000e+00</td>\n",
       "      <td>6</td>\n",
       "      <td>{'n_features_to_select': 6}</td>\n",
       "      <td>0.700710</td>\n",
       "      <td>0.713764</td>\n",
       "      <td>0.686559</td>\n",
       "      <td>0.700372</td>\n",
       "      <td>0.011103</td>\n",
       "      <td>8</td>\n",
       "      <td>0.714600</td>\n",
       "      <td>0.713370</td>\n",
       "      <td>0.728041</td>\n",
       "      <td>0.718670</td>\n",
       "      <td>0.006645</td>\n",
       "    </tr>\n",
       "    <tr>\n",
       "      <td>6</td>\n",
       "      <td>0.010410</td>\n",
       "      <td>0.007361</td>\n",
       "      <td>0.000000</td>\n",
       "      <td>0.000000e+00</td>\n",
       "      <td>7</td>\n",
       "      <td>{'n_features_to_select': 7}</td>\n",
       "      <td>0.702322</td>\n",
       "      <td>0.714972</td>\n",
       "      <td>0.691022</td>\n",
       "      <td>0.702795</td>\n",
       "      <td>0.009778</td>\n",
       "      <td>7</td>\n",
       "      <td>0.716280</td>\n",
       "      <td>0.714876</td>\n",
       "      <td>0.728228</td>\n",
       "      <td>0.719795</td>\n",
       "      <td>0.005991</td>\n",
       "    </tr>\n",
       "    <tr>\n",
       "      <td>7</td>\n",
       "      <td>0.005208</td>\n",
       "      <td>0.007365</td>\n",
       "      <td>0.000000</td>\n",
       "      <td>0.000000e+00</td>\n",
       "      <td>8</td>\n",
       "      <td>{'n_features_to_select': 8}</td>\n",
       "      <td>0.700323</td>\n",
       "      <td>0.716841</td>\n",
       "      <td>0.702997</td>\n",
       "      <td>0.706728</td>\n",
       "      <td>0.007244</td>\n",
       "      <td>6</td>\n",
       "      <td>0.726207</td>\n",
       "      <td>0.722541</td>\n",
       "      <td>0.730030</td>\n",
       "      <td>0.726259</td>\n",
       "      <td>0.003057</td>\n",
       "    </tr>\n",
       "    <tr>\n",
       "      <td>8</td>\n",
       "      <td>0.005207</td>\n",
       "      <td>0.007364</td>\n",
       "      <td>0.000000</td>\n",
       "      <td>0.000000e+00</td>\n",
       "      <td>9</td>\n",
       "      <td>{'n_features_to_select': 9}</td>\n",
       "      <td>0.696847</td>\n",
       "      <td>0.719058</td>\n",
       "      <td>0.704387</td>\n",
       "      <td>0.706769</td>\n",
       "      <td>0.009230</td>\n",
       "      <td>5</td>\n",
       "      <td>0.728747</td>\n",
       "      <td>0.723012</td>\n",
       "      <td>0.730782</td>\n",
       "      <td>0.727514</td>\n",
       "      <td>0.003290</td>\n",
       "    </tr>\n",
       "    <tr>\n",
       "      <td>9</td>\n",
       "      <td>0.005207</td>\n",
       "      <td>0.007364</td>\n",
       "      <td>0.000000</td>\n",
       "      <td>0.000000e+00</td>\n",
       "      <td>10</td>\n",
       "      <td>{'n_features_to_select': 10}</td>\n",
       "      <td>0.702860</td>\n",
       "      <td>0.710238</td>\n",
       "      <td>0.710827</td>\n",
       "      <td>0.707969</td>\n",
       "      <td>0.003626</td>\n",
       "      <td>4</td>\n",
       "      <td>0.731013</td>\n",
       "      <td>0.731615</td>\n",
       "      <td>0.733411</td>\n",
       "      <td>0.732013</td>\n",
       "      <td>0.001018</td>\n",
       "    </tr>\n",
       "    <tr>\n",
       "      <td>10</td>\n",
       "      <td>0.005207</td>\n",
       "      <td>0.007363</td>\n",
       "      <td>0.000000</td>\n",
       "      <td>0.000000e+00</td>\n",
       "      <td>11</td>\n",
       "      <td>{'n_features_to_select': 11}</td>\n",
       "      <td>0.704204</td>\n",
       "      <td>0.717052</td>\n",
       "      <td>0.708358</td>\n",
       "      <td>0.709875</td>\n",
       "      <td>0.005358</td>\n",
       "      <td>3</td>\n",
       "      <td>0.740164</td>\n",
       "      <td>0.738000</td>\n",
       "      <td>0.743485</td>\n",
       "      <td>0.740550</td>\n",
       "      <td>0.002256</td>\n",
       "    </tr>\n",
       "    <tr>\n",
       "      <td>11</td>\n",
       "      <td>0.000000</td>\n",
       "      <td>0.000000</td>\n",
       "      <td>0.000000</td>\n",
       "      <td>0.000000e+00</td>\n",
       "      <td>12</td>\n",
       "      <td>{'n_features_to_select': 12}</td>\n",
       "      <td>0.702473</td>\n",
       "      <td>0.726200</td>\n",
       "      <td>0.709467</td>\n",
       "      <td>0.712720</td>\n",
       "      <td>0.009964</td>\n",
       "      <td>2</td>\n",
       "      <td>0.740481</td>\n",
       "      <td>0.742598</td>\n",
       "      <td>0.749997</td>\n",
       "      <td>0.744359</td>\n",
       "      <td>0.004079</td>\n",
       "    </tr>\n",
       "    <tr>\n",
       "      <td>12</td>\n",
       "      <td>0.000000</td>\n",
       "      <td>0.000000</td>\n",
       "      <td>0.000000</td>\n",
       "      <td>0.000000e+00</td>\n",
       "      <td>13</td>\n",
       "      <td>{'n_features_to_select': 13}</td>\n",
       "      <td>0.714425</td>\n",
       "      <td>0.726203</td>\n",
       "      <td>0.708242</td>\n",
       "      <td>0.716306</td>\n",
       "      <td>0.007449</td>\n",
       "      <td>1</td>\n",
       "      <td>0.742263</td>\n",
       "      <td>0.742598</td>\n",
       "      <td>0.750234</td>\n",
       "      <td>0.745032</td>\n",
       "      <td>0.003681</td>\n",
       "    </tr>\n",
       "  </tbody>\n",
       "</table>\n",
       "</div>"
      ],
      "text/plain": [
       "    mean_fit_time  std_fit_time  mean_score_time  std_score_time  \\\n",
       "0        0.012300      0.002860         0.000997    2.247832e-07   \n",
       "1        0.007371      0.005473         0.000621    8.775536e-04   \n",
       "2        0.008571      0.002248         0.000997    1.946680e-07   \n",
       "3        0.005140      0.003641         0.005540    7.140947e-03   \n",
       "4        0.005207      0.007364         0.000000    0.000000e+00   \n",
       "5        0.010418      0.007367         0.000000    0.000000e+00   \n",
       "6        0.010410      0.007361         0.000000    0.000000e+00   \n",
       "7        0.005208      0.007365         0.000000    0.000000e+00   \n",
       "8        0.005207      0.007364         0.000000    0.000000e+00   \n",
       "9        0.005207      0.007364         0.000000    0.000000e+00   \n",
       "10       0.005207      0.007363         0.000000    0.000000e+00   \n",
       "11       0.000000      0.000000         0.000000    0.000000e+00   \n",
       "12       0.000000      0.000000         0.000000    0.000000e+00   \n",
       "\n",
       "   param_n_features_to_select                        params  \\\n",
       "0                           1   {'n_features_to_select': 1}   \n",
       "1                           2   {'n_features_to_select': 2}   \n",
       "2                           3   {'n_features_to_select': 3}   \n",
       "3                           4   {'n_features_to_select': 4}   \n",
       "4                           5   {'n_features_to_select': 5}   \n",
       "5                           6   {'n_features_to_select': 6}   \n",
       "6                           7   {'n_features_to_select': 7}   \n",
       "7                           8   {'n_features_to_select': 8}   \n",
       "8                           9   {'n_features_to_select': 9}   \n",
       "9                          10  {'n_features_to_select': 10}   \n",
       "10                         11  {'n_features_to_select': 11}   \n",
       "11                         12  {'n_features_to_select': 12}   \n",
       "12                         13  {'n_features_to_select': 13}   \n",
       "\n",
       "    split0_test_score  split1_test_score  split2_test_score  mean_test_score  \\\n",
       "0            0.199862           0.158002           0.184327         0.180723   \n",
       "1            0.620833           0.497652           0.483520         0.534101   \n",
       "2            0.587543           0.524968           0.519504         0.544053   \n",
       "3            0.662637           0.588033           0.569893         0.606927   \n",
       "4            0.693000           0.600449           0.581944         0.625216   \n",
       "5            0.700710           0.713764           0.686559         0.700372   \n",
       "6            0.702322           0.714972           0.691022         0.702795   \n",
       "7            0.700323           0.716841           0.702997         0.706728   \n",
       "8            0.696847           0.719058           0.704387         0.706769   \n",
       "9            0.702860           0.710238           0.710827         0.707969   \n",
       "10           0.704204           0.717052           0.708358         0.709875   \n",
       "11           0.702473           0.726200           0.709467         0.712720   \n",
       "12           0.714425           0.726203           0.708242         0.716306   \n",
       "\n",
       "    std_test_score  rank_test_score  split0_train_score  split1_train_score  \\\n",
       "0         0.017294               13            0.174418            0.192692   \n",
       "1         0.061690               12            0.494590            0.552738   \n",
       "2         0.030878               11            0.535370            0.569403   \n",
       "3         0.040140               10            0.589695            0.628191   \n",
       "4         0.048591                9            0.601537            0.648881   \n",
       "5         0.011103                8            0.714600            0.713370   \n",
       "6         0.009778                7            0.716280            0.714876   \n",
       "7         0.007244                6            0.726207            0.722541   \n",
       "8         0.009230                5            0.728747            0.723012   \n",
       "9         0.003626                4            0.731013            0.731615   \n",
       "10        0.005358                3            0.740164            0.738000   \n",
       "11        0.009964                2            0.740481            0.742598   \n",
       "12        0.007449                1            0.742263            0.742598   \n",
       "\n",
       "    split2_train_score  mean_train_score  std_train_score  \n",
       "0             0.180015          0.182375         0.007644  \n",
       "1             0.561023          0.536117         0.029558  \n",
       "2             0.568948          0.557907         0.015937  \n",
       "3             0.634907          0.617598         0.019920  \n",
       "4             0.656495          0.635638         0.024312  \n",
       "5             0.728041          0.718670         0.006645  \n",
       "6             0.728228          0.719795         0.005991  \n",
       "7             0.730030          0.726259         0.003057  \n",
       "8             0.730782          0.727514         0.003290  \n",
       "9             0.733411          0.732013         0.001018  \n",
       "10            0.743485          0.740550         0.002256  \n",
       "11            0.749997          0.744359         0.004079  \n",
       "12            0.750234          0.745032         0.003681  "
      ]
     },
     "execution_count": 116,
     "metadata": {},
     "output_type": "execute_result"
    }
   ],
   "source": [
    "gs"
   ]
  },
  {
   "cell_type": "code",
   "execution_count": 123,
   "metadata": {},
   "outputs": [
    {
     "data": {
      "image/png": "[encoded data removed]",
      "text/plain": [
       "<Figure size 432x288 with 1 Axes>"
      ]
     },
     "metadata": {
      "needs_background": "light"
     },
     "output_type": "display_data"
    }
   ],
   "source": [
    "plt.plot(gs['param_n_features_to_select'], gs['mean_test_score'],label='rue')\n",
    "plt.plot(gs['param_n_features_to_select'], gs['mean_train_score'],'r',label='rue')\n",
    "plt.xlabel('no of feature')\n",
    "plt.legend()\n",
    "plt.ylabel('r2')\n",
    "plt.show()"
   ]
  },
  {
   "cell_type": "markdown",
   "metadata": {},
   "source": [
    "# step Forward selection"
   ]
  },
  {
   "cell_type": "code",
   "execution_count": 124,
   "metadata": {},
   "outputs": [],
   "source": [
    "import mlxtend"
   ]
  },
  {
   "cell_type": "code",
   "execution_count": 126,
   "metadata": {},
   "outputs": [],
   "source": [
    "from mlxtend.feature_selection import SequentialFeatureSelector as sfs"
   ]
  },
  {
   "cell_type": "code",
   "execution_count": 128,
   "metadata": {},
   "outputs": [
    {
     "name": "stderr",
     "output_type": "stream",
     "text": [
      "[Parallel(n_jobs=1)]: Using backend SequentialBackend with 1 concurrent workers.\n",
      "[Parallel(n_jobs=1)]: Done   1 out of   1 | elapsed:    0.0s remaining:    0.0s\n",
      "[Parallel(n_jobs=1)]: Done  13 out of  13 | elapsed:    0.0s finished\n",
      "\n",
      "[2020-03-11 14:21:17] Features: 1/13 -- score: 0.5385442127122603[Parallel(n_jobs=1)]: Using backend SequentialBackend with 1 concurrent workers.\n",
      "[Parallel(n_jobs=1)]: Done   1 out of   1 | elapsed:    0.0s remaining:    0.0s\n",
      "[Parallel(n_jobs=1)]: Done  12 out of  12 | elapsed:    0.0s finished\n",
      "\n",
      "[2020-03-11 14:21:17] Features: 2/13 -- score: 0.62822010699234[Parallel(n_jobs=1)]: Using backend SequentialBackend with 1 concurrent workers.\n",
      "[Parallel(n_jobs=1)]: Done   1 out of   1 | elapsed:    0.0s remaining:    0.0s\n",
      "[Parallel(n_jobs=1)]: Done  11 out of  11 | elapsed:    0.0s finished\n",
      "\n",
      "[2020-03-11 14:21:17] Features: 3/13 -- score: 0.6686934564375585[Parallel(n_jobs=1)]: Using backend SequentialBackend with 1 concurrent workers.\n",
      "[Parallel(n_jobs=1)]: Done   1 out of   1 | elapsed:    0.0s remaining:    0.0s\n",
      "[Parallel(n_jobs=1)]: Done  10 out of  10 | elapsed:    0.0s finished\n",
      "\n",
      "[2020-03-11 14:21:17] Features: 4/13 -- score: 0.6814772826504827[Parallel(n_jobs=1)]: Using backend SequentialBackend with 1 concurrent workers.\n",
      "[Parallel(n_jobs=1)]: Done   1 out of   1 | elapsed:    0.0s remaining:    0.0s\n",
      "[Parallel(n_jobs=1)]: Done   9 out of   9 | elapsed:    0.0s finished\n",
      "\n",
      "[2020-03-11 14:21:17] Features: 5/13 -- score: 0.6942467104909952[Parallel(n_jobs=1)]: Using backend SequentialBackend with 1 concurrent workers.\n",
      "[Parallel(n_jobs=1)]: Done   1 out of   1 | elapsed:    0.0s remaining:    0.0s\n",
      "[Parallel(n_jobs=1)]: Done   8 out of   8 | elapsed:    0.0s finished\n",
      "\n",
      "[2020-03-11 14:21:17] Features: 6/13 -- score: 0.7008158112722648[Parallel(n_jobs=1)]: Using backend SequentialBackend with 1 concurrent workers.\n",
      "[Parallel(n_jobs=1)]: Done   1 out of   1 | elapsed:    0.0s remaining:    0.0s\n",
      "[Parallel(n_jobs=1)]: Done   7 out of   7 | elapsed:    0.0s finished\n",
      "\n",
      "[2020-03-11 14:21:17] Features: 7/13 -- score: 0.7058479381042497[Parallel(n_jobs=1)]: Using backend SequentialBackend with 1 concurrent workers.\n",
      "[Parallel(n_jobs=1)]: Done   1 out of   1 | elapsed:    0.0s remaining:    0.0s\n",
      "[Parallel(n_jobs=1)]: Done   6 out of   6 | elapsed:    0.0s finished\n",
      "\n",
      "[2020-03-11 14:21:17] Features: 8/13 -- score: 0.7100575641498219[Parallel(n_jobs=1)]: Using backend SequentialBackend with 1 concurrent workers.\n",
      "[Parallel(n_jobs=1)]: Done   1 out of   1 | elapsed:    0.0s remaining:    0.0s\n",
      "[Parallel(n_jobs=1)]: Done   5 out of   5 | elapsed:    0.0s finished\n",
      "\n",
      "[2020-03-11 14:21:17] Features: 9/13 -- score: 0.7138674346860272[Parallel(n_jobs=1)]: Using backend SequentialBackend with 1 concurrent workers.\n",
      "[Parallel(n_jobs=1)]: Done   1 out of   1 | elapsed:    0.0s remaining:    0.0s\n",
      "[Parallel(n_jobs=1)]: Done   4 out of   4 | elapsed:    0.0s finished\n",
      "\n",
      "[2020-03-11 14:21:17] Features: 10/13 -- score: 0.7168638324241933[Parallel(n_jobs=1)]: Using backend SequentialBackend with 1 concurrent workers.\n",
      "[Parallel(n_jobs=1)]: Done   1 out of   1 | elapsed:    0.0s remaining:    0.0s\n",
      "[Parallel(n_jobs=1)]: Done   3 out of   3 | elapsed:    0.0s finished\n",
      "\n",
      "[2020-03-11 14:21:17] Features: 11/13 -- score: 0.7185344980088425[Parallel(n_jobs=1)]: Using backend SequentialBackend with 1 concurrent workers.\n",
      "[Parallel(n_jobs=1)]: Done   1 out of   1 | elapsed:    0.0s remaining:    0.0s\n",
      "[Parallel(n_jobs=1)]: Done   2 out of   2 | elapsed:    0.0s finished\n",
      "\n",
      "[2020-03-11 14:21:17] Features: 12/13 -- score: 0.7175045246306683[Parallel(n_jobs=1)]: Using backend SequentialBackend with 1 concurrent workers.\n",
      "[Parallel(n_jobs=1)]: Done   1 out of   1 | elapsed:    0.0s remaining:    0.0s\n",
      "[Parallel(n_jobs=1)]: Done   1 out of   1 | elapsed:    0.0s finished\n",
      "\n",
      "[2020-03-11 14:21:17] Features: 13/13 -- score: 0.7162901085213041"
     ]
    },
    {
     "data": {
      "text/plain": [
       "SequentialFeatureSelector(clone_estimator=True,\n",
       "                          cv=KFold(n_splits=3, random_state=3, shuffle=False),\n",
       "                          estimator=LinearRegression(copy_X=True,\n",
       "                                                     fit_intercept=True,\n",
       "                                                     n_jobs=None,\n",
       "                                                     normalize=False),\n",
       "                          fixed_features=None, floating=False, forward=True,\n",
       "                          k_features=13, n_jobs=1, pre_dispatch='2*n_jobs',\n",
       "                          scoring='r2', verbose=2)"
      ]
     },
     "execution_count": 128,
     "metadata": {},
     "output_type": "execute_result"
    }
   ],
   "source": [
    "lr = LinearRegression()\n",
    "\n",
    "kf = KFold(n_splits=3, random_state=3)\n",
    "sfs1 = sfs(lr,k_features=13, scoring='r2',cv=kf , verbose=2)\n",
    "\n",
    "sfs1.fit(x,y)"
   ]
  },
  {
   "cell_type": "code",
   "execution_count": 129,
   "metadata": {},
   "outputs": [
    {
     "data": {
      "text/plain": [
       "{1: {'feature_idx': (12,),\n",
       "  'cv_scores': array([0.47498301, 0.56609828, 0.57455135]),\n",
       "  'avg_score': 0.5385442127122603,\n",
       "  'feature_names': ('LSTAT',)},\n",
       " 2: {'feature_idx': (5, 12),\n",
       "  'cv_scores': array([0.60036603, 0.65293983, 0.63135447]),\n",
       "  'avg_score': 0.62822010699234,\n",
       "  'feature_names': ('RM', 'LSTAT')},\n",
       " 3: {'feature_idx': (5, 10, 12),\n",
       "  'cv_scores': array([0.65745471, 0.68441498, 0.66421068]),\n",
       "  'avg_score': 0.6686934564375585,\n",
       "  'feature_names': ('RM', 'PTRATIO', 'LSTAT')},\n",
       " 4: {'feature_idx': (5, 7, 10, 12),\n",
       "  'cv_scores': array([0.67016622, 0.70001991, 0.67424572]),\n",
       "  'avg_score': 0.6814772826504827,\n",
       "  'feature_names': ('RM', 'DIS', 'PTRATIO', 'LSTAT')},\n",
       " 5: {'feature_idx': (4, 5, 7, 10, 12),\n",
       "  'cv_scores': array([0.70589773, 0.70338011, 0.67346229]),\n",
       "  'avg_score': 0.6942467104909952,\n",
       "  'feature_names': ('NOX', 'RM', 'DIS', 'PTRATIO', 'LSTAT')},\n",
       " 6: {'feature_idx': (4, 5, 7, 10, 11, 12),\n",
       "  'cv_scores': array([0.71000238, 0.71462993, 0.67781512]),\n",
       "  'avg_score': 0.7008158112722648,\n",
       "  'feature_names': ('NOX', 'RM', 'DIS', 'PTRATIO', 'B', 'LSTAT')},\n",
       " 7: {'feature_idx': (3, 4, 5, 7, 10, 11, 12),\n",
       "  'cv_scores': array([0.704237  , 0.72360608, 0.68970073]),\n",
       "  'avg_score': 0.7058479381042497,\n",
       "  'feature_names': ('CHAS', 'NOX', 'RM', 'DIS', 'PTRATIO', 'B', 'LSTAT')},\n",
       " 8: {'feature_idx': (3, 4, 5, 7, 8, 10, 11, 12),\n",
       "  'cv_scores': array([0.70720175, 0.72743802, 0.69553292]),\n",
       "  'avg_score': 0.7100575641498219,\n",
       "  'feature_names': ('CHAS',\n",
       "   'NOX',\n",
       "   'RM',\n",
       "   'DIS',\n",
       "   'RAD',\n",
       "   'PTRATIO',\n",
       "   'B',\n",
       "   'LSTAT')},\n",
       " 9: {'feature_idx': (3, 4, 5, 7, 8, 9, 10, 11, 12),\n",
       "  'cv_scores': array([0.71554387, 0.7335561 , 0.69250233]),\n",
       "  'avg_score': 0.7138674346860272,\n",
       "  'feature_names': ('CHAS',\n",
       "   'NOX',\n",
       "   'RM',\n",
       "   'DIS',\n",
       "   'RAD',\n",
       "   'TAX',\n",
       "   'PTRATIO',\n",
       "   'B',\n",
       "   'LSTAT')},\n",
       " 10: {'feature_idx': (1, 3, 4, 5, 7, 8, 9, 10, 11, 12),\n",
       "  'cv_scores': array([0.7239641 , 0.72674557, 0.69988183]),\n",
       "  'avg_score': 0.7168638324241933,\n",
       "  'feature_names': ('ZN',\n",
       "   'CHAS',\n",
       "   'NOX',\n",
       "   'RM',\n",
       "   'DIS',\n",
       "   'RAD',\n",
       "   'TAX',\n",
       "   'PTRATIO',\n",
       "   'B',\n",
       "   'LSTAT')},\n",
       " 11: {'feature_idx': (0, 1, 3, 4, 5, 7, 8, 9, 10, 11, 12),\n",
       "  'cv_scores': array([0.71912987, 0.72633999, 0.71013363]),\n",
       "  'avg_score': 0.7185344980088425,\n",
       "  'feature_names': ('CRIM',\n",
       "   'ZN',\n",
       "   'CHAS',\n",
       "   'NOX',\n",
       "   'RM',\n",
       "   'DIS',\n",
       "   'RAD',\n",
       "   'TAX',\n",
       "   'PTRATIO',\n",
       "   'B',\n",
       "   'LSTAT')},\n",
       " 12: {'feature_idx': (0, 1, 3, 4, 5, 6, 7, 8, 9, 10, 11, 12),\n",
       "  'cv_scores': array([0.71701129, 0.72634245, 0.70915983]),\n",
       "  'avg_score': 0.7175045246306683,\n",
       "  'feature_names': ('CRIM',\n",
       "   'ZN',\n",
       "   'CHAS',\n",
       "   'NOX',\n",
       "   'RM',\n",
       "   'AGE',\n",
       "   'DIS',\n",
       "   'RAD',\n",
       "   'TAX',\n",
       "   'PTRATIO',\n",
       "   'B',\n",
       "   'LSTAT')},\n",
       " 13: {'feature_idx': (0, 1, 2, 3, 4, 5, 6, 7, 8, 9, 10, 11, 12),\n",
       "  'cv_scores': array([0.71442549, 0.72620331, 0.70824153]),\n",
       "  'avg_score': 0.7162901085213041,\n",
       "  'feature_names': ('CRIM',\n",
       "   'ZN',\n",
       "   'INDUS',\n",
       "   'CHAS',\n",
       "   'NOX',\n",
       "   'RM',\n",
       "   'AGE',\n",
       "   'DIS',\n",
       "   'RAD',\n",
       "   'TAX',\n",
       "   'PTRATIO',\n",
       "   'B',\n",
       "   'LSTAT')}}"
      ]
     },
     "execution_count": 129,
     "metadata": {},
     "output_type": "execute_result"
    }
   ],
   "source": [
    "sfs1.subsets_"
   ]
  },
  {
   "cell_type": "code",
   "execution_count": 132,
   "metadata": {},
   "outputs": [
    {
     "data": {
      "text/html": [
       "<div>\n",
       "<style scoped>\n",
       "    .dataframe tbody tr th:only-of-type {\n",
       "        vertical-align: middle;\n",
       "    }\n",
       "\n",
       "    .dataframe tbody tr th {\n",
       "        vertical-align: top;\n",
       "    }\n",
       "\n",
       "    .dataframe thead th {\n",
       "        text-align: right;\n",
       "    }\n",
       "</style>\n",
       "<table border=\"1\" class=\"dataframe\">\n",
       "  <thead>\n",
       "    <tr style=\"text-align: right;\">\n",
       "      <th></th>\n",
       "      <th>feature_idx</th>\n",
       "      <th>cv_scores</th>\n",
       "      <th>avg_score</th>\n",
       "      <th>feature_names</th>\n",
       "    </tr>\n",
       "  </thead>\n",
       "  <tbody>\n",
       "    <tr>\n",
       "      <td>1</td>\n",
       "      <td>(12,)</td>\n",
       "      <td>[0.4749830090548759, 0.5660982817170748, 0.574...</td>\n",
       "      <td>0.538544</td>\n",
       "      <td>(LSTAT,)</td>\n",
       "    </tr>\n",
       "    <tr>\n",
       "      <td>2</td>\n",
       "      <td>(5, 12)</td>\n",
       "      <td>[0.6003660252605315, 0.6529398298950582, 0.631...</td>\n",
       "      <td>0.62822</td>\n",
       "      <td>(RM, LSTAT)</td>\n",
       "    </tr>\n",
       "    <tr>\n",
       "      <td>3</td>\n",
       "      <td>(5, 10, 12)</td>\n",
       "      <td>[0.6574547085117268, 0.6844149765905738, 0.664...</td>\n",
       "      <td>0.668693</td>\n",
       "      <td>(RM, PTRATIO, LSTAT)</td>\n",
       "    </tr>\n",
       "    <tr>\n",
       "      <td>4</td>\n",
       "      <td>(5, 7, 10, 12)</td>\n",
       "      <td>[0.6701662157084982, 0.7000199113250302, 0.674...</td>\n",
       "      <td>0.681477</td>\n",
       "      <td>(RM, DIS, PTRATIO, LSTAT)</td>\n",
       "    </tr>\n",
       "    <tr>\n",
       "      <td>5</td>\n",
       "      <td>(4, 5, 7, 10, 12)</td>\n",
       "      <td>[0.7058977311250213, 0.7033801102200267, 0.673...</td>\n",
       "      <td>0.694247</td>\n",
       "      <td>(NOX, RM, DIS, PTRATIO, LSTAT)</td>\n",
       "    </tr>\n",
       "    <tr>\n",
       "      <td>6</td>\n",
       "      <td>(4, 5, 7, 10, 11, 12)</td>\n",
       "      <td>[0.7100023770635135, 0.7146299333738408, 0.677...</td>\n",
       "      <td>0.700816</td>\n",
       "      <td>(NOX, RM, DIS, PTRATIO, B, LSTAT)</td>\n",
       "    </tr>\n",
       "    <tr>\n",
       "      <td>7</td>\n",
       "      <td>(3, 4, 5, 7, 10, 11, 12)</td>\n",
       "      <td>[0.7042370034440062, 0.7236060770908831, 0.689...</td>\n",
       "      <td>0.705848</td>\n",
       "      <td>(CHAS, NOX, RM, DIS, PTRATIO, B, LSTAT)</td>\n",
       "    </tr>\n",
       "    <tr>\n",
       "      <td>8</td>\n",
       "      <td>(3, 4, 5, 7, 8, 10, 11, 12)</td>\n",
       "      <td>[0.7072017496995521, 0.7274380228793207, 0.695...</td>\n",
       "      <td>0.710058</td>\n",
       "      <td>(CHAS, NOX, RM, DIS, RAD, PTRATIO, B, LSTAT)</td>\n",
       "    </tr>\n",
       "    <tr>\n",
       "      <td>9</td>\n",
       "      <td>(3, 4, 5, 7, 8, 9, 10, 11, 12)</td>\n",
       "      <td>[0.715543873547657, 0.733556097889901, 0.69250...</td>\n",
       "      <td>0.713867</td>\n",
       "      <td>(CHAS, NOX, RM, DIS, RAD, TAX, PTRATIO, B, LSTAT)</td>\n",
       "    </tr>\n",
       "    <tr>\n",
       "      <td>10</td>\n",
       "      <td>(1, 3, 4, 5, 7, 8, 9, 10, 11, 12)</td>\n",
       "      <td>[0.7239641006709546, 0.7267455672126852, 0.699...</td>\n",
       "      <td>0.716864</td>\n",
       "      <td>(ZN, CHAS, NOX, RM, DIS, RAD, TAX, PTRATIO, B,...</td>\n",
       "    </tr>\n",
       "    <tr>\n",
       "      <td>11</td>\n",
       "      <td>(0, 1, 3, 4, 5, 7, 8, 9, 10, 11, 12)</td>\n",
       "      <td>[0.7191298743397663, 0.7263399876500796, 0.710...</td>\n",
       "      <td>0.718534</td>\n",
       "      <td>(CRIM, ZN, CHAS, NOX, RM, DIS, RAD, TAX, PTRAT...</td>\n",
       "    </tr>\n",
       "    <tr>\n",
       "      <td>12</td>\n",
       "      <td>(0, 1, 3, 4, 5, 6, 7, 8, 9, 10, 11, 12)</td>\n",
       "      <td>[0.7170112875361433, 0.7263424526087849, 0.709...</td>\n",
       "      <td>0.717505</td>\n",
       "      <td>(CRIM, ZN, CHAS, NOX, RM, AGE, DIS, RAD, TAX, ...</td>\n",
       "    </tr>\n",
       "    <tr>\n",
       "      <td>13</td>\n",
       "      <td>(0, 1, 2, 3, 4, 5, 6, 7, 8, 9, 10, 11, 12)</td>\n",
       "      <td>[0.7144254933499383, 0.7262033065717164, 0.708...</td>\n",
       "      <td>0.71629</td>\n",
       "      <td>(CRIM, ZN, INDUS, CHAS, NOX, RM, AGE, DIS, RAD...</td>\n",
       "    </tr>\n",
       "  </tbody>\n",
       "</table>\n",
       "</div>"
      ],
      "text/plain": [
       "                                   feature_idx  \\\n",
       "1                                        (12,)   \n",
       "2                                      (5, 12)   \n",
       "3                                  (5, 10, 12)   \n",
       "4                               (5, 7, 10, 12)   \n",
       "5                            (4, 5, 7, 10, 12)   \n",
       "6                        (4, 5, 7, 10, 11, 12)   \n",
       "7                     (3, 4, 5, 7, 10, 11, 12)   \n",
       "8                  (3, 4, 5, 7, 8, 10, 11, 12)   \n",
       "9               (3, 4, 5, 7, 8, 9, 10, 11, 12)   \n",
       "10           (1, 3, 4, 5, 7, 8, 9, 10, 11, 12)   \n",
       "11        (0, 1, 3, 4, 5, 7, 8, 9, 10, 11, 12)   \n",
       "12     (0, 1, 3, 4, 5, 6, 7, 8, 9, 10, 11, 12)   \n",
       "13  (0, 1, 2, 3, 4, 5, 6, 7, 8, 9, 10, 11, 12)   \n",
       "\n",
       "                                            cv_scores avg_score  \\\n",
       "1   [0.4749830090548759, 0.5660982817170748, 0.574...  0.538544   \n",
       "2   [0.6003660252605315, 0.6529398298950582, 0.631...   0.62822   \n",
       "3   [0.6574547085117268, 0.6844149765905738, 0.664...  0.668693   \n",
       "4   [0.6701662157084982, 0.7000199113250302, 0.674...  0.681477   \n",
       "5   [0.7058977311250213, 0.7033801102200267, 0.673...  0.694247   \n",
       "6   [0.7100023770635135, 0.7146299333738408, 0.677...  0.700816   \n",
       "7   [0.7042370034440062, 0.7236060770908831, 0.689...  0.705848   \n",
       "8   [0.7072017496995521, 0.7274380228793207, 0.695...  0.710058   \n",
       "9   [0.715543873547657, 0.733556097889901, 0.69250...  0.713867   \n",
       "10  [0.7239641006709546, 0.7267455672126852, 0.699...  0.716864   \n",
       "11  [0.7191298743397663, 0.7263399876500796, 0.710...  0.718534   \n",
       "12  [0.7170112875361433, 0.7263424526087849, 0.709...  0.717505   \n",
       "13  [0.7144254933499383, 0.7262033065717164, 0.708...   0.71629   \n",
       "\n",
       "                                        feature_names  \n",
       "1                                            (LSTAT,)  \n",
       "2                                         (RM, LSTAT)  \n",
       "3                                (RM, PTRATIO, LSTAT)  \n",
       "4                           (RM, DIS, PTRATIO, LSTAT)  \n",
       "5                      (NOX, RM, DIS, PTRATIO, LSTAT)  \n",
       "6                   (NOX, RM, DIS, PTRATIO, B, LSTAT)  \n",
       "7             (CHAS, NOX, RM, DIS, PTRATIO, B, LSTAT)  \n",
       "8        (CHAS, NOX, RM, DIS, RAD, PTRATIO, B, LSTAT)  \n",
       "9   (CHAS, NOX, RM, DIS, RAD, TAX, PTRATIO, B, LSTAT)  \n",
       "10  (ZN, CHAS, NOX, RM, DIS, RAD, TAX, PTRATIO, B,...  \n",
       "11  (CRIM, ZN, CHAS, NOX, RM, DIS, RAD, TAX, PTRAT...  \n",
       "12  (CRIM, ZN, CHAS, NOX, RM, AGE, DIS, RAD, TAX, ...  \n",
       "13  (CRIM, ZN, INDUS, CHAS, NOX, RM, AGE, DIS, RAD...  "
      ]
     },
     "execution_count": 132,
     "metadata": {},
     "output_type": "execute_result"
    }
   ],
   "source": [
    "sf = pd.DataFrame(sfs1.subsets_).T\n",
    "sf"
   ]
  },
  {
   "cell_type": "code",
   "execution_count": 133,
   "metadata": {},
   "outputs": [
    {
     "data": {
      "text/plain": [
       "[<matplotlib.lines.Line2D at 0x20e5b9f0848>]"
      ]
     },
     "execution_count": 133,
     "metadata": {},
     "output_type": "execute_result"
    },
    {
     "data": {
      "image/png": "[encoded data removed]",
      "text/plain": [
       "<Figure size 432x288 with 1 Axes>"
      ]
     },
     "metadata": {
      "needs_background": "light"
     },
     "output_type": "display_data"
    }
   ],
   "source": [
    "plt.plot(range(1,14), sf.avg_score)\n",
    "plt."
   ]
  },
  {
   "cell_type": "markdown",
   "metadata": {},
   "source": [
    "Verbose = 2, output showed that r-sqaured value is reaching peak at 'number of features'=11. Hence, we will run sfs again with k_features=11 to identify the selected features."
   ]
  },
  {
   "cell_type": "code",
   "execution_count": 135,
   "metadata": {},
   "outputs": [
    {
     "data": {
      "text/plain": [
       "SequentialFeatureSelector(clone_estimator=True,\n",
       "                          cv=KFold(n_splits=3, random_state=3, shuffle=False),\n",
       "                          estimator=LinearRegression(copy_X=True,\n",
       "                                                     fit_intercept=True,\n",
       "                                                     n_jobs=None,\n",
       "                                                     normalize=False),\n",
       "                          fixed_features=None, floating=False, forward=True,\n",
       "                          k_features=13, n_jobs=1, pre_dispatch='2*n_jobs',\n",
       "                          scoring='r2', verbose=0)"
      ]
     },
     "execution_count": 135,
     "metadata": {},
     "output_type": "execute_result"
    }
   ],
   "source": [
    "lr = LinearRegression()\n",
    "\n",
    "kf = KFold(n_splits=3, random_state=3)\n",
    "sfs1 = sfs(lr,k_features=13, scoring='r2',cv=kf)\n",
    "\n",
    "sfs1.fit(x,y)"
   ]
  },
  {
   "cell_type": "code",
   "execution_count": 136,
   "metadata": {},
   "outputs": [
    {
     "data": {
      "text/plain": [
       "SequentialFeatureSelector(clone_estimator=True,\n",
       "                          cv=KFold(n_splits=3, random_state=3, shuffle=False),\n",
       "                          estimator=LinearRegression(copy_X=True,\n",
       "                                                     fit_intercept=True,\n",
       "                                                     n_jobs=None,\n",
       "                                                     normalize=False),\n",
       "                          fixed_features=None, floating=False, forward=True,\n",
       "                          k_features=13, n_jobs=1, pre_dispatch='2*n_jobs',\n",
       "                          scoring='r2', verbose=0)"
      ]
     },
     "execution_count": 136,
     "metadata": {},
     "output_type": "execute_result"
    }
   ],
   "source": [
    "sfs1"
   ]
  },
  {
   "cell_type": "code",
   "execution_count": 138,
   "metadata": {},
   "outputs": [
    {
     "data": {
      "text/plain": [
       "['CRIM',\n",
       " 'ZN',\n",
       " 'INDUS',\n",
       " 'CHAS',\n",
       " 'NOX',\n",
       " 'RM',\n",
       " 'AGE',\n",
       " 'DIS',\n",
       " 'RAD',\n",
       " 'TAX',\n",
       " 'PTRATIO',\n",
       " 'B',\n",
       " 'LSTAT']"
      ]
     },
     "execution_count": 138,
     "metadata": {},
     "output_type": "execute_result"
    }
   ],
   "source": [
    "list(sfs1.k_feature_names_)"
   ]
  },
  {
   "cell_type": "code",
   "execution_count": 142,
   "metadata": {},
   "outputs": [],
   "source": [
    "cols = list(sfs1.k_feature_names_)"
   ]
  },
  {
   "cell_type": "code",
   "execution_count": 146,
   "metadata": {},
   "outputs": [],
   "source": [
    "X_train, X_test, y_train, y_test = train_test_split(x[cols], y, test_size=0.30, random_state=3)"
   ]
  },
  {
   "cell_type": "code",
   "execution_count": 147,
   "metadata": {},
   "outputs": [
    {
     "name": "stdout",
     "output_type": "stream",
     "text": [
      "r-square for train:  0.7930655301640464\n",
      "r-square for test:  0.5813557734289051\n"
     ]
    }
   ],
   "source": [
    "lr.fit(X_train,y_train)\n",
    "y_train_pred= lr.predict(X_train)\n",
    "y_test_pred = lr.predict(X_test)\n",
    "\n",
    "print('r-square for train: ', r2_score(y_train,y_train_pred))\n",
    "\n",
    "\n",
    "print('r-square for test: ', r2_score(y_test,y_test_pred))\n"
   ]
  },
  {
   "cell_type": "code",
   "execution_count": null,
   "metadata": {},
   "outputs": [],
   "source": []
  }
 ],
 "metadata": {
  "kernelspec": {
   "display_name": "Python 3",
   "language": "python",
   "name": "python3"
  },
  "language_info": {
   "codemirror_mode": {
    "name": "ipython",
    "version": 3
   },
   "file_extension": ".py",
   "mimetype": "text/x-python",
   "name": "python",
   "nbconvert_exporter": "python",
   "pygments_lexer": "ipython3",
   "version": "3.7.4"
  }
 },
 "nbformat": 4,
 "nbformat_minor": 2
}
