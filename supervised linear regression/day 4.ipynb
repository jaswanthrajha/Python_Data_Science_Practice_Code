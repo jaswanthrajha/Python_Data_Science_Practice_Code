{
 "cells": [
  {
   "cell_type": "code",
   "execution_count": 1,
   "metadata": {},
   "outputs": [],
   "source": [
    "import numpy as np\n",
    "import pandas as pd\n",
    "import matplotlib.pyplot as plt\n",
    "import seaborn as sns"
   ]
  },
  {
   "cell_type": "code",
   "execution_count": 7,
   "metadata": {},
   "outputs": [],
   "source": [
    "from sklearn.datasets import load_boston\n",
    "boston = load_boston()\n",
    "bos = pd.DataFrame(boston.data,columns=boston.feature_names)\n",
    "bos['Price']=boston.target\n",
    "\n",
    "bos = bos.sample(frac = 1,random_state=3)\n",
    "\n",
    "y = bos.Price\n",
    "x = bos.drop(['Price'],axis=1)"
   ]
  },
  {
   "cell_type": "code",
   "execution_count": 8,
   "metadata": {},
   "outputs": [],
   "source": [
    "from sklearn.linear_model import Lasso, LassoCV,Ridge, RidgeCV, ElasticNet,ElasticNetCV"
   ]
  },
  {
   "cell_type": "code",
   "execution_count": 11,
   "metadata": {},
   "outputs": [
    {
     "data": {
      "text/plain": [
       "array([-0.09789363,  0.04921111, -0.03661906,  0.95519003, -0.        ,\n",
       "        3.70320175, -0.01003698, -1.16053834,  0.27470721, -0.01457017,\n",
       "       -0.77065434,  0.01024917, -0.56876914])"
      ]
     },
     "execution_count": 11,
     "metadata": {},
     "output_type": "execute_result"
    }
   ],
   "source": [
    "lasso = Lasso(alpha=0.1)\n",
    "lasso.fit(x,y)\n",
    "lasso.coef_"
   ]
  },
  {
   "cell_type": "code",
   "execution_count": 12,
   "metadata": {},
   "outputs": [
    {
     "data": {
      "text/html": [
       "<div>\n",
       "<style scoped>\n",
       "    .dataframe tbody tr th:only-of-type {\n",
       "        vertical-align: middle;\n",
       "    }\n",
       "\n",
       "    .dataframe tbody tr th {\n",
       "        vertical-align: top;\n",
       "    }\n",
       "\n",
       "    .dataframe thead th {\n",
       "        text-align: right;\n",
       "    }\n",
       "</style>\n",
       "<table border=\"1\" class=\"dataframe\">\n",
       "  <thead>\n",
       "    <tr style=\"text-align: right;\">\n",
       "      <th></th>\n",
       "      <th>coefs</th>\n",
       "    </tr>\n",
       "  </thead>\n",
       "  <tbody>\n",
       "    <tr>\n",
       "      <td>CRIM</td>\n",
       "      <td>-0.097894</td>\n",
       "    </tr>\n",
       "    <tr>\n",
       "      <td>ZN</td>\n",
       "      <td>0.049211</td>\n",
       "    </tr>\n",
       "    <tr>\n",
       "      <td>INDUS</td>\n",
       "      <td>-0.036619</td>\n",
       "    </tr>\n",
       "    <tr>\n",
       "      <td>CHAS</td>\n",
       "      <td>0.955190</td>\n",
       "    </tr>\n",
       "    <tr>\n",
       "      <td>NOX</td>\n",
       "      <td>-0.000000</td>\n",
       "    </tr>\n",
       "    <tr>\n",
       "      <td>RM</td>\n",
       "      <td>3.703202</td>\n",
       "    </tr>\n",
       "    <tr>\n",
       "      <td>AGE</td>\n",
       "      <td>-0.010037</td>\n",
       "    </tr>\n",
       "    <tr>\n",
       "      <td>DIS</td>\n",
       "      <td>-1.160538</td>\n",
       "    </tr>\n",
       "    <tr>\n",
       "      <td>RAD</td>\n",
       "      <td>0.274707</td>\n",
       "    </tr>\n",
       "    <tr>\n",
       "      <td>TAX</td>\n",
       "      <td>-0.014570</td>\n",
       "    </tr>\n",
       "    <tr>\n",
       "      <td>PTRATIO</td>\n",
       "      <td>-0.770654</td>\n",
       "    </tr>\n",
       "    <tr>\n",
       "      <td>B</td>\n",
       "      <td>0.010249</td>\n",
       "    </tr>\n",
       "    <tr>\n",
       "      <td>LSTAT</td>\n",
       "      <td>-0.568769</td>\n",
       "    </tr>\n",
       "  </tbody>\n",
       "</table>\n",
       "</div>"
      ],
      "text/plain": [
       "            coefs\n",
       "CRIM    -0.097894\n",
       "ZN       0.049211\n",
       "INDUS   -0.036619\n",
       "CHAS     0.955190\n",
       "NOX     -0.000000\n",
       "RM       3.703202\n",
       "AGE     -0.010037\n",
       "DIS     -1.160538\n",
       "RAD      0.274707\n",
       "TAX     -0.014570\n",
       "PTRATIO -0.770654\n",
       "B        0.010249\n",
       "LSTAT   -0.568769"
      ]
     },
     "execution_count": 12,
     "metadata": {},
     "output_type": "execute_result"
    }
   ],
   "source": [
    "pd.DataFrame(lasso.coef_,index=x.columns,columns=['coefs'])"
   ]
  },
  {
   "cell_type": "code",
   "execution_count": 16,
   "metadata": {},
   "outputs": [
    {
     "data": {
      "image/png": "[encoded data removed]",
      "text/plain": [
       "<Figure size 432x288 with 1 Axes>"
      ]
     },
     "metadata": {
      "needs_background": "light"
     },
     "output_type": "display_data"
    }
   ],
   "source": [
    "alphas = np.linspace(0.01,1,100)\n",
    "coefs = []\n",
    "for a in alphas:\n",
    "    \n",
    "    lasso = Lasso(alpha=a)\n",
    "    lasso.fit(x,y)\n",
    "    coefs.append(lasso.coef_)\n",
    "    \n",
    "plt.plot(coefs)\n",
    "plt.show()"
   ]
  },
  {
   "cell_type": "markdown",
   "metadata": {},
   "source": [
    "the figure above illustrate thr behaviour of lasso regularization we increase the alpha it is setting more and more coefficents to zero"
   ]
  },
  {
   "cell_type": "markdown",
   "metadata": {},
   "source": [
    "#   hyperparameter tuning to find the best alpha (penalty term) for this data"
   ]
  },
  {
   "cell_type": "code",
   "execution_count": 19,
   "metadata": {},
   "outputs": [],
   "source": [
    "x[\"CRIM1\"]=np.square(x[\"CRIM\"])\n",
    "x[\"CRIM2\"]=(x[\"CRIM\"]**3)\n",
    "x[\"CRIM4\"]=(x[\"CRIM\"]**4)\n",
    "\n",
    "x[\"AGE1\"]=np.square(x[\"AGE\"])\n",
    "x[\"AGE3\"]=(x[\"AGE\"]**3)\n",
    "x[\"AGE4\"]=(x[\"AGE\"]**4)"
   ]
  },
  {
   "cell_type": "code",
   "execution_count": 26,
   "metadata": {},
   "outputs": [
    {
     "name": "stderr",
     "output_type": "stream",
     "text": [
      "C:\\Users\\dell\\Anaconda3\\lib\\site-packages\\sklearn\\linear_model\\coordinate_descent.py:471: ConvergenceWarning: Objective did not converge. You might want to increase the number of iterations. Duality gap: 5483.789943107773, tolerance: 2.905135560830861\n",
      "  tol, rng, random, positive)\n",
      "C:\\Users\\dell\\Anaconda3\\lib\\site-packages\\sklearn\\linear_model\\coordinate_descent.py:471: ConvergenceWarning: Objective did not converge. You might want to increase the number of iterations. Duality gap: 5467.101468474801, tolerance: 2.905135560830861\n",
      "  tol, rng, random, positive)\n",
      "C:\\Users\\dell\\Anaconda3\\lib\\site-packages\\sklearn\\linear_model\\coordinate_descent.py:471: ConvergenceWarning: Objective did not converge. You might want to increase the number of iterations. Duality gap: 5450.350557255859, tolerance: 2.905135560830861\n",
      "  tol, rng, random, positive)\n",
      "C:\\Users\\dell\\Anaconda3\\lib\\site-packages\\sklearn\\linear_model\\coordinate_descent.py:471: ConvergenceWarning: Objective did not converge. You might want to increase the number of iterations. Duality gap: 5431.830216748879, tolerance: 2.905135560830861\n",
      "  tol, rng, random, positive)\n",
      "C:\\Users\\dell\\Anaconda3\\lib\\site-packages\\sklearn\\linear_model\\coordinate_descent.py:471: ConvergenceWarning: Objective did not converge. You might want to increase the number of iterations. Duality gap: 5410.748398471393, tolerance: 2.905135560830861\n",
      "  tol, rng, random, positive)\n",
      "C:\\Users\\dell\\Anaconda3\\lib\\site-packages\\sklearn\\linear_model\\coordinate_descent.py:471: ConvergenceWarning: Objective did not converge. You might want to increase the number of iterations. Duality gap: 5386.366950742147, tolerance: 2.905135560830861\n",
      "  tol, rng, random, positive)\n",
      "C:\\Users\\dell\\Anaconda3\\lib\\site-packages\\sklearn\\linear_model\\coordinate_descent.py:471: ConvergenceWarning: Objective did not converge. You might want to increase the number of iterations. Duality gap: 5357.8976572738675, tolerance: 2.905135560830861\n",
      "  tol, rng, random, positive)\n",
      "C:\\Users\\dell\\Anaconda3\\lib\\site-packages\\sklearn\\linear_model\\coordinate_descent.py:471: ConvergenceWarning: Objective did not converge. You might want to increase the number of iterations. Duality gap: 5324.505887916212, tolerance: 2.905135560830861\n",
      "  tol, rng, random, positive)\n",
      "C:\\Users\\dell\\Anaconda3\\lib\\site-packages\\sklearn\\linear_model\\coordinate_descent.py:471: ConvergenceWarning: Objective did not converge. You might want to increase the number of iterations. Duality gap: 5285.358844590731, tolerance: 2.905135560830861\n",
      "  tol, rng, random, positive)\n",
      "C:\\Users\\dell\\Anaconda3\\lib\\site-packages\\sklearn\\linear_model\\coordinate_descent.py:471: ConvergenceWarning: Objective did not converge. You might want to increase the number of iterations. Duality gap: 5239.7183221143905, tolerance: 2.905135560830861\n",
      "  tol, rng, random, positive)\n",
      "C:\\Users\\dell\\Anaconda3\\lib\\site-packages\\sklearn\\linear_model\\coordinate_descent.py:471: ConvergenceWarning: Objective did not converge. You might want to increase the number of iterations. Duality gap: 5187.079787228455, tolerance: 2.905135560830861\n",
      "  tol, rng, random, positive)\n",
      "C:\\Users\\dell\\Anaconda3\\lib\\site-packages\\sklearn\\linear_model\\coordinate_descent.py:471: ConvergenceWarning: Objective did not converge. You might want to increase the number of iterations. Duality gap: 5127.347164732965, tolerance: 2.905135560830861\n",
      "  tol, rng, random, positive)\n",
      "C:\\Users\\dell\\Anaconda3\\lib\\site-packages\\sklearn\\linear_model\\coordinate_descent.py:471: ConvergenceWarning: Objective did not converge. You might want to increase the number of iterations. Duality gap: 5061.01111859109, tolerance: 2.905135560830861\n",
      "  tol, rng, random, positive)\n",
      "C:\\Users\\dell\\Anaconda3\\lib\\site-packages\\sklearn\\linear_model\\coordinate_descent.py:471: ConvergenceWarning: Objective did not converge. You might want to increase the number of iterations. Duality gap: 4989.274811477077, tolerance: 2.905135560830861\n",
      "  tol, rng, random, positive)\n",
      "C:\\Users\\dell\\Anaconda3\\lib\\site-packages\\sklearn\\linear_model\\coordinate_descent.py:471: ConvergenceWarning: Objective did not converge. You might want to increase the number of iterations. Duality gap: 4914.0602681260825, tolerance: 2.905135560830861\n",
      "  tol, rng, random, positive)\n",
      "C:\\Users\\dell\\Anaconda3\\lib\\site-packages\\sklearn\\linear_model\\coordinate_descent.py:471: ConvergenceWarning: Objective did not converge. You might want to increase the number of iterations. Duality gap: 4837.848307344543, tolerance: 2.905135560830861\n",
      "  tol, rng, random, positive)\n",
      "C:\\Users\\dell\\Anaconda3\\lib\\site-packages\\sklearn\\linear_model\\coordinate_descent.py:471: ConvergenceWarning: Objective did not converge. You might want to increase the number of iterations. Duality gap: 4763.360477365767, tolerance: 2.905135560830861\n",
      "  tol, rng, random, positive)\n",
      "C:\\Users\\dell\\Anaconda3\\lib\\site-packages\\sklearn\\linear_model\\coordinate_descent.py:471: ConvergenceWarning: Objective did not converge. You might want to increase the number of iterations. Duality gap: 4693.160371140071, tolerance: 2.905135560830861\n",
      "  tol, rng, random, positive)\n",
      "C:\\Users\\dell\\Anaconda3\\lib\\site-packages\\sklearn\\linear_model\\coordinate_descent.py:471: ConvergenceWarning: Objective did not converge. You might want to increase the number of iterations. Duality gap: 4629.292713102397, tolerance: 2.905135560830861\n",
      "  tol, rng, random, positive)\n",
      "C:\\Users\\dell\\Anaconda3\\lib\\site-packages\\sklearn\\linear_model\\coordinate_descent.py:471: ConvergenceWarning: Objective did not converge. You might want to increase the number of iterations. Duality gap: 4573.06263675042, tolerance: 2.905135560830861\n",
      "  tol, rng, random, positive)\n",
      "C:\\Users\\dell\\Anaconda3\\lib\\site-packages\\sklearn\\linear_model\\coordinate_descent.py:471: ConvergenceWarning: Objective did not converge. You might want to increase the number of iterations. Duality gap: 4524.994785105859, tolerance: 2.905135560830861\n",
      "  tol, rng, random, positive)\n",
      "C:\\Users\\dell\\Anaconda3\\lib\\site-packages\\sklearn\\linear_model\\coordinate_descent.py:471: ConvergenceWarning: Objective did not converge. You might want to increase the number of iterations. Duality gap: 4484.942762947796, tolerance: 2.905135560830861\n",
      "  tol, rng, random, positive)\n",
      "C:\\Users\\dell\\Anaconda3\\lib\\site-packages\\sklearn\\linear_model\\coordinate_descent.py:471: ConvergenceWarning: Objective did not converge. You might want to increase the number of iterations. Duality gap: 4452.280526784313, tolerance: 2.905135560830861\n",
      "  tol, rng, random, positive)\n",
      "C:\\Users\\dell\\Anaconda3\\lib\\site-packages\\sklearn\\linear_model\\coordinate_descent.py:471: ConvergenceWarning: Objective did not converge. You might want to increase the number of iterations. Duality gap: 4426.106856834335, tolerance: 2.905135560830861\n",
      "  tol, rng, random, positive)\n",
      "C:\\Users\\dell\\Anaconda3\\lib\\site-packages\\sklearn\\linear_model\\coordinate_descent.py:471: ConvergenceWarning: Objective did not converge. You might want to increase the number of iterations. Duality gap: 4405.4173385189415, tolerance: 2.905135560830861\n",
      "  tol, rng, random, positive)\n",
      "C:\\Users\\dell\\Anaconda3\\lib\\site-packages\\sklearn\\linear_model\\coordinate_descent.py:471: ConvergenceWarning: Objective did not converge. You might want to increase the number of iterations. Duality gap: 4389.225572803616, tolerance: 2.905135560830861\n",
      "  tol, rng, random, positive)\n",
      "C:\\Users\\dell\\Anaconda3\\lib\\site-packages\\sklearn\\linear_model\\coordinate_descent.py:471: ConvergenceWarning: Objective did not converge. You might want to increase the number of iterations. Duality gap: 4376.634931394059, tolerance: 2.905135560830861\n",
      "  tol, rng, random, positive)\n",
      "C:\\Users\\dell\\Anaconda3\\lib\\site-packages\\sklearn\\linear_model\\coordinate_descent.py:471: ConvergenceWarning: Objective did not converge. You might want to increase the number of iterations. Duality gap: 4366.871651859787, tolerance: 2.905135560830861\n",
      "  tol, rng, random, positive)\n",
      "C:\\Users\\dell\\Anaconda3\\lib\\site-packages\\sklearn\\linear_model\\coordinate_descent.py:471: ConvergenceWarning: Objective did not converge. You might want to increase the number of iterations. Duality gap: 4359.292035808095, tolerance: 2.905135560830861\n",
      "  tol, rng, random, positive)\n",
      "C:\\Users\\dell\\Anaconda3\\lib\\site-packages\\sklearn\\linear_model\\coordinate_descent.py:471: ConvergenceWarning: Objective did not converge. You might want to increase the number of iterations. Duality gap: 4353.374624496078, tolerance: 2.905135560830861\n",
      "  tol, rng, random, positive)\n",
      "C:\\Users\\dell\\Anaconda3\\lib\\site-packages\\sklearn\\linear_model\\coordinate_descent.py:471: ConvergenceWarning: Objective did not converge. You might want to increase the number of iterations. Duality gap: 4348.705172989647, tolerance: 2.905135560830861\n",
      "  tol, rng, random, positive)\n",
      "C:\\Users\\dell\\Anaconda3\\lib\\site-packages\\sklearn\\linear_model\\coordinate_descent.py:471: ConvergenceWarning: Objective did not converge. You might want to increase the number of iterations. Duality gap: 4344.959355733855, tolerance: 2.905135560830861\n",
      "  tol, rng, random, positive)\n",
      "C:\\Users\\dell\\Anaconda3\\lib\\site-packages\\sklearn\\linear_model\\coordinate_descent.py:471: ConvergenceWarning: Objective did not converge. You might want to increase the number of iterations. Duality gap: 4341.885998708942, tolerance: 2.905135560830861\n",
      "  tol, rng, random, positive)\n",
      "C:\\Users\\dell\\Anaconda3\\lib\\site-packages\\sklearn\\linear_model\\coordinate_descent.py:471: ConvergenceWarning: Objective did not converge. You might want to increase the number of iterations. Duality gap: 4339.2921876394275, tolerance: 2.905135560830861\n",
      "  tol, rng, random, positive)\n",
      "C:\\Users\\dell\\Anaconda3\\lib\\site-packages\\sklearn\\linear_model\\coordinate_descent.py:471: ConvergenceWarning: Objective did not converge. You might want to increase the number of iterations. Duality gap: 4337.030641678507, tolerance: 2.905135560830861\n",
      "  tol, rng, random, positive)\n",
      "C:\\Users\\dell\\Anaconda3\\lib\\site-packages\\sklearn\\linear_model\\coordinate_descent.py:471: ConvergenceWarning: Objective did not converge. You might want to increase the number of iterations. Duality gap: 4334.989457861657, tolerance: 2.905135560830861\n",
      "  tol, rng, random, positive)\n",
      "C:\\Users\\dell\\Anaconda3\\lib\\site-packages\\sklearn\\linear_model\\coordinate_descent.py:471: ConvergenceWarning: Objective did not converge. You might want to increase the number of iterations. Duality gap: 4333.083906110692, tolerance: 2.905135560830861\n",
      "  tol, rng, random, positive)\n",
      "C:\\Users\\dell\\Anaconda3\\lib\\site-packages\\sklearn\\linear_model\\coordinate_descent.py:471: ConvergenceWarning: Objective did not converge. You might want to increase the number of iterations. Duality gap: 4331.250000383572, tolerance: 2.905135560830861\n",
      "  tol, rng, random, positive)\n",
      "C:\\Users\\dell\\Anaconda3\\lib\\site-packages\\sklearn\\linear_model\\coordinate_descent.py:471: ConvergenceWarning: Objective did not converge. You might want to increase the number of iterations. Duality gap: 4329.4395221282, tolerance: 2.905135560830861\n",
      "  tol, rng, random, positive)\n",
      "C:\\Users\\dell\\Anaconda3\\lib\\site-packages\\sklearn\\linear_model\\coordinate_descent.py:471: ConvergenceWarning: Objective did not converge. You might want to increase the number of iterations. Duality gap: 4327.616176128097, tolerance: 2.905135560830861\n",
      "  tol, rng, random, positive)\n",
      "C:\\Users\\dell\\Anaconda3\\lib\\site-packages\\sklearn\\linear_model\\coordinate_descent.py:471: ConvergenceWarning: Objective did not converge. You might want to increase the number of iterations. Duality gap: 4325.752678930835, tolerance: 2.905135560830861\n",
      "  tol, rng, random, positive)\n",
      "C:\\Users\\dell\\Anaconda3\\lib\\site-packages\\sklearn\\linear_model\\coordinate_descent.py:471: ConvergenceWarning: Objective did not converge. You might want to increase the number of iterations. Duality gap: 4323.828530247625, tolerance: 2.905135560830861\n",
      "  tol, rng, random, positive)\n",
      "C:\\Users\\dell\\Anaconda3\\lib\\site-packages\\sklearn\\linear_model\\coordinate_descent.py:471: ConvergenceWarning: Objective did not converge. You might want to increase the number of iterations. Duality gap: 4321.828332965781, tolerance: 2.905135560830861\n",
      "  tol, rng, random, positive)\n",
      "C:\\Users\\dell\\Anaconda3\\lib\\site-packages\\sklearn\\linear_model\\coordinate_descent.py:471: ConvergenceWarning: Objective did not converge. You might want to increase the number of iterations. Duality gap: 4319.740522481101, tolerance: 2.905135560830861\n",
      "  tol, rng, random, positive)\n",
      "C:\\Users\\dell\\Anaconda3\\lib\\site-packages\\sklearn\\linear_model\\coordinate_descent.py:471: ConvergenceWarning: Objective did not converge. You might want to increase the number of iterations. Duality gap: 4317.556413185273, tolerance: 2.905135560830861\n",
      "  tol, rng, random, positive)\n",
      "C:\\Users\\dell\\Anaconda3\\lib\\site-packages\\sklearn\\linear_model\\coordinate_descent.py:471: ConvergenceWarning: Objective did not converge. You might want to increase the number of iterations. Duality gap: 4315.269477059297, tolerance: 2.905135560830861\n",
      "  tol, rng, random, positive)\n",
      "C:\\Users\\dell\\Anaconda3\\lib\\site-packages\\sklearn\\linear_model\\coordinate_descent.py:471: ConvergenceWarning: Objective did not converge. You might want to increase the number of iterations. Duality gap: 4312.874795027209, tolerance: 2.905135560830861\n",
      "  tol, rng, random, positive)\n",
      "C:\\Users\\dell\\Anaconda3\\lib\\site-packages\\sklearn\\linear_model\\coordinate_descent.py:471: ConvergenceWarning: Objective did not converge. You might want to increase the number of iterations. Duality gap: 4310.368673835181, tolerance: 2.905135560830861\n",
      "  tol, rng, random, positive)\n",
      "C:\\Users\\dell\\Anaconda3\\lib\\site-packages\\sklearn\\linear_model\\coordinate_descent.py:471: ConvergenceWarning: Objective did not converge. You might want to increase the number of iterations. Duality gap: 4307.748310988488, tolerance: 2.905135560830861\n",
      "  tol, rng, random, positive)\n",
      "C:\\Users\\dell\\Anaconda3\\lib\\site-packages\\sklearn\\linear_model\\coordinate_descent.py:471: ConvergenceWarning: Objective did not converge. You might want to increase the number of iterations. Duality gap: 4305.011590978089, tolerance: 2.905135560830861\n",
      "  tol, rng, random, positive)\n",
      "C:\\Users\\dell\\Anaconda3\\lib\\site-packages\\sklearn\\linear_model\\coordinate_descent.py:471: ConvergenceWarning: Objective did not converge. You might want to increase the number of iterations. Duality gap: 4302.156906239777, tolerance: 2.905135560830861\n",
      "  tol, rng, random, positive)\n",
      "C:\\Users\\dell\\Anaconda3\\lib\\site-packages\\sklearn\\linear_model\\coordinate_descent.py:471: ConvergenceWarning: Objective did not converge. You might want to increase the number of iterations. Duality gap: 4299.183025041609, tolerance: 2.905135560830861\n",
      "  tol, rng, random, positive)\n",
      "C:\\Users\\dell\\Anaconda3\\lib\\site-packages\\sklearn\\linear_model\\coordinate_descent.py:471: ConvergenceWarning: Objective did not converge. You might want to increase the number of iterations. Duality gap: 4296.08901044275, tolerance: 2.905135560830861\n",
      "  tol, rng, random, positive)\n",
      "C:\\Users\\dell\\Anaconda3\\lib\\site-packages\\sklearn\\linear_model\\coordinate_descent.py:471: ConvergenceWarning: Objective did not converge. You might want to increase the number of iterations. Duality gap: 4292.874123628926, tolerance: 2.905135560830861\n",
      "  tol, rng, random, positive)\n",
      "C:\\Users\\dell\\Anaconda3\\lib\\site-packages\\sklearn\\linear_model\\coordinate_descent.py:471: ConvergenceWarning: Objective did not converge. You might want to increase the number of iterations. Duality gap: 4289.537796961036, tolerance: 2.905135560830861\n",
      "  tol, rng, random, positive)\n",
      "C:\\Users\\dell\\Anaconda3\\lib\\site-packages\\sklearn\\linear_model\\coordinate_descent.py:471: ConvergenceWarning: Objective did not converge. You might want to increase the number of iterations. Duality gap: 4286.0795755521995, tolerance: 2.905135560830861\n",
      "  tol, rng, random, positive)\n",
      "C:\\Users\\dell\\Anaconda3\\lib\\site-packages\\sklearn\\linear_model\\coordinate_descent.py:471: ConvergenceWarning: Objective did not converge. You might want to increase the number of iterations. Duality gap: 4282.499100282561, tolerance: 2.905135560830861\n",
      "  tol, rng, random, positive)\n",
      "C:\\Users\\dell\\Anaconda3\\lib\\site-packages\\sklearn\\linear_model\\coordinate_descent.py:471: ConvergenceWarning: Objective did not converge. You might want to increase the number of iterations. Duality gap: 4278.796075985372, tolerance: 2.905135560830861\n",
      "  tol, rng, random, positive)\n",
      "C:\\Users\\dell\\Anaconda3\\lib\\site-packages\\sklearn\\linear_model\\coordinate_descent.py:471: ConvergenceWarning: Objective did not converge. You might want to increase the number of iterations. Duality gap: 4274.970250786315, tolerance: 2.905135560830861\n",
      "  tol, rng, random, positive)\n",
      "C:\\Users\\dell\\Anaconda3\\lib\\site-packages\\sklearn\\linear_model\\coordinate_descent.py:471: ConvergenceWarning: Objective did not converge. You might want to increase the number of iterations. Duality gap: 4271.021424207817, tolerance: 2.905135560830861\n",
      "  tol, rng, random, positive)\n",
      "C:\\Users\\dell\\Anaconda3\\lib\\site-packages\\sklearn\\linear_model\\coordinate_descent.py:471: ConvergenceWarning: Objective did not converge. You might want to increase the number of iterations. Duality gap: 4266.949417016765, tolerance: 2.905135560830861\n",
      "  tol, rng, random, positive)\n",
      "C:\\Users\\dell\\Anaconda3\\lib\\site-packages\\sklearn\\linear_model\\coordinate_descent.py:471: ConvergenceWarning: Objective did not converge. You might want to increase the number of iterations. Duality gap: 4262.754070033473, tolerance: 2.905135560830861\n",
      "  tol, rng, random, positive)\n",
      "C:\\Users\\dell\\Anaconda3\\lib\\site-packages\\sklearn\\linear_model\\coordinate_descent.py:471: ConvergenceWarning: Objective did not converge. You might want to increase the number of iterations. Duality gap: 4258.435243621534, tolerance: 2.905135560830861\n",
      "  tol, rng, random, positive)\n",
      "C:\\Users\\dell\\Anaconda3\\lib\\site-packages\\sklearn\\linear_model\\coordinate_descent.py:471: ConvergenceWarning: Objective did not converge. You might want to increase the number of iterations. Duality gap: 4253.992814545878, tolerance: 2.905135560830861\n",
      "  tol, rng, random, positive)\n",
      "C:\\Users\\dell\\Anaconda3\\lib\\site-packages\\sklearn\\linear_model\\coordinate_descent.py:471: ConvergenceWarning: Objective did not converge. You might want to increase the number of iterations. Duality gap: 4249.426659330457, tolerance: 2.905135560830861\n",
      "  tol, rng, random, positive)\n",
      "C:\\Users\\dell\\Anaconda3\\lib\\site-packages\\sklearn\\linear_model\\coordinate_descent.py:471: ConvergenceWarning: Objective did not converge. You might want to increase the number of iterations. Duality gap: 4244.736674304927, tolerance: 2.905135560830861\n",
      "  tol, rng, random, positive)\n",
      "C:\\Users\\dell\\Anaconda3\\lib\\site-packages\\sklearn\\linear_model\\coordinate_descent.py:471: ConvergenceWarning: Objective did not converge. You might want to increase the number of iterations. Duality gap: 4239.922751120991, tolerance: 2.905135560830861\n",
      "  tol, rng, random, positive)\n",
      "C:\\Users\\dell\\Anaconda3\\lib\\site-packages\\sklearn\\linear_model\\coordinate_descent.py:471: ConvergenceWarning: Objective did not converge. You might want to increase the number of iterations. Duality gap: 4234.984792606598, tolerance: 2.905135560830861\n",
      "  tol, rng, random, positive)\n",
      "C:\\Users\\dell\\Anaconda3\\lib\\site-packages\\sklearn\\linear_model\\coordinate_descent.py:471: ConvergenceWarning: Objective did not converge. You might want to increase the number of iterations. Duality gap: 4229.922704015281, tolerance: 2.905135560830861\n",
      "  tol, rng, random, positive)\n",
      "C:\\Users\\dell\\Anaconda3\\lib\\site-packages\\sklearn\\linear_model\\coordinate_descent.py:471: ConvergenceWarning: Objective did not converge. You might want to increase the number of iterations. Duality gap: 4209.387323711653, tolerance: 2.905135560830861\n",
      "  tol, rng, random, positive)\n",
      "C:\\Users\\dell\\Anaconda3\\lib\\site-packages\\sklearn\\linear_model\\coordinate_descent.py:471: ConvergenceWarning: Objective did not converge. You might want to increase the number of iterations. Duality gap: 4344.423737435234, tolerance: 2.905135560830861\n",
      "  tol, rng, random, positive)\n",
      "C:\\Users\\dell\\Anaconda3\\lib\\site-packages\\sklearn\\linear_model\\coordinate_descent.py:471: ConvergenceWarning: Objective did not converge. You might want to increase the number of iterations. Duality gap: 4409.476556025575, tolerance: 2.905135560830861\n",
      "  tol, rng, random, positive)\n",
      "C:\\Users\\dell\\Anaconda3\\lib\\site-packages\\sklearn\\linear_model\\coordinate_descent.py:471: ConvergenceWarning: Objective did not converge. You might want to increase the number of iterations. Duality gap: 4441.12665387982, tolerance: 2.905135560830861\n",
      "  tol, rng, random, positive)\n",
      "C:\\Users\\dell\\Anaconda3\\lib\\site-packages\\sklearn\\linear_model\\coordinate_descent.py:471: ConvergenceWarning: Objective did not converge. You might want to increase the number of iterations. Duality gap: 4455.277571234824, tolerance: 2.905135560830861\n",
      "  tol, rng, random, positive)\n",
      "C:\\Users\\dell\\Anaconda3\\lib\\site-packages\\sklearn\\linear_model\\coordinate_descent.py:471: ConvergenceWarning: Objective did not converge. You might want to increase the number of iterations. Duality gap: 4459.414923241738, tolerance: 2.905135560830861\n",
      "  tol, rng, random, positive)\n",
      "C:\\Users\\dell\\Anaconda3\\lib\\site-packages\\sklearn\\linear_model\\coordinate_descent.py:471: ConvergenceWarning: Objective did not converge. You might want to increase the number of iterations. Duality gap: 4457.38220648573, tolerance: 2.905135560830861\n",
      "  tol, rng, random, positive)\n",
      "C:\\Users\\dell\\Anaconda3\\lib\\site-packages\\sklearn\\linear_model\\coordinate_descent.py:471: ConvergenceWarning: Objective did not converge. You might want to increase the number of iterations. Duality gap: 4451.307964292866, tolerance: 2.905135560830861\n",
      "  tol, rng, random, positive)\n",
      "C:\\Users\\dell\\Anaconda3\\lib\\site-packages\\sklearn\\linear_model\\coordinate_descent.py:471: ConvergenceWarning: Objective did not converge. You might want to increase the number of iterations. Duality gap: 4442.447701309571, tolerance: 2.905135560830861\n",
      "  tol, rng, random, positive)\n",
      "C:\\Users\\dell\\Anaconda3\\lib\\site-packages\\sklearn\\linear_model\\coordinate_descent.py:471: ConvergenceWarning: Objective did not converge. You might want to increase the number of iterations. Duality gap: 4431.581679514542, tolerance: 2.905135560830861\n",
      "  tol, rng, random, positive)\n",
      "C:\\Users\\dell\\Anaconda3\\lib\\site-packages\\sklearn\\linear_model\\coordinate_descent.py:471: ConvergenceWarning: Objective did not converge. You might want to increase the number of iterations. Duality gap: 4419.2163374459815, tolerance: 2.905135560830861\n",
      "  tol, rng, random, positive)\n",
      "C:\\Users\\dell\\Anaconda3\\lib\\site-packages\\sklearn\\linear_model\\coordinate_descent.py:471: ConvergenceWarning: Objective did not converge. You might want to increase the number of iterations. Duality gap: 4405.692535284493, tolerance: 2.905135560830861\n",
      "  tol, rng, random, positive)\n",
      "C:\\Users\\dell\\Anaconda3\\lib\\site-packages\\sklearn\\linear_model\\coordinate_descent.py:471: ConvergenceWarning: Objective did not converge. You might want to increase the number of iterations. Duality gap: 4391.246781941796, tolerance: 2.905135560830861\n",
      "  tol, rng, random, positive)\n",
      "C:\\Users\\dell\\Anaconda3\\lib\\site-packages\\sklearn\\linear_model\\coordinate_descent.py:471: ConvergenceWarning: Objective did not converge. You might want to increase the number of iterations. Duality gap: 4376.047432386622, tolerance: 2.905135560830861\n",
      "  tol, rng, random, positive)\n",
      "C:\\Users\\dell\\Anaconda3\\lib\\site-packages\\sklearn\\linear_model\\coordinate_descent.py:471: ConvergenceWarning: Objective did not converge. You might want to increase the number of iterations. Duality gap: 4355.006142130205, tolerance: 2.905135560830861\n",
      "  tol, rng, random, positive)\n",
      "C:\\Users\\dell\\Anaconda3\\lib\\site-packages\\sklearn\\linear_model\\coordinate_descent.py:471: ConvergenceWarning: Objective did not converge. You might want to increase the number of iterations. Duality gap: 4332.790191223303, tolerance: 2.905135560830861\n",
      "  tol, rng, random, positive)\n",
      "C:\\Users\\dell\\Anaconda3\\lib\\site-packages\\sklearn\\linear_model\\coordinate_descent.py:471: ConvergenceWarning: Objective did not converge. You might want to increase the number of iterations. Duality gap: 4307.955442476124, tolerance: 2.905135560830861\n",
      "  tol, rng, random, positive)\n",
      "C:\\Users\\dell\\Anaconda3\\lib\\site-packages\\sklearn\\linear_model\\coordinate_descent.py:471: ConvergenceWarning: Objective did not converge. You might want to increase the number of iterations. Duality gap: 4284.86000589299, tolerance: 2.905135560830861\n",
      "  tol, rng, random, positive)\n",
      "C:\\Users\\dell\\Anaconda3\\lib\\site-packages\\sklearn\\linear_model\\coordinate_descent.py:471: ConvergenceWarning: Objective did not converge. You might want to increase the number of iterations. Duality gap: 4263.435096509885, tolerance: 2.905135560830861\n",
      "  tol, rng, random, positive)\n",
      "C:\\Users\\dell\\Anaconda3\\lib\\site-packages\\sklearn\\linear_model\\coordinate_descent.py:471: ConvergenceWarning: Objective did not converge. You might want to increase the number of iterations. Duality gap: 4243.242747433411, tolerance: 2.905135560830861\n",
      "  tol, rng, random, positive)\n",
      "C:\\Users\\dell\\Anaconda3\\lib\\site-packages\\sklearn\\linear_model\\coordinate_descent.py:471: ConvergenceWarning: Objective did not converge. You might want to increase the number of iterations. Duality gap: 4223.713134581136, tolerance: 2.905135560830861\n",
      "  tol, rng, random, positive)\n",
      "C:\\Users\\dell\\Anaconda3\\lib\\site-packages\\sklearn\\linear_model\\coordinate_descent.py:471: ConvergenceWarning: Objective did not converge. You might want to increase the number of iterations. Duality gap: 4204.282890375726, tolerance: 2.905135560830861\n",
      "  tol, rng, random, positive)\n",
      "C:\\Users\\dell\\Anaconda3\\lib\\site-packages\\sklearn\\linear_model\\coordinate_descent.py:471: ConvergenceWarning: Objective did not converge. You might want to increase the number of iterations. Duality gap: 4184.541706909261, tolerance: 2.905135560830861\n",
      "  tol, rng, random, positive)\n",
      "C:\\Users\\dell\\Anaconda3\\lib\\site-packages\\sklearn\\linear_model\\coordinate_descent.py:471: ConvergenceWarning: Objective did not converge. You might want to increase the number of iterations. Duality gap: 4164.373736893768, tolerance: 2.905135560830861\n",
      "  tol, rng, random, positive)\n",
      "C:\\Users\\dell\\Anaconda3\\lib\\site-packages\\sklearn\\linear_model\\coordinate_descent.py:471: ConvergenceWarning: Objective did not converge. You might want to increase the number of iterations. Duality gap: 4143.570111942389, tolerance: 2.905135560830861\n",
      "  tol, rng, random, positive)\n",
      "C:\\Users\\dell\\Anaconda3\\lib\\site-packages\\sklearn\\linear_model\\coordinate_descent.py:471: ConvergenceWarning: Objective did not converge. You might want to increase the number of iterations. Duality gap: 4122.034226528306, tolerance: 2.905135560830861\n",
      "  tol, rng, random, positive)\n",
      "C:\\Users\\dell\\Anaconda3\\lib\\site-packages\\sklearn\\linear_model\\coordinate_descent.py:471: ConvergenceWarning: Objective did not converge. You might want to increase the number of iterations. Duality gap: 4099.72142882092, tolerance: 2.905135560830861\n",
      "  tol, rng, random, positive)\n",
      "C:\\Users\\dell\\Anaconda3\\lib\\site-packages\\sklearn\\linear_model\\coordinate_descent.py:471: ConvergenceWarning: Objective did not converge. You might want to increase the number of iterations. Duality gap: 4076.619016094692, tolerance: 2.905135560830861\n",
      "  tol, rng, random, positive)\n",
      "C:\\Users\\dell\\Anaconda3\\lib\\site-packages\\sklearn\\linear_model\\coordinate_descent.py:471: ConvergenceWarning: Objective did not converge. You might want to increase the number of iterations. Duality gap: 4052.7308118969995, tolerance: 2.905135560830861\n",
      "  tol, rng, random, positive)\n",
      "C:\\Users\\dell\\Anaconda3\\lib\\site-packages\\sklearn\\linear_model\\coordinate_descent.py:471: ConvergenceWarning: Objective did not converge. You might want to increase the number of iterations. Duality gap: 4028.069108096583, tolerance: 2.905135560830861\n",
      "  tol, rng, random, positive)\n",
      "C:\\Users\\dell\\Anaconda3\\lib\\site-packages\\sklearn\\linear_model\\coordinate_descent.py:471: ConvergenceWarning: Objective did not converge. You might want to increase the number of iterations. Duality gap: 4002.474888077259, tolerance: 2.905135560830861\n",
      "  tol, rng, random, positive)\n",
      "C:\\Users\\dell\\Anaconda3\\lib\\site-packages\\sklearn\\linear_model\\coordinate_descent.py:471: ConvergenceWarning: Objective did not converge. You might want to increase the number of iterations. Duality gap: 5614.787731262486, tolerance: 2.8375366587537094\n",
      "  tol, rng, random, positive)\n",
      "C:\\Users\\dell\\Anaconda3\\lib\\site-packages\\sklearn\\linear_model\\coordinate_descent.py:471: ConvergenceWarning: Objective did not converge. You might want to increase the number of iterations. Duality gap: 5597.097286014146, tolerance: 2.8375366587537094\n",
      "  tol, rng, random, positive)\n",
      "C:\\Users\\dell\\Anaconda3\\lib\\site-packages\\sklearn\\linear_model\\coordinate_descent.py:471: ConvergenceWarning: Objective did not converge. You might want to increase the number of iterations. Duality gap: 5579.4347276476565, tolerance: 2.8375366587537094\n",
      "  tol, rng, random, positive)\n",
      "C:\\Users\\dell\\Anaconda3\\lib\\site-packages\\sklearn\\linear_model\\coordinate_descent.py:471: ConvergenceWarning: Objective did not converge. You might want to increase the number of iterations. Duality gap: 5560.882936582691, tolerance: 2.8375366587537094\n",
      "  tol, rng, random, positive)\n",
      "C:\\Users\\dell\\Anaconda3\\lib\\site-packages\\sklearn\\linear_model\\coordinate_descent.py:471: ConvergenceWarning: Objective did not converge. You might want to increase the number of iterations. Duality gap: 5540.717215867452, tolerance: 2.8375366587537094\n",
      "  tol, rng, random, positive)\n",
      "C:\\Users\\dell\\Anaconda3\\lib\\site-packages\\sklearn\\linear_model\\coordinate_descent.py:471: ConvergenceWarning: Objective did not converge. You might want to increase the number of iterations. Duality gap: 5518.135124319001, tolerance: 2.8375366587537094\n",
      "  tol, rng, random, positive)\n",
      "C:\\Users\\dell\\Anaconda3\\lib\\site-packages\\sklearn\\linear_model\\coordinate_descent.py:471: ConvergenceWarning: Objective did not converge. You might want to increase the number of iterations. Duality gap: 5492.099641273475, tolerance: 2.8375366587537094\n",
      "  tol, rng, random, positive)\n",
      "C:\\Users\\dell\\Anaconda3\\lib\\site-packages\\sklearn\\linear_model\\coordinate_descent.py:471: ConvergenceWarning: Objective did not converge. You might want to increase the number of iterations. Duality gap: 5461.133879979789, tolerance: 2.8375366587537094\n",
      "  tol, rng, random, positive)\n",
      "C:\\Users\\dell\\Anaconda3\\lib\\site-packages\\sklearn\\linear_model\\coordinate_descent.py:471: ConvergenceWarning: Objective did not converge. You might want to increase the number of iterations. Duality gap: 5422.969520341784, tolerance: 2.8375366587537094\n",
      "  tol, rng, random, positive)\n"
     ]
    },
    {
     "name": "stderr",
     "output_type": "stream",
     "text": [
      "C:\\Users\\dell\\Anaconda3\\lib\\site-packages\\sklearn\\linear_model\\coordinate_descent.py:471: ConvergenceWarning: Objective did not converge. You might want to increase the number of iterations. Duality gap: 5373.859646820279, tolerance: 2.8375366587537094\n",
      "  tol, rng, random, positive)\n",
      "C:\\Users\\dell\\Anaconda3\\lib\\site-packages\\sklearn\\linear_model\\coordinate_descent.py:471: ConvergenceWarning: Objective did not converge. You might want to increase the number of iterations. Duality gap: 5307.070647867834, tolerance: 2.8375366587537094\n",
      "  tol, rng, random, positive)\n",
      "C:\\Users\\dell\\Anaconda3\\lib\\site-packages\\sklearn\\linear_model\\coordinate_descent.py:471: ConvergenceWarning: Objective did not converge. You might want to increase the number of iterations. Duality gap: 5209.088572615441, tolerance: 2.8375366587537094\n",
      "  tol, rng, random, positive)\n",
      "C:\\Users\\dell\\Anaconda3\\lib\\site-packages\\sklearn\\linear_model\\coordinate_descent.py:471: ConvergenceWarning: Objective did not converge. You might want to increase the number of iterations. Duality gap: 5048.102135548023, tolerance: 2.8375366587537094\n",
      "  tol, rng, random, positive)\n",
      "C:\\Users\\dell\\Anaconda3\\lib\\site-packages\\sklearn\\linear_model\\coordinate_descent.py:471: ConvergenceWarning: Objective did not converge. You might want to increase the number of iterations. Duality gap: 4727.017657443725, tolerance: 2.8375366587537094\n",
      "  tol, rng, random, positive)\n",
      "C:\\Users\\dell\\Anaconda3\\lib\\site-packages\\sklearn\\linear_model\\coordinate_descent.py:471: ConvergenceWarning: Objective did not converge. You might want to increase the number of iterations. Duality gap: 3742.0983804183406, tolerance: 2.8375366587537094\n",
      "  tol, rng, random, positive)\n",
      "C:\\Users\\dell\\Anaconda3\\lib\\site-packages\\sklearn\\linear_model\\coordinate_descent.py:471: ConvergenceWarning: Objective did not converge. You might want to increase the number of iterations. Duality gap: 34.38825546067892, tolerance: 2.8375366587537094\n",
      "  tol, rng, random, positive)\n",
      "C:\\Users\\dell\\Anaconda3\\lib\\site-packages\\sklearn\\linear_model\\coordinate_descent.py:471: ConvergenceWarning: Objective did not converge. You might want to increase the number of iterations. Duality gap: 3825.4232733817544, tolerance: 2.8375366587537094\n",
      "  tol, rng, random, positive)\n",
      "C:\\Users\\dell\\Anaconda3\\lib\\site-packages\\sklearn\\linear_model\\coordinate_descent.py:471: ConvergenceWarning: Objective did not converge. You might want to increase the number of iterations. Duality gap: 4438.1809002665095, tolerance: 2.8375366587537094\n",
      "  tol, rng, random, positive)\n",
      "C:\\Users\\dell\\Anaconda3\\lib\\site-packages\\sklearn\\linear_model\\coordinate_descent.py:471: ConvergenceWarning: Objective did not converge. You might want to increase the number of iterations. Duality gap: 4661.343400101788, tolerance: 2.8375366587537094\n",
      "  tol, rng, random, positive)\n",
      "C:\\Users\\dell\\Anaconda3\\lib\\site-packages\\sklearn\\linear_model\\coordinate_descent.py:471: ConvergenceWarning: Objective did not converge. You might want to increase the number of iterations. Duality gap: 4770.79705216773, tolerance: 2.8375366587537094\n",
      "  tol, rng, random, positive)\n",
      "C:\\Users\\dell\\Anaconda3\\lib\\site-packages\\sklearn\\linear_model\\coordinate_descent.py:471: ConvergenceWarning: Objective did not converge. You might want to increase the number of iterations. Duality gap: 4831.902381930415, tolerance: 2.8375366587537094\n",
      "  tol, rng, random, positive)\n",
      "C:\\Users\\dell\\Anaconda3\\lib\\site-packages\\sklearn\\linear_model\\coordinate_descent.py:471: ConvergenceWarning: Objective did not converge. You might want to increase the number of iterations. Duality gap: 4868.101551318348, tolerance: 2.8375366587537094\n",
      "  tol, rng, random, positive)\n",
      "C:\\Users\\dell\\Anaconda3\\lib\\site-packages\\sklearn\\linear_model\\coordinate_descent.py:471: ConvergenceWarning: Objective did not converge. You might want to increase the number of iterations. Duality gap: 4889.878202661952, tolerance: 2.8375366587537094\n",
      "  tol, rng, random, positive)\n",
      "C:\\Users\\dell\\Anaconda3\\lib\\site-packages\\sklearn\\linear_model\\coordinate_descent.py:471: ConvergenceWarning: Objective did not converge. You might want to increase the number of iterations. Duality gap: 4902.622900431161, tolerance: 2.8375366587537094\n",
      "  tol, rng, random, positive)\n",
      "C:\\Users\\dell\\Anaconda3\\lib\\site-packages\\sklearn\\linear_model\\coordinate_descent.py:471: ConvergenceWarning: Objective did not converge. You might want to increase the number of iterations. Duality gap: 4909.388181829974, tolerance: 2.8375366587537094\n",
      "  tol, rng, random, positive)\n",
      "C:\\Users\\dell\\Anaconda3\\lib\\site-packages\\sklearn\\linear_model\\coordinate_descent.py:471: ConvergenceWarning: Objective did not converge. You might want to increase the number of iterations. Duality gap: 4912.0285498058065, tolerance: 2.8375366587537094\n",
      "  tol, rng, random, positive)\n",
      "C:\\Users\\dell\\Anaconda3\\lib\\site-packages\\sklearn\\linear_model\\coordinate_descent.py:471: ConvergenceWarning: Objective did not converge. You might want to increase the number of iterations. Duality gap: 4911.731885231206, tolerance: 2.8375366587537094\n",
      "  tol, rng, random, positive)\n",
      "C:\\Users\\dell\\Anaconda3\\lib\\site-packages\\sklearn\\linear_model\\coordinate_descent.py:471: ConvergenceWarning: Objective did not converge. You might want to increase the number of iterations. Duality gap: 4909.290612050483, tolerance: 2.8375366587537094\n",
      "  tol, rng, random, positive)\n",
      "C:\\Users\\dell\\Anaconda3\\lib\\site-packages\\sklearn\\linear_model\\coordinate_descent.py:471: ConvergenceWarning: Objective did not converge. You might want to increase the number of iterations. Duality gap: 4905.250281998058, tolerance: 2.8375366587537094\n",
      "  tol, rng, random, positive)\n",
      "C:\\Users\\dell\\Anaconda3\\lib\\site-packages\\sklearn\\linear_model\\coordinate_descent.py:471: ConvergenceWarning: Objective did not converge. You might want to increase the number of iterations. Duality gap: 4899.9958566996265, tolerance: 2.8375366587537094\n",
      "  tol, rng, random, positive)\n",
      "C:\\Users\\dell\\Anaconda3\\lib\\site-packages\\sklearn\\linear_model\\coordinate_descent.py:471: ConvergenceWarning: Objective did not converge. You might want to increase the number of iterations. Duality gap: 4893.804277964468, tolerance: 2.8375366587537094\n",
      "  tol, rng, random, positive)\n",
      "C:\\Users\\dell\\Anaconda3\\lib\\site-packages\\sklearn\\linear_model\\coordinate_descent.py:471: ConvergenceWarning: Objective did not converge. You might want to increase the number of iterations. Duality gap: 4886.877819607302, tolerance: 2.8375366587537094\n",
      "  tol, rng, random, positive)\n",
      "C:\\Users\\dell\\Anaconda3\\lib\\site-packages\\sklearn\\linear_model\\coordinate_descent.py:471: ConvergenceWarning: Objective did not converge. You might want to increase the number of iterations. Duality gap: 4879.365989125003, tolerance: 2.8375366587537094\n",
      "  tol, rng, random, positive)\n",
      "C:\\Users\\dell\\Anaconda3\\lib\\site-packages\\sklearn\\linear_model\\coordinate_descent.py:471: ConvergenceWarning: Objective did not converge. You might want to increase the number of iterations. Duality gap: 4871.380327809787, tolerance: 2.8375366587537094\n",
      "  tol, rng, random, positive)\n",
      "C:\\Users\\dell\\Anaconda3\\lib\\site-packages\\sklearn\\linear_model\\coordinate_descent.py:471: ConvergenceWarning: Objective did not converge. You might want to increase the number of iterations. Duality gap: 4863.004660064954, tolerance: 2.8375366587537094\n",
      "  tol, rng, random, positive)\n",
      "C:\\Users\\dell\\Anaconda3\\lib\\site-packages\\sklearn\\linear_model\\coordinate_descent.py:471: ConvergenceWarning: Objective did not converge. You might want to increase the number of iterations. Duality gap: 4854.302343129332, tolerance: 2.8375366587537094\n",
      "  tol, rng, random, positive)\n",
      "C:\\Users\\dell\\Anaconda3\\lib\\site-packages\\sklearn\\linear_model\\coordinate_descent.py:471: ConvergenceWarning: Objective did not converge. You might want to increase the number of iterations. Duality gap: 4845.321477058862, tolerance: 2.8375366587537094\n",
      "  tol, rng, random, positive)\n",
      "C:\\Users\\dell\\Anaconda3\\lib\\site-packages\\sklearn\\linear_model\\coordinate_descent.py:471: ConvergenceWarning: Objective did not converge. You might want to increase the number of iterations. Duality gap: 4836.098705989596, tolerance: 2.8375366587537094\n",
      "  tol, rng, random, positive)\n",
      "C:\\Users\\dell\\Anaconda3\\lib\\site-packages\\sklearn\\linear_model\\coordinate_descent.py:471: ConvergenceWarning: Objective did not converge. You might want to increase the number of iterations. Duality gap: 4826.662020633938, tolerance: 2.8375366587537094\n",
      "  tol, rng, random, positive)\n",
      "C:\\Users\\dell\\Anaconda3\\lib\\site-packages\\sklearn\\linear_model\\coordinate_descent.py:471: ConvergenceWarning: Objective did not converge. You might want to increase the number of iterations. Duality gap: 4817.032849036868, tolerance: 2.8375366587537094\n",
      "  tol, rng, random, positive)\n",
      "C:\\Users\\dell\\Anaconda3\\lib\\site-packages\\sklearn\\linear_model\\coordinate_descent.py:471: ConvergenceWarning: Objective did not converge. You might want to increase the number of iterations. Duality gap: 4807.22761956109, tolerance: 2.8375366587537094\n",
      "  tol, rng, random, positive)\n",
      "C:\\Users\\dell\\Anaconda3\\lib\\site-packages\\sklearn\\linear_model\\coordinate_descent.py:471: ConvergenceWarning: Objective did not converge. You might want to increase the number of iterations. Duality gap: 4797.258944137753, tolerance: 2.8375366587537094\n",
      "  tol, rng, random, positive)\n",
      "C:\\Users\\dell\\Anaconda3\\lib\\site-packages\\sklearn\\linear_model\\coordinate_descent.py:471: ConvergenceWarning: Objective did not converge. You might want to increase the number of iterations. Duality gap: 4787.1365136483155, tolerance: 2.8375366587537094\n",
      "  tol, rng, random, positive)\n",
      "C:\\Users\\dell\\Anaconda3\\lib\\site-packages\\sklearn\\linear_model\\coordinate_descent.py:471: ConvergenceWarning: Objective did not converge. You might want to increase the number of iterations. Duality gap: 4776.867782005406, tolerance: 2.8375366587537094\n",
      "  tol, rng, random, positive)\n",
      "C:\\Users\\dell\\Anaconda3\\lib\\site-packages\\sklearn\\linear_model\\coordinate_descent.py:471: ConvergenceWarning: Objective did not converge. You might want to increase the number of iterations. Duality gap: 4766.458482212096, tolerance: 2.8375366587537094\n",
      "  tol, rng, random, positive)\n",
      "C:\\Users\\dell\\Anaconda3\\lib\\site-packages\\sklearn\\linear_model\\coordinate_descent.py:471: ConvergenceWarning: Objective did not converge. You might want to increase the number of iterations. Duality gap: 4755.91303052158, tolerance: 2.8375366587537094\n",
      "  tol, rng, random, positive)\n",
      "C:\\Users\\dell\\Anaconda3\\lib\\site-packages\\sklearn\\linear_model\\coordinate_descent.py:471: ConvergenceWarning: Objective did not converge. You might want to increase the number of iterations. Duality gap: 4745.234825977485, tolerance: 2.8375366587537094\n",
      "  tol, rng, random, positive)\n",
      "C:\\Users\\dell\\Anaconda3\\lib\\site-packages\\sklearn\\linear_model\\coordinate_descent.py:471: ConvergenceWarning: Objective did not converge. You might want to increase the number of iterations. Duality gap: 4734.4264893921445, tolerance: 2.8375366587537094\n",
      "  tol, rng, random, positive)\n",
      "C:\\Users\\dell\\Anaconda3\\lib\\site-packages\\sklearn\\linear_model\\coordinate_descent.py:471: ConvergenceWarning: Objective did not converge. You might want to increase the number of iterations. Duality gap: 4723.490040564607, tolerance: 2.8375366587537094\n",
      "  tol, rng, random, positive)\n",
      "C:\\Users\\dell\\Anaconda3\\lib\\site-packages\\sklearn\\linear_model\\coordinate_descent.py:471: ConvergenceWarning: Objective did not converge. You might want to increase the number of iterations. Duality gap: 4712.427035970646, tolerance: 2.8375366587537094\n",
      "  tol, rng, random, positive)\n",
      "C:\\Users\\dell\\Anaconda3\\lib\\site-packages\\sklearn\\linear_model\\coordinate_descent.py:471: ConvergenceWarning: Objective did not converge. You might want to increase the number of iterations. Duality gap: 4701.238678285751, tolerance: 2.8375366587537094\n",
      "  tol, rng, random, positive)\n",
      "C:\\Users\\dell\\Anaconda3\\lib\\site-packages\\sklearn\\linear_model\\coordinate_descent.py:471: ConvergenceWarning: Objective did not converge. You might want to increase the number of iterations. Duality gap: 4689.925895344895, tolerance: 2.8375366587537094\n",
      "  tol, rng, random, positive)\n",
      "C:\\Users\\dell\\Anaconda3\\lib\\site-packages\\sklearn\\linear_model\\coordinate_descent.py:471: ConvergenceWarning: Objective did not converge. You might want to increase the number of iterations. Duality gap: 4678.489404510187, tolerance: 2.8375366587537094\n",
      "  tol, rng, random, positive)\n",
      "C:\\Users\\dell\\Anaconda3\\lib\\site-packages\\sklearn\\linear_model\\coordinate_descent.py:471: ConvergenceWarning: Objective did not converge. You might want to increase the number of iterations. Duality gap: 4666.9297609689065, tolerance: 2.8375366587537094\n",
      "  tol, rng, random, positive)\n",
      "C:\\Users\\dell\\Anaconda3\\lib\\site-packages\\sklearn\\linear_model\\coordinate_descent.py:471: ConvergenceWarning: Objective did not converge. You might want to increase the number of iterations. Duality gap: 4655.247395649716, tolerance: 2.8375366587537094\n",
      "  tol, rng, random, positive)\n",
      "C:\\Users\\dell\\Anaconda3\\lib\\site-packages\\sklearn\\linear_model\\coordinate_descent.py:471: ConvergenceWarning: Objective did not converge. You might want to increase the number of iterations. Duality gap: 4643.442642716942, tolerance: 2.8375366587537094\n",
      "  tol, rng, random, positive)\n",
      "C:\\Users\\dell\\Anaconda3\\lib\\site-packages\\sklearn\\linear_model\\coordinate_descent.py:471: ConvergenceWarning: Objective did not converge. You might want to increase the number of iterations. Duality gap: 4631.515763167333, tolerance: 2.8375366587537094\n",
      "  tol, rng, random, positive)\n",
      "C:\\Users\\dell\\Anaconda3\\lib\\site-packages\\sklearn\\linear_model\\coordinate_descent.py:471: ConvergenceWarning: Objective did not converge. You might want to increase the number of iterations. Duality gap: 4619.466960943694, tolerance: 2.8375366587537094\n",
      "  tol, rng, random, positive)\n",
      "C:\\Users\\dell\\Anaconda3\\lib\\site-packages\\sklearn\\linear_model\\coordinate_descent.py:471: ConvergenceWarning: Objective did not converge. You might want to increase the number of iterations. Duality gap: 4607.296396325172, tolerance: 2.8375366587537094\n",
      "  tol, rng, random, positive)\n",
      "C:\\Users\\dell\\Anaconda3\\lib\\site-packages\\sklearn\\linear_model\\coordinate_descent.py:471: ConvergenceWarning: Objective did not converge. You might want to increase the number of iterations. Duality gap: 4595.004196079134, tolerance: 2.8375366587537094\n",
      "  tol, rng, random, positive)\n",
      "C:\\Users\\dell\\Anaconda3\\lib\\site-packages\\sklearn\\linear_model\\coordinate_descent.py:471: ConvergenceWarning: Objective did not converge. You might want to increase the number of iterations. Duality gap: 4582.590461792033, tolerance: 2.8375366587537094\n",
      "  tol, rng, random, positive)\n",
      "C:\\Users\\dell\\Anaconda3\\lib\\site-packages\\sklearn\\linear_model\\coordinate_descent.py:471: ConvergenceWarning: Objective did not converge. You might want to increase the number of iterations. Duality gap: 4570.055274751775, tolerance: 2.8375366587537094\n",
      "  tol, rng, random, positive)\n",
      "C:\\Users\\dell\\Anaconda3\\lib\\site-packages\\sklearn\\linear_model\\coordinate_descent.py:471: ConvergenceWarning: Objective did not converge. You might want to increase the number of iterations. Duality gap: 4557.398701504317, tolerance: 2.8375366587537094\n",
      "  tol, rng, random, positive)\n",
      "C:\\Users\\dell\\Anaconda3\\lib\\site-packages\\sklearn\\linear_model\\coordinate_descent.py:471: ConvergenceWarning: Objective did not converge. You might want to increase the number of iterations. Duality gap: 4544.620796593149, tolerance: 2.8375366587537094\n",
      "  tol, rng, random, positive)\n",
      "C:\\Users\\dell\\Anaconda3\\lib\\site-packages\\sklearn\\linear_model\\coordinate_descent.py:471: ConvergenceWarning: Objective did not converge. You might want to increase the number of iterations. Duality gap: 4531.721605881532, tolerance: 2.8375366587537094\n",
      "  tol, rng, random, positive)\n",
      "C:\\Users\\dell\\Anaconda3\\lib\\site-packages\\sklearn\\linear_model\\coordinate_descent.py:471: ConvergenceWarning: Objective did not converge. You might want to increase the number of iterations. Duality gap: 4518.701169580286, tolerance: 2.8375366587537094\n",
      "  tol, rng, random, positive)\n",
      "C:\\Users\\dell\\Anaconda3\\lib\\site-packages\\sklearn\\linear_model\\coordinate_descent.py:471: ConvergenceWarning: Objective did not converge. You might want to increase the number of iterations. Duality gap: 4505.559520987421, tolerance: 2.8375366587537094\n",
      "  tol, rng, random, positive)\n",
      "C:\\Users\\dell\\Anaconda3\\lib\\site-packages\\sklearn\\linear_model\\coordinate_descent.py:471: ConvergenceWarning: Objective did not converge. You might want to increase the number of iterations. Duality gap: 4492.2966908547305, tolerance: 2.8375366587537094\n",
      "  tol, rng, random, positive)\n",
      "C:\\Users\\dell\\Anaconda3\\lib\\site-packages\\sklearn\\linear_model\\coordinate_descent.py:471: ConvergenceWarning: Objective did not converge. You might want to increase the number of iterations. Duality gap: 4478.91270646438, tolerance: 2.8375366587537094\n",
      "  tol, rng, random, positive)\n",
      "C:\\Users\\dell\\Anaconda3\\lib\\site-packages\\sklearn\\linear_model\\coordinate_descent.py:471: ConvergenceWarning: Objective did not converge. You might want to increase the number of iterations. Duality gap: 4465.407593317478, tolerance: 2.8375366587537094\n",
      "  tol, rng, random, positive)\n",
      "C:\\Users\\dell\\Anaconda3\\lib\\site-packages\\sklearn\\linear_model\\coordinate_descent.py:471: ConvergenceWarning: Objective did not converge. You might want to increase the number of iterations. Duality gap: 4451.781374924121, tolerance: 2.8375366587537094\n",
      "  tol, rng, random, positive)\n",
      "C:\\Users\\dell\\Anaconda3\\lib\\site-packages\\sklearn\\linear_model\\coordinate_descent.py:471: ConvergenceWarning: Objective did not converge. You might want to increase the number of iterations. Duality gap: 4438.0340736049975, tolerance: 2.8375366587537094\n",
      "  tol, rng, random, positive)\n",
      "C:\\Users\\dell\\Anaconda3\\lib\\site-packages\\sklearn\\linear_model\\coordinate_descent.py:471: ConvergenceWarning: Objective did not converge. You might want to increase the number of iterations. Duality gap: 4424.165711222584, tolerance: 2.8375366587537094\n",
      "  tol, rng, random, positive)\n",
      "C:\\Users\\dell\\Anaconda3\\lib\\site-packages\\sklearn\\linear_model\\coordinate_descent.py:471: ConvergenceWarning: Objective did not converge. You might want to increase the number of iterations. Duality gap: 4410.176308693772, tolerance: 2.8375366587537094\n",
      "  tol, rng, random, positive)\n",
      "C:\\Users\\dell\\Anaconda3\\lib\\site-packages\\sklearn\\linear_model\\coordinate_descent.py:471: ConvergenceWarning: Objective did not converge. You might want to increase the number of iterations. Duality gap: 4396.065886496629, tolerance: 2.8375366587537094\n",
      "  tol, rng, random, positive)\n",
      "C:\\Users\\dell\\Anaconda3\\lib\\site-packages\\sklearn\\linear_model\\coordinate_descent.py:471: ConvergenceWarning: Objective did not converge. You might want to increase the number of iterations. Duality gap: 4381.834465152753, tolerance: 2.8375366587537094\n",
      "  tol, rng, random, positive)\n",
      "C:\\Users\\dell\\Anaconda3\\lib\\site-packages\\sklearn\\linear_model\\coordinate_descent.py:471: ConvergenceWarning: Objective did not converge. You might want to increase the number of iterations. Duality gap: 4367.479609182059, tolerance: 2.8375366587537094\n",
      "  tol, rng, random, positive)\n",
      "C:\\Users\\dell\\Anaconda3\\lib\\site-packages\\sklearn\\linear_model\\coordinate_descent.py:471: ConvergenceWarning: Objective did not converge. You might want to increase the number of iterations. Duality gap: 4352.966947923774, tolerance: 2.8375366587537094\n",
      "  tol, rng, random, positive)\n",
      "C:\\Users\\dell\\Anaconda3\\lib\\site-packages\\sklearn\\linear_model\\coordinate_descent.py:471: ConvergenceWarning: Objective did not converge. You might want to increase the number of iterations. Duality gap: 4337.099047397948, tolerance: 2.8375366587537094\n",
      "  tol, rng, random, positive)\n",
      "C:\\Users\\dell\\Anaconda3\\lib\\site-packages\\sklearn\\linear_model\\coordinate_descent.py:471: ConvergenceWarning: Objective did not converge. You might want to increase the number of iterations. Duality gap: 4353.554228032319, tolerance: 2.8375366587537094\n",
      "  tol, rng, random, positive)\n",
      "C:\\Users\\dell\\Anaconda3\\lib\\site-packages\\sklearn\\linear_model\\coordinate_descent.py:471: ConvergenceWarning: Objective did not converge. You might want to increase the number of iterations. Duality gap: 4358.390746841665, tolerance: 2.8375366587537094\n",
      "  tol, rng, random, positive)\n",
      "C:\\Users\\dell\\Anaconda3\\lib\\site-packages\\sklearn\\linear_model\\coordinate_descent.py:471: ConvergenceWarning: Objective did not converge. You might want to increase the number of iterations. Duality gap: 4353.647062272932, tolerance: 2.8375366587537094\n",
      "  tol, rng, random, positive)\n",
      "C:\\Users\\dell\\Anaconda3\\lib\\site-packages\\sklearn\\linear_model\\coordinate_descent.py:471: ConvergenceWarning: Objective did not converge. You might want to increase the number of iterations. Duality gap: 4343.901676973617, tolerance: 2.8375366587537094\n",
      "  tol, rng, random, positive)\n",
      "C:\\Users\\dell\\Anaconda3\\lib\\site-packages\\sklearn\\linear_model\\coordinate_descent.py:471: ConvergenceWarning: Objective did not converge. You might want to increase the number of iterations. Duality gap: 4331.286322346078, tolerance: 2.8375366587537094\n",
      "  tol, rng, random, positive)\n",
      "C:\\Users\\dell\\Anaconda3\\lib\\site-packages\\sklearn\\linear_model\\coordinate_descent.py:471: ConvergenceWarning: Objective did not converge. You might want to increase the number of iterations. Duality gap: 4316.854576320131, tolerance: 2.8375366587537094\n",
      "  tol, rng, random, positive)\n",
      "C:\\Users\\dell\\Anaconda3\\lib\\site-packages\\sklearn\\linear_model\\coordinate_descent.py:471: ConvergenceWarning: Objective did not converge. You might want to increase the number of iterations. Duality gap: 4301.181373659795, tolerance: 2.8375366587537094\n",
      "  tol, rng, random, positive)\n",
      "C:\\Users\\dell\\Anaconda3\\lib\\site-packages\\sklearn\\linear_model\\coordinate_descent.py:471: ConvergenceWarning: Objective did not converge. You might want to increase the number of iterations. Duality gap: 4284.6144121165735, tolerance: 2.8375366587537094\n",
      "  tol, rng, random, positive)\n",
      "C:\\Users\\dell\\Anaconda3\\lib\\site-packages\\sklearn\\linear_model\\coordinate_descent.py:471: ConvergenceWarning: Objective did not converge. You might want to increase the number of iterations. Duality gap: 4267.387030345718, tolerance: 2.8375366587537094\n",
      "  tol, rng, random, positive)\n",
      "C:\\Users\\dell\\Anaconda3\\lib\\site-packages\\sklearn\\linear_model\\coordinate_descent.py:471: ConvergenceWarning: Objective did not converge. You might want to increase the number of iterations. Duality gap: 4249.581154251282, tolerance: 2.8375366587537094\n",
      "  tol, rng, random, positive)\n",
      "C:\\Users\\dell\\Anaconda3\\lib\\site-packages\\sklearn\\linear_model\\coordinate_descent.py:471: ConvergenceWarning: Objective did not converge. You might want to increase the number of iterations. Duality gap: 4231.336866048243, tolerance: 2.8375366587537094\n",
      "  tol, rng, random, positive)\n",
      "C:\\Users\\dell\\Anaconda3\\lib\\site-packages\\sklearn\\linear_model\\coordinate_descent.py:471: ConvergenceWarning: Objective did not converge. You might want to increase the number of iterations. Duality gap: 4212.709862301146, tolerance: 2.8375366587537094\n",
      "  tol, rng, random, positive)\n",
      "C:\\Users\\dell\\Anaconda3\\lib\\site-packages\\sklearn\\linear_model\\coordinate_descent.py:471: ConvergenceWarning: Objective did not converge. You might want to increase the number of iterations. Duality gap: 4193.721332926569, tolerance: 2.8375366587537094\n",
      "  tol, rng, random, positive)\n",
      "C:\\Users\\dell\\Anaconda3\\lib\\site-packages\\sklearn\\linear_model\\coordinate_descent.py:471: ConvergenceWarning: Objective did not converge. You might want to increase the number of iterations. Duality gap: 4174.460241615, tolerance: 2.8375366587537094\n",
      "  tol, rng, random, positive)\n",
      "C:\\Users\\dell\\Anaconda3\\lib\\site-packages\\sklearn\\linear_model\\coordinate_descent.py:471: ConvergenceWarning: Objective did not converge. You might want to increase the number of iterations. Duality gap: 4154.821814600699, tolerance: 2.8375366587537094\n",
      "  tol, rng, random, positive)\n",
      "C:\\Users\\dell\\Anaconda3\\lib\\site-packages\\sklearn\\linear_model\\coordinate_descent.py:471: ConvergenceWarning: Objective did not converge. You might want to increase the number of iterations. Duality gap: 4134.81787740589, tolerance: 2.8375366587537094\n",
      "  tol, rng, random, positive)\n",
      "C:\\Users\\dell\\Anaconda3\\lib\\site-packages\\sklearn\\linear_model\\coordinate_descent.py:471: ConvergenceWarning: Objective did not converge. You might want to increase the number of iterations. Duality gap: 4114.462441801231, tolerance: 2.8375366587537094\n",
      "  tol, rng, random, positive)\n",
      "C:\\Users\\dell\\Anaconda3\\lib\\site-packages\\sklearn\\linear_model\\coordinate_descent.py:471: ConvergenceWarning: Objective did not converge. You might want to increase the number of iterations. Duality gap: 4093.4269473866534, tolerance: 2.8375366587537094\n",
      "  tol, rng, random, positive)\n",
      "C:\\Users\\dell\\Anaconda3\\lib\\site-packages\\sklearn\\linear_model\\coordinate_descent.py:471: ConvergenceWarning: Objective did not converge. You might want to increase the number of iterations. Duality gap: 4071.992972324944, tolerance: 2.8375366587537094\n",
      "  tol, rng, random, positive)\n",
      "C:\\Users\\dell\\Anaconda3\\lib\\site-packages\\sklearn\\linear_model\\coordinate_descent.py:471: ConvergenceWarning: Objective did not converge. You might want to increase the number of iterations. Duality gap: 4049.7842582003314, tolerance: 2.8375366587537094\n",
      "  tol, rng, random, positive)\n",
      "C:\\Users\\dell\\Anaconda3\\lib\\site-packages\\sklearn\\linear_model\\coordinate_descent.py:471: ConvergenceWarning: Objective did not converge. You might want to increase the number of iterations. Duality gap: 4026.800318199772, tolerance: 2.8375366587537094\n",
      "  tol, rng, random, positive)\n",
      "C:\\Users\\dell\\Anaconda3\\lib\\site-packages\\sklearn\\linear_model\\coordinate_descent.py:471: ConvergenceWarning: Objective did not converge. You might want to increase the number of iterations. Duality gap: 5551.8881118666, tolerance: 2.7965138343195264\n",
      "  tol, rng, random, positive)\n",
      "C:\\Users\\dell\\Anaconda3\\lib\\site-packages\\sklearn\\linear_model\\coordinate_descent.py:471: ConvergenceWarning: Objective did not converge. You might want to increase the number of iterations. Duality gap: 5533.367394355446, tolerance: 2.7965138343195264\n",
      "  tol, rng, random, positive)\n",
      "C:\\Users\\dell\\Anaconda3\\lib\\site-packages\\sklearn\\linear_model\\coordinate_descent.py:471: ConvergenceWarning: Objective did not converge. You might want to increase the number of iterations. Duality gap: 5515.341112996646, tolerance: 2.7965138343195264\n",
      "  tol, rng, random, positive)\n",
      "C:\\Users\\dell\\Anaconda3\\lib\\site-packages\\sklearn\\linear_model\\coordinate_descent.py:471: ConvergenceWarning: Objective did not converge. You might want to increase the number of iterations. Duality gap: 5496.91720492062, tolerance: 2.7965138343195264\n",
      "  tol, rng, random, positive)\n",
      "C:\\Users\\dell\\Anaconda3\\lib\\site-packages\\sklearn\\linear_model\\coordinate_descent.py:471: ConvergenceWarning: Objective did not converge. You might want to increase the number of iterations. Duality gap: 5477.471781569142, tolerance: 2.7965138343195264\n",
      "  tol, rng, random, positive)\n",
      "C:\\Users\\dell\\Anaconda3\\lib\\site-packages\\sklearn\\linear_model\\coordinate_descent.py:471: ConvergenceWarning: Objective did not converge. You might want to increase the number of iterations. Duality gap: 5456.479206344546, tolerance: 2.7965138343195264\n",
      "  tol, rng, random, positive)\n"
     ]
    },
    {
     "name": "stderr",
     "output_type": "stream",
     "text": [
      "C:\\Users\\dell\\Anaconda3\\lib\\site-packages\\sklearn\\linear_model\\coordinate_descent.py:471: ConvergenceWarning: Objective did not converge. You might want to increase the number of iterations. Duality gap: 5433.447502782834, tolerance: 2.7965138343195264\n",
      "  tol, rng, random, positive)\n",
      "C:\\Users\\dell\\Anaconda3\\lib\\site-packages\\sklearn\\linear_model\\coordinate_descent.py:471: ConvergenceWarning: Objective did not converge. You might want to increase the number of iterations. Duality gap: 5407.89316042615, tolerance: 2.7965138343195264\n",
      "  tol, rng, random, positive)\n",
      "C:\\Users\\dell\\Anaconda3\\lib\\site-packages\\sklearn\\linear_model\\coordinate_descent.py:471: ConvergenceWarning: Objective did not converge. You might want to increase the number of iterations. Duality gap: 5379.343361256513, tolerance: 2.7965138343195264\n",
      "  tol, rng, random, positive)\n",
      "C:\\Users\\dell\\Anaconda3\\lib\\site-packages\\sklearn\\linear_model\\coordinate_descent.py:471: ConvergenceWarning: Objective did not converge. You might want to increase the number of iterations. Duality gap: 5347.363477178307, tolerance: 2.7965138343195264\n",
      "  tol, rng, random, positive)\n",
      "C:\\Users\\dell\\Anaconda3\\lib\\site-packages\\sklearn\\linear_model\\coordinate_descent.py:471: ConvergenceWarning: Objective did not converge. You might want to increase the number of iterations. Duality gap: 5311.609485480518, tolerance: 2.7965138343195264\n",
      "  tol, rng, random, positive)\n",
      "C:\\Users\\dell\\Anaconda3\\lib\\site-packages\\sklearn\\linear_model\\coordinate_descent.py:471: ConvergenceWarning: Objective did not converge. You might want to increase the number of iterations. Duality gap: 5271.902300549849, tolerance: 2.7965138343195264\n",
      "  tol, rng, random, positive)\n",
      "C:\\Users\\dell\\Anaconda3\\lib\\site-packages\\sklearn\\linear_model\\coordinate_descent.py:471: ConvergenceWarning: Objective did not converge. You might want to increase the number of iterations. Duality gap: 5228.117069366139, tolerance: 2.7965138343195264\n",
      "  tol, rng, random, positive)\n",
      "C:\\Users\\dell\\Anaconda3\\lib\\site-packages\\sklearn\\linear_model\\coordinate_descent.py:471: ConvergenceWarning: Objective did not converge. You might want to increase the number of iterations. Duality gap: 5180.955571901513, tolerance: 2.7965138343195264\n",
      "  tol, rng, random, positive)\n",
      "C:\\Users\\dell\\Anaconda3\\lib\\site-packages\\sklearn\\linear_model\\coordinate_descent.py:471: ConvergenceWarning: Objective did not converge. You might want to increase the number of iterations. Duality gap: 5131.135850543492, tolerance: 2.7965138343195264\n",
      "  tol, rng, random, positive)\n",
      "C:\\Users\\dell\\Anaconda3\\lib\\site-packages\\sklearn\\linear_model\\coordinate_descent.py:471: ConvergenceWarning: Objective did not converge. You might want to increase the number of iterations. Duality gap: 5079.767427996315, tolerance: 2.7965138343195264\n",
      "  tol, rng, random, positive)\n",
      "C:\\Users\\dell\\Anaconda3\\lib\\site-packages\\sklearn\\linear_model\\coordinate_descent.py:471: ConvergenceWarning: Objective did not converge. You might want to increase the number of iterations. Duality gap: 5028.216777826256, tolerance: 2.7965138343195264\n",
      "  tol, rng, random, positive)\n",
      "C:\\Users\\dell\\Anaconda3\\lib\\site-packages\\sklearn\\linear_model\\coordinate_descent.py:471: ConvergenceWarning: Objective did not converge. You might want to increase the number of iterations. Duality gap: 4977.932933439952, tolerance: 2.7965138343195264\n",
      "  tol, rng, random, positive)\n",
      "C:\\Users\\dell\\Anaconda3\\lib\\site-packages\\sklearn\\linear_model\\coordinate_descent.py:471: ConvergenceWarning: Objective did not converge. You might want to increase the number of iterations. Duality gap: 4930.249038877043, tolerance: 2.7965138343195264\n",
      "  tol, rng, random, positive)\n",
      "C:\\Users\\dell\\Anaconda3\\lib\\site-packages\\sklearn\\linear_model\\coordinate_descent.py:471: ConvergenceWarning: Objective did not converge. You might want to increase the number of iterations. Duality gap: 4886.21251977733, tolerance: 2.7965138343195264\n",
      "  tol, rng, random, positive)\n",
      "C:\\Users\\dell\\Anaconda3\\lib\\site-packages\\sklearn\\linear_model\\coordinate_descent.py:471: ConvergenceWarning: Objective did not converge. You might want to increase the number of iterations. Duality gap: 4846.485997229005, tolerance: 2.7965138343195264\n",
      "  tol, rng, random, positive)\n",
      "C:\\Users\\dell\\Anaconda3\\lib\\site-packages\\sklearn\\linear_model\\coordinate_descent.py:471: ConvergenceWarning: Objective did not converge. You might want to increase the number of iterations. Duality gap: 4811.332911407015, tolerance: 2.7965138343195264\n",
      "  tol, rng, random, positive)\n",
      "C:\\Users\\dell\\Anaconda3\\lib\\site-packages\\sklearn\\linear_model\\coordinate_descent.py:471: ConvergenceWarning: Objective did not converge. You might want to increase the number of iterations. Duality gap: 4780.672773445986, tolerance: 2.7965138343195264\n",
      "  tol, rng, random, positive)\n",
      "C:\\Users\\dell\\Anaconda3\\lib\\site-packages\\sklearn\\linear_model\\coordinate_descent.py:471: ConvergenceWarning: Objective did not converge. You might want to increase the number of iterations. Duality gap: 4754.174950363593, tolerance: 2.7965138343195264\n",
      "  tol, rng, random, positive)\n",
      "C:\\Users\\dell\\Anaconda3\\lib\\site-packages\\sklearn\\linear_model\\coordinate_descent.py:471: ConvergenceWarning: Objective did not converge. You might want to increase the number of iterations. Duality gap: 4731.359789938975, tolerance: 2.7965138343195264\n",
      "  tol, rng, random, positive)\n",
      "C:\\Users\\dell\\Anaconda3\\lib\\site-packages\\sklearn\\linear_model\\coordinate_descent.py:471: ConvergenceWarning: Objective did not converge. You might want to increase the number of iterations. Duality gap: 4711.685651851676, tolerance: 2.7965138343195264\n",
      "  tol, rng, random, positive)\n",
      "C:\\Users\\dell\\Anaconda3\\lib\\site-packages\\sklearn\\linear_model\\coordinate_descent.py:471: ConvergenceWarning: Objective did not converge. You might want to increase the number of iterations. Duality gap: 4694.612438480746, tolerance: 2.7965138343195264\n",
      "  tol, rng, random, positive)\n",
      "C:\\Users\\dell\\Anaconda3\\lib\\site-packages\\sklearn\\linear_model\\coordinate_descent.py:471: ConvergenceWarning: Objective did not converge. You might want to increase the number of iterations. Duality gap: 4679.641201569959, tolerance: 2.7965138343195264\n",
      "  tol, rng, random, positive)\n",
      "C:\\Users\\dell\\Anaconda3\\lib\\site-packages\\sklearn\\linear_model\\coordinate_descent.py:471: ConvergenceWarning: Objective did not converge. You might want to increase the number of iterations. Duality gap: 4668.164662895373, tolerance: 2.7965138343195264\n",
      "  tol, rng, random, positive)\n",
      "C:\\Users\\dell\\Anaconda3\\lib\\site-packages\\sklearn\\linear_model\\coordinate_descent.py:471: ConvergenceWarning: Objective did not converge. You might want to increase the number of iterations. Duality gap: 4656.040657373868, tolerance: 2.7965138343195264\n",
      "  tol, rng, random, positive)\n",
      "C:\\Users\\dell\\Anaconda3\\lib\\site-packages\\sklearn\\linear_model\\coordinate_descent.py:471: ConvergenceWarning: Objective did not converge. You might want to increase the number of iterations. Duality gap: 4644.695314069482, tolerance: 2.7965138343195264\n",
      "  tol, rng, random, positive)\n",
      "C:\\Users\\dell\\Anaconda3\\lib\\site-packages\\sklearn\\linear_model\\coordinate_descent.py:471: ConvergenceWarning: Objective did not converge. You might want to increase the number of iterations. Duality gap: 4634.092123075591, tolerance: 2.7965138343195264\n",
      "  tol, rng, random, positive)\n",
      "C:\\Users\\dell\\Anaconda3\\lib\\site-packages\\sklearn\\linear_model\\coordinate_descent.py:471: ConvergenceWarning: Objective did not converge. You might want to increase the number of iterations. Duality gap: 4624.088166823609, tolerance: 2.7965138343195264\n",
      "  tol, rng, random, positive)\n",
      "C:\\Users\\dell\\Anaconda3\\lib\\site-packages\\sklearn\\linear_model\\coordinate_descent.py:471: ConvergenceWarning: Objective did not converge. You might want to increase the number of iterations. Duality gap: 4614.5350761095315, tolerance: 2.7965138343195264\n",
      "  tol, rng, random, positive)\n",
      "C:\\Users\\dell\\Anaconda3\\lib\\site-packages\\sklearn\\linear_model\\coordinate_descent.py:471: ConvergenceWarning: Objective did not converge. You might want to increase the number of iterations. Duality gap: 4605.305741653483, tolerance: 2.7965138343195264\n",
      "  tol, rng, random, positive)\n",
      "C:\\Users\\dell\\Anaconda3\\lib\\site-packages\\sklearn\\linear_model\\coordinate_descent.py:471: ConvergenceWarning: Objective did not converge. You might want to increase the number of iterations. Duality gap: 4596.298051059286, tolerance: 2.7965138343195264\n",
      "  tol, rng, random, positive)\n",
      "C:\\Users\\dell\\Anaconda3\\lib\\site-packages\\sklearn\\linear_model\\coordinate_descent.py:471: ConvergenceWarning: Objective did not converge. You might want to increase the number of iterations. Duality gap: 4587.432116463307, tolerance: 2.7965138343195264\n",
      "  tol, rng, random, positive)\n",
      "C:\\Users\\dell\\Anaconda3\\lib\\site-packages\\sklearn\\linear_model\\coordinate_descent.py:471: ConvergenceWarning: Objective did not converge. You might want to increase the number of iterations. Duality gap: 4578.646230440699, tolerance: 2.7965138343195264\n",
      "  tol, rng, random, positive)\n",
      "C:\\Users\\dell\\Anaconda3\\lib\\site-packages\\sklearn\\linear_model\\coordinate_descent.py:471: ConvergenceWarning: Objective did not converge. You might want to increase the number of iterations. Duality gap: 4569.893029913559, tolerance: 2.7965138343195264\n",
      "  tol, rng, random, positive)\n",
      "C:\\Users\\dell\\Anaconda3\\lib\\site-packages\\sklearn\\linear_model\\coordinate_descent.py:471: ConvergenceWarning: Objective did not converge. You might want to increase the number of iterations. Duality gap: 4561.136309870882, tolerance: 2.7965138343195264\n",
      "  tol, rng, random, positive)\n",
      "C:\\Users\\dell\\Anaconda3\\lib\\site-packages\\sklearn\\linear_model\\coordinate_descent.py:471: ConvergenceWarning: Objective did not converge. You might want to increase the number of iterations. Duality gap: 4552.348456516585, tolerance: 2.7965138343195264\n",
      "  tol, rng, random, positive)\n",
      "C:\\Users\\dell\\Anaconda3\\lib\\site-packages\\sklearn\\linear_model\\coordinate_descent.py:471: ConvergenceWarning: Objective did not converge. You might want to increase the number of iterations. Duality gap: 4543.508450210304, tolerance: 2.7965138343195264\n",
      "  tol, rng, random, positive)\n",
      "C:\\Users\\dell\\Anaconda3\\lib\\site-packages\\sklearn\\linear_model\\coordinate_descent.py:471: ConvergenceWarning: Objective did not converge. You might want to increase the number of iterations. Duality gap: 4534.600304510144, tolerance: 2.7965138343195264\n",
      "  tol, rng, random, positive)\n",
      "C:\\Users\\dell\\Anaconda3\\lib\\site-packages\\sklearn\\linear_model\\coordinate_descent.py:471: ConvergenceWarning: Objective did not converge. You might want to increase the number of iterations. Duality gap: 4525.61186653281, tolerance: 2.7965138343195264\n",
      "  tol, rng, random, positive)\n",
      "C:\\Users\\dell\\Anaconda3\\lib\\site-packages\\sklearn\\linear_model\\coordinate_descent.py:471: ConvergenceWarning: Objective did not converge. You might want to increase the number of iterations. Duality gap: 4516.533908858584, tolerance: 2.7965138343195264\n",
      "  tol, rng, random, positive)\n",
      "C:\\Users\\dell\\Anaconda3\\lib\\site-packages\\sklearn\\linear_model\\coordinate_descent.py:471: ConvergenceWarning: Objective did not converge. You might want to increase the number of iterations. Duality gap: 4507.35942036734, tolerance: 2.7965138343195264\n",
      "  tol, rng, random, positive)\n",
      "C:\\Users\\dell\\Anaconda3\\lib\\site-packages\\sklearn\\linear_model\\coordinate_descent.py:471: ConvergenceWarning: Objective did not converge. You might want to increase the number of iterations. Duality gap: 4498.0830763111335, tolerance: 2.7965138343195264\n",
      "  tol, rng, random, positive)\n",
      "C:\\Users\\dell\\Anaconda3\\lib\\site-packages\\sklearn\\linear_model\\coordinate_descent.py:471: ConvergenceWarning: Objective did not converge. You might want to increase the number of iterations. Duality gap: 4488.700822566576, tolerance: 2.7965138343195264\n",
      "  tol, rng, random, positive)\n",
      "C:\\Users\\dell\\Anaconda3\\lib\\site-packages\\sklearn\\linear_model\\coordinate_descent.py:471: ConvergenceWarning: Objective did not converge. You might want to increase the number of iterations. Duality gap: 4479.209582431933, tolerance: 2.7965138343195264\n",
      "  tol, rng, random, positive)\n",
      "C:\\Users\\dell\\Anaconda3\\lib\\site-packages\\sklearn\\linear_model\\coordinate_descent.py:471: ConvergenceWarning: Objective did not converge. You might want to increase the number of iterations. Duality gap: 4469.607007368574, tolerance: 2.7965138343195264\n",
      "  tol, rng, random, positive)\n",
      "C:\\Users\\dell\\Anaconda3\\lib\\site-packages\\sklearn\\linear_model\\coordinate_descent.py:471: ConvergenceWarning: Objective did not converge. You might want to increase the number of iterations. Duality gap: 4459.891306907095, tolerance: 2.7965138343195264\n",
      "  tol, rng, random, positive)\n",
      "C:\\Users\\dell\\Anaconda3\\lib\\site-packages\\sklearn\\linear_model\\coordinate_descent.py:471: ConvergenceWarning: Objective did not converge. You might want to increase the number of iterations. Duality gap: 4450.0611050796, tolerance: 2.7965138343195264\n",
      "  tol, rng, random, positive)\n",
      "C:\\Users\\dell\\Anaconda3\\lib\\site-packages\\sklearn\\linear_model\\coordinate_descent.py:471: ConvergenceWarning: Objective did not converge. You might want to increase the number of iterations. Duality gap: 4440.115351246319, tolerance: 2.7965138343195264\n",
      "  tol, rng, random, positive)\n",
      "C:\\Users\\dell\\Anaconda3\\lib\\site-packages\\sklearn\\linear_model\\coordinate_descent.py:471: ConvergenceWarning: Objective did not converge. You might want to increase the number of iterations. Duality gap: 4430.053232256694, tolerance: 2.7965138343195264\n",
      "  tol, rng, random, positive)\n",
      "C:\\Users\\dell\\Anaconda3\\lib\\site-packages\\sklearn\\linear_model\\coordinate_descent.py:471: ConvergenceWarning: Objective did not converge. You might want to increase the number of iterations. Duality gap: 4418.464462965803, tolerance: 2.7965138343195264\n",
      "  tol, rng, random, positive)\n",
      "C:\\Users\\dell\\Anaconda3\\lib\\site-packages\\sklearn\\linear_model\\coordinate_descent.py:471: ConvergenceWarning: Objective did not converge. You might want to increase the number of iterations. Duality gap: 4407.056214748203, tolerance: 2.7965138343195264\n",
      "  tol, rng, random, positive)\n",
      "C:\\Users\\dell\\Anaconda3\\lib\\site-packages\\sklearn\\linear_model\\coordinate_descent.py:471: ConvergenceWarning: Objective did not converge. You might want to increase the number of iterations. Duality gap: 4396.335261599752, tolerance: 2.7965138343195264\n",
      "  tol, rng, random, positive)\n",
      "C:\\Users\\dell\\Anaconda3\\lib\\site-packages\\sklearn\\linear_model\\coordinate_descent.py:471: ConvergenceWarning: Objective did not converge. You might want to increase the number of iterations. Duality gap: 4385.7508525098865, tolerance: 2.7965138343195264\n",
      "  tol, rng, random, positive)\n",
      "C:\\Users\\dell\\Anaconda3\\lib\\site-packages\\sklearn\\linear_model\\coordinate_descent.py:471: ConvergenceWarning: Objective did not converge. You might want to increase the number of iterations. Duality gap: 4375.126397833282, tolerance: 2.7965138343195264\n",
      "  tol, rng, random, positive)\n",
      "C:\\Users\\dell\\Anaconda3\\lib\\site-packages\\sklearn\\linear_model\\coordinate_descent.py:471: ConvergenceWarning: Objective did not converge. You might want to increase the number of iterations. Duality gap: 4364.405824676871, tolerance: 2.7965138343195264\n",
      "  tol, rng, random, positive)\n",
      "C:\\Users\\dell\\Anaconda3\\lib\\site-packages\\sklearn\\linear_model\\coordinate_descent.py:471: ConvergenceWarning: Objective did not converge. You might want to increase the number of iterations. Duality gap: 4353.57154026127, tolerance: 2.7965138343195264\n",
      "  tol, rng, random, positive)\n",
      "C:\\Users\\dell\\Anaconda3\\lib\\site-packages\\sklearn\\linear_model\\coordinate_descent.py:471: ConvergenceWarning: Objective did not converge. You might want to increase the number of iterations. Duality gap: 4342.618153517977, tolerance: 2.7965138343195264\n",
      "  tol, rng, random, positive)\n",
      "C:\\Users\\dell\\Anaconda3\\lib\\site-packages\\sklearn\\linear_model\\coordinate_descent.py:471: ConvergenceWarning: Objective did not converge. You might want to increase the number of iterations. Duality gap: 4331.544101854584, tolerance: 2.7965138343195264\n",
      "  tol, rng, random, positive)\n",
      "C:\\Users\\dell\\Anaconda3\\lib\\site-packages\\sklearn\\linear_model\\coordinate_descent.py:471: ConvergenceWarning: Objective did not converge. You might want to increase the number of iterations. Duality gap: 4320.348995399483, tolerance: 2.7965138343195264\n",
      "  tol, rng, random, positive)\n",
      "C:\\Users\\dell\\Anaconda3\\lib\\site-packages\\sklearn\\linear_model\\coordinate_descent.py:471: ConvergenceWarning: Objective did not converge. You might want to increase the number of iterations. Duality gap: 4309.032778574704, tolerance: 2.7965138343195264\n",
      "  tol, rng, random, positive)\n",
      "C:\\Users\\dell\\Anaconda3\\lib\\site-packages\\sklearn\\linear_model\\coordinate_descent.py:471: ConvergenceWarning: Objective did not converge. You might want to increase the number of iterations. Duality gap: 4297.595474765569, tolerance: 2.7965138343195264\n",
      "  tol, rng, random, positive)\n",
      "C:\\Users\\dell\\Anaconda3\\lib\\site-packages\\sklearn\\linear_model\\coordinate_descent.py:471: ConvergenceWarning: Objective did not converge. You might want to increase the number of iterations. Duality gap: 4286.037112851229, tolerance: 2.7965138343195264\n",
      "  tol, rng, random, positive)\n",
      "C:\\Users\\dell\\Anaconda3\\lib\\site-packages\\sklearn\\linear_model\\coordinate_descent.py:471: ConvergenceWarning: Objective did not converge. You might want to increase the number of iterations. Duality gap: 4274.35770265725, tolerance: 2.7965138343195264\n",
      "  tol, rng, random, positive)\n",
      "C:\\Users\\dell\\Anaconda3\\lib\\site-packages\\sklearn\\linear_model\\coordinate_descent.py:471: ConvergenceWarning: Objective did not converge. You might want to increase the number of iterations. Duality gap: 4262.557243785357, tolerance: 2.7965138343195264\n",
      "  tol, rng, random, positive)\n",
      "C:\\Users\\dell\\Anaconda3\\lib\\site-packages\\sklearn\\linear_model\\coordinate_descent.py:471: ConvergenceWarning: Objective did not converge. You might want to increase the number of iterations. Duality gap: 4250.635717217807, tolerance: 2.7965138343195264\n",
      "  tol, rng, random, positive)\n",
      "C:\\Users\\dell\\Anaconda3\\lib\\site-packages\\sklearn\\linear_model\\coordinate_descent.py:471: ConvergenceWarning: Objective did not converge. You might want to increase the number of iterations. Duality gap: 4238.593093754619, tolerance: 2.7965138343195264\n",
      "  tol, rng, random, positive)\n",
      "C:\\Users\\dell\\Anaconda3\\lib\\site-packages\\sklearn\\linear_model\\coordinate_descent.py:471: ConvergenceWarning: Objective did not converge. You might want to increase the number of iterations. Duality gap: 4226.429335498782, tolerance: 2.7965138343195264\n",
      "  tol, rng, random, positive)\n",
      "C:\\Users\\dell\\Anaconda3\\lib\\site-packages\\sklearn\\linear_model\\coordinate_descent.py:471: ConvergenceWarning: Objective did not converge. You might want to increase the number of iterations. Duality gap: 4214.144399110254, tolerance: 2.7965138343195264\n",
      "  tol, rng, random, positive)\n",
      "C:\\Users\\dell\\Anaconda3\\lib\\site-packages\\sklearn\\linear_model\\coordinate_descent.py:471: ConvergenceWarning: Objective did not converge. You might want to increase the number of iterations. Duality gap: 4201.738236932642, tolerance: 2.7965138343195264\n",
      "  tol, rng, random, positive)\n",
      "C:\\Users\\dell\\Anaconda3\\lib\\site-packages\\sklearn\\linear_model\\coordinate_descent.py:471: ConvergenceWarning: Objective did not converge. You might want to increase the number of iterations. Duality gap: 4189.210796243945, tolerance: 2.7965138343195264\n",
      "  tol, rng, random, positive)\n",
      "C:\\Users\\dell\\Anaconda3\\lib\\site-packages\\sklearn\\linear_model\\coordinate_descent.py:471: ConvergenceWarning: Objective did not converge. You might want to increase the number of iterations. Duality gap: 4176.5620235913575, tolerance: 2.7965138343195264\n",
      "  tol, rng, random, positive)\n",
      "C:\\Users\\dell\\Anaconda3\\lib\\site-packages\\sklearn\\linear_model\\coordinate_descent.py:471: ConvergenceWarning: Objective did not converge. You might want to increase the number of iterations. Duality gap: 4163.791862742043, tolerance: 2.7965138343195264\n",
      "  tol, rng, random, positive)\n",
      "C:\\Users\\dell\\Anaconda3\\lib\\site-packages\\sklearn\\linear_model\\coordinate_descent.py:471: ConvergenceWarning: Objective did not converge. You might want to increase the number of iterations. Duality gap: 4150.900257758118, tolerance: 2.7965138343195264\n",
      "  tol, rng, random, positive)\n",
      "C:\\Users\\dell\\Anaconda3\\lib\\site-packages\\sklearn\\linear_model\\coordinate_descent.py:471: ConvergenceWarning: Objective did not converge. You might want to increase the number of iterations. Duality gap: 4137.887148206043, tolerance: 2.7965138343195264\n",
      "  tol, rng, random, positive)\n",
      "C:\\Users\\dell\\Anaconda3\\lib\\site-packages\\sklearn\\linear_model\\coordinate_descent.py:471: ConvergenceWarning: Objective did not converge. You might want to increase the number of iterations. Duality gap: 4124.75247866087, tolerance: 2.7965138343195264\n",
      "  tol, rng, random, positive)\n",
      "C:\\Users\\dell\\Anaconda3\\lib\\site-packages\\sklearn\\linear_model\\coordinate_descent.py:471: ConvergenceWarning: Objective did not converge. You might want to increase the number of iterations. Duality gap: 4111.496190040054, tolerance: 2.7965138343195264\n",
      "  tol, rng, random, positive)\n",
      "C:\\Users\\dell\\Anaconda3\\lib\\site-packages\\sklearn\\linear_model\\coordinate_descent.py:471: ConvergenceWarning: Objective did not converge. You might want to increase the number of iterations. Duality gap: 4098.118223985739, tolerance: 2.7965138343195264\n",
      "  tol, rng, random, positive)\n",
      "C:\\Users\\dell\\Anaconda3\\lib\\site-packages\\sklearn\\linear_model\\coordinate_descent.py:471: ConvergenceWarning: Objective did not converge. You might want to increase the number of iterations. Duality gap: 4084.6185209974506, tolerance: 2.7965138343195264\n",
      "  tol, rng, random, positive)\n",
      "C:\\Users\\dell\\Anaconda3\\lib\\site-packages\\sklearn\\linear_model\\coordinate_descent.py:471: ConvergenceWarning: Objective did not converge. You might want to increase the number of iterations. Duality gap: 4070.9970253634438, tolerance: 2.7965138343195264\n",
      "  tol, rng, random, positive)\n",
      "C:\\Users\\dell\\Anaconda3\\lib\\site-packages\\sklearn\\linear_model\\coordinate_descent.py:471: ConvergenceWarning: Objective did not converge. You might want to increase the number of iterations. Duality gap: 4057.2536782695292, tolerance: 2.7965138343195264\n",
      "  tol, rng, random, positive)\n",
      "C:\\Users\\dell\\Anaconda3\\lib\\site-packages\\sklearn\\linear_model\\coordinate_descent.py:471: ConvergenceWarning: Objective did not converge. You might want to increase the number of iterations. Duality gap: 4043.3884219967113, tolerance: 2.7965138343195264\n",
      "  tol, rng, random, positive)\n",
      "C:\\Users\\dell\\Anaconda3\\lib\\site-packages\\sklearn\\linear_model\\coordinate_descent.py:471: ConvergenceWarning: Objective did not converge. You might want to increase the number of iterations. Duality gap: 4029.401199502917, tolerance: 2.7965138343195264\n",
      "  tol, rng, random, positive)\n",
      "C:\\Users\\dell\\Anaconda3\\lib\\site-packages\\sklearn\\linear_model\\coordinate_descent.py:471: ConvergenceWarning: Objective did not converge. You might want to increase the number of iterations. Duality gap: 4015.291955512493, tolerance: 2.7965138343195264\n",
      "  tol, rng, random, positive)\n",
      "C:\\Users\\dell\\Anaconda3\\lib\\site-packages\\sklearn\\linear_model\\coordinate_descent.py:471: ConvergenceWarning: Objective did not converge. You might want to increase the number of iterations. Duality gap: 4001.06063275229, tolerance: 2.7965138343195264\n",
      "  tol, rng, random, positive)\n",
      "C:\\Users\\dell\\Anaconda3\\lib\\site-packages\\sklearn\\linear_model\\coordinate_descent.py:471: ConvergenceWarning: Objective did not converge. You might want to increase the number of iterations. Duality gap: 3986.7071763603285, tolerance: 2.7965138343195264\n",
      "  tol, rng, random, positive)\n",
      "C:\\Users\\dell\\Anaconda3\\lib\\site-packages\\sklearn\\linear_model\\coordinate_descent.py:471: ConvergenceWarning: Objective did not converge. You might want to increase the number of iterations. Duality gap: 3972.23153106422, tolerance: 2.7965138343195264\n",
      "  tol, rng, random, positive)\n",
      "C:\\Users\\dell\\Anaconda3\\lib\\site-packages\\sklearn\\linear_model\\coordinate_descent.py:471: ConvergenceWarning: Objective did not converge. You might want to increase the number of iterations. Duality gap: 3957.6336421989395, tolerance: 2.7965138343195264\n",
      "  tol, rng, random, positive)\n",
      "C:\\Users\\dell\\Anaconda3\\lib\\site-packages\\sklearn\\linear_model\\coordinate_descent.py:471: ConvergenceWarning: Objective did not converge. You might want to increase the number of iterations. Duality gap: 3942.913455985663, tolerance: 2.7965138343195264\n",
      "  tol, rng, random, positive)\n",
      "C:\\Users\\dell\\Anaconda3\\lib\\site-packages\\sklearn\\linear_model\\coordinate_descent.py:471: ConvergenceWarning: Objective did not converge. You might want to increase the number of iterations. Duality gap: 3928.070919091895, tolerance: 2.7965138343195264\n",
      "  tol, rng, random, positive)\n",
      "C:\\Users\\dell\\Anaconda3\\lib\\site-packages\\sklearn\\linear_model\\coordinate_descent.py:471: ConvergenceWarning: Objective did not converge. You might want to increase the number of iterations. Duality gap: 3931.6767643874728, tolerance: 2.7965138343195264\n",
      "  tol, rng, random, positive)\n",
      "C:\\Users\\dell\\Anaconda3\\lib\\site-packages\\sklearn\\linear_model\\coordinate_descent.py:471: ConvergenceWarning: Objective did not converge. You might want to increase the number of iterations. Duality gap: 3938.6778110063465, tolerance: 2.7965138343195264\n",
      "  tol, rng, random, positive)\n",
      "C:\\Users\\dell\\Anaconda3\\lib\\site-packages\\sklearn\\linear_model\\coordinate_descent.py:471: ConvergenceWarning: Objective did not converge. You might want to increase the number of iterations. Duality gap: 3928.611607859433, tolerance: 2.7965138343195264\n",
      "  tol, rng, random, positive)\n",
      "C:\\Users\\dell\\Anaconda3\\lib\\site-packages\\sklearn\\linear_model\\coordinate_descent.py:471: ConvergenceWarning: Objective did not converge. You might want to increase the number of iterations. Duality gap: 3913.126789102757, tolerance: 2.7965138343195264\n",
      "  tol, rng, random, positive)\n",
      "C:\\Users\\dell\\Anaconda3\\lib\\site-packages\\sklearn\\linear_model\\coordinate_descent.py:471: ConvergenceWarning: Objective did not converge. You might want to increase the number of iterations. Duality gap: 3896.8273150804057, tolerance: 2.7965138343195264\n",
      "  tol, rng, random, positive)\n",
      "C:\\Users\\dell\\Anaconda3\\lib\\site-packages\\sklearn\\linear_model\\coordinate_descent.py:471: ConvergenceWarning: Objective did not converge. You might want to increase the number of iterations. Duality gap: 3878.100759394716, tolerance: 2.7965138343195264\n",
      "  tol, rng, random, positive)\n",
      "C:\\Users\\dell\\Anaconda3\\lib\\site-packages\\sklearn\\linear_model\\coordinate_descent.py:475: ConvergenceWarning: Objective did not converge. You might want to increase the number of iterations. Duality gap: 6168.042904182899, tolerance: 4.2716295415019765\n",
      "  positive)\n"
     ]
    },
    {
     "data": {
      "text/plain": [
       "LassoCV(alphas=array([0.1       , 0.10909091, 0.11818182, 0.12727273, 0.13636364,\n",
       "       0.14545455, 0.15454545, 0.16363636, 0.17272727, 0.18181818,\n",
       "       0.19090909, 0.2       , 0.20909091, 0.21818182, 0.22727273,\n",
       "       0.23636364, 0.24545455, 0.25454545, 0.26363636, 0.27272727,\n",
       "       0.28181818, 0.29090909, 0.3       , 0.30909091, 0.31818182,\n",
       "       0.32727273, 0.33636364, 0.34545455, 0.35454545, 0.36363636,\n",
       "       0.37272727, 0.381818...\n",
       "       0.82727273, 0.83636364, 0.84545455, 0.85454545, 0.86363636,\n",
       "       0.87272727, 0.88181818, 0.89090909, 0.9       , 0.90909091,\n",
       "       0.91818182, 0.92727273, 0.93636364, 0.94545455, 0.95454545,\n",
       "       0.96363636, 0.97272727, 0.98181818, 0.99090909, 1.        ]),\n",
       "        copy_X=True, cv=3, eps=0.001, fit_intercept=True, max_iter=1000,\n",
       "        n_alphas=100, n_jobs=None, normalize=False, positive=False,\n",
       "        precompute='auto', random_state=3, selection='cyclic', tol=0.0001,\n",
       "        verbose=False)"
      ]
     },
     "execution_count": 26,
     "metadata": {},
     "output_type": "execute_result"
    }
   ],
   "source": [
    "alphas = np.linspace(0.1,1,100)\n",
    "\n",
    "lasso_cv = LassoCV(alphas=alphas, cv=3, random_state=3)\n",
    "\n",
    "lasso_cv.fit(x,y)"
   ]
  },
  {
   "cell_type": "code",
   "execution_count": 27,
   "metadata": {},
   "outputs": [
    {
     "data": {
      "text/plain": [
       "0.1090909090909091"
      ]
     },
     "execution_count": 27,
     "metadata": {},
     "output_type": "execute_result"
    }
   ],
   "source": [
    "lasso_cv.alpha_"
   ]
  },
  {
   "cell_type": "code",
   "execution_count": 28,
   "metadata": {},
   "outputs": [
    {
     "data": {
      "text/plain": [
       "array([-2.11656616e-01,  4.02308972e-02, -6.07935408e-02,  8.53863825e-01,\n",
       "       -0.00000000e+00,  3.74784827e+00,  2.56449227e-02, -1.14900333e+00,\n",
       "        3.04828917e-01, -1.51659873e-02, -7.56675337e-01,  9.76651395e-03,\n",
       "       -5.87078920e-01,  5.09063658e-03, -5.02113219e-05, -5.44937110e-09,\n",
       "       -1.01969909e-03, -2.34578580e-06,  1.00556727e-07])"
      ]
     },
     "execution_count": 28,
     "metadata": {},
     "output_type": "execute_result"
    }
   ],
   "source": [
    "lasso_cv.coef_"
   ]
  },
  {
   "cell_type": "code",
   "execution_count": 29,
   "metadata": {},
   "outputs": [
    {
     "data": {
      "text/html": [
       "<div>\n",
       "<style scoped>\n",
       "    .dataframe tbody tr th:only-of-type {\n",
       "        vertical-align: middle;\n",
       "    }\n",
       "\n",
       "    .dataframe tbody tr th {\n",
       "        vertical-align: top;\n",
       "    }\n",
       "\n",
       "    .dataframe thead th {\n",
       "        text-align: right;\n",
       "    }\n",
       "</style>\n",
       "<table border=\"1\" class=\"dataframe\">\n",
       "  <thead>\n",
       "    <tr style=\"text-align: right;\">\n",
       "      <th></th>\n",
       "      <th>coefs</th>\n",
       "    </tr>\n",
       "  </thead>\n",
       "  <tbody>\n",
       "    <tr>\n",
       "      <td>CRIM</td>\n",
       "      <td>-2.116566e-01</td>\n",
       "    </tr>\n",
       "    <tr>\n",
       "      <td>ZN</td>\n",
       "      <td>4.023090e-02</td>\n",
       "    </tr>\n",
       "    <tr>\n",
       "      <td>INDUS</td>\n",
       "      <td>-6.079354e-02</td>\n",
       "    </tr>\n",
       "    <tr>\n",
       "      <td>CHAS</td>\n",
       "      <td>8.538638e-01</td>\n",
       "    </tr>\n",
       "    <tr>\n",
       "      <td>NOX</td>\n",
       "      <td>-0.000000e+00</td>\n",
       "    </tr>\n",
       "    <tr>\n",
       "      <td>RM</td>\n",
       "      <td>3.747848e+00</td>\n",
       "    </tr>\n",
       "    <tr>\n",
       "      <td>AGE</td>\n",
       "      <td>2.564492e-02</td>\n",
       "    </tr>\n",
       "    <tr>\n",
       "      <td>DIS</td>\n",
       "      <td>-1.149003e+00</td>\n",
       "    </tr>\n",
       "    <tr>\n",
       "      <td>RAD</td>\n",
       "      <td>3.048289e-01</td>\n",
       "    </tr>\n",
       "    <tr>\n",
       "      <td>TAX</td>\n",
       "      <td>-1.516599e-02</td>\n",
       "    </tr>\n",
       "    <tr>\n",
       "      <td>PTRATIO</td>\n",
       "      <td>-7.566753e-01</td>\n",
       "    </tr>\n",
       "    <tr>\n",
       "      <td>B</td>\n",
       "      <td>9.766514e-03</td>\n",
       "    </tr>\n",
       "    <tr>\n",
       "      <td>LSTAT</td>\n",
       "      <td>-5.870789e-01</td>\n",
       "    </tr>\n",
       "    <tr>\n",
       "      <td>CRIM1</td>\n",
       "      <td>5.090637e-03</td>\n",
       "    </tr>\n",
       "    <tr>\n",
       "      <td>CRIM2</td>\n",
       "      <td>-5.021132e-05</td>\n",
       "    </tr>\n",
       "    <tr>\n",
       "      <td>CRIM4</td>\n",
       "      <td>-5.449371e-09</td>\n",
       "    </tr>\n",
       "    <tr>\n",
       "      <td>AGE1</td>\n",
       "      <td>-1.019699e-03</td>\n",
       "    </tr>\n",
       "    <tr>\n",
       "      <td>AGE3</td>\n",
       "      <td>-2.345786e-06</td>\n",
       "    </tr>\n",
       "    <tr>\n",
       "      <td>AGE4</td>\n",
       "      <td>1.005567e-07</td>\n",
       "    </tr>\n",
       "  </tbody>\n",
       "</table>\n",
       "</div>"
      ],
      "text/plain": [
       "                coefs\n",
       "CRIM    -2.116566e-01\n",
       "ZN       4.023090e-02\n",
       "INDUS   -6.079354e-02\n",
       "CHAS     8.538638e-01\n",
       "NOX     -0.000000e+00\n",
       "RM       3.747848e+00\n",
       "AGE      2.564492e-02\n",
       "DIS     -1.149003e+00\n",
       "RAD      3.048289e-01\n",
       "TAX     -1.516599e-02\n",
       "PTRATIO -7.566753e-01\n",
       "B        9.766514e-03\n",
       "LSTAT   -5.870789e-01\n",
       "CRIM1    5.090637e-03\n",
       "CRIM2   -5.021132e-05\n",
       "CRIM4   -5.449371e-09\n",
       "AGE1    -1.019699e-03\n",
       "AGE3    -2.345786e-06\n",
       "AGE4     1.005567e-07"
      ]
     },
     "execution_count": 29,
     "metadata": {},
     "output_type": "execute_result"
    }
   ],
   "source": [
    "pd.DataFrame(lasso_cv.coef_,index=x.columns,columns=['coefs'])"
   ]
  },
  {
   "cell_type": "markdown",
   "metadata": {},
   "source": [
    "# ridge regularization"
   ]
  },
  {
   "cell_type": "code",
   "execution_count": 33,
   "metadata": {},
   "outputs": [],
   "source": [
    "from sklearn.datasets import load_boston\n",
    "boston=load_boston()\n",
    "bos=pd.DataFrame(boston.data,columns=boston.feature_names)\n",
    "bos['price']=boston.target\n",
    "\n"
   ]
  },
  {
   "cell_type": "code",
   "execution_count": 40,
   "metadata": {},
   "outputs": [
    {
     "data": {
      "text/plain": [
       "RidgeCV(alphas=array([0.01      , 0.01023531, 0.01047616, 0.01072267, 0.01097499,\n",
       "       0.01123324, 0.01149757, 0.01176812, 0.01204504, 0.01232847,\n",
       "       0.01261857, 0.0129155 , 0.01321941, 0.01353048, 0.01384886,\n",
       "       0.01417474, 0.01450829, 0.01484968, 0.01519911, 0.01555676,\n",
       "       0.01592283, 0.01629751, 0.01668101, 0.01707353, 0.01747528,\n",
       "       0.0178865 , 0.01830738, 0.01873817, 0.0191791 , 0.01963041,\n",
       "       0.02009...\n",
       "       0.05722368, 0.05857021, 0.05994843, 0.06135907, 0.06280291,\n",
       "       0.06428073, 0.06579332, 0.06734151, 0.06892612, 0.07054802,\n",
       "       0.07220809, 0.07390722, 0.07564633, 0.07742637, 0.07924829,\n",
       "       0.08111308, 0.08302176, 0.08497534, 0.0869749 , 0.08902151,\n",
       "       0.09111628, 0.09326033, 0.09545485, 0.097701  , 0.1       ]),\n",
       "        cv=None, fit_intercept=True, gcv_mode=None, normalize=False,\n",
       "        scoring=None, store_cv_values=True)"
      ]
     },
     "execution_count": 40,
     "metadata": {},
     "output_type": "execute_result"
    }
   ],
   "source": [
    "bos=bos.sample(frac=1,random_state=3)\n",
    "y=bos['price']\n",
    "x=bos.drop(['price'],axis=1)\n",
    "\n",
    "ridge_alphas = np.logspace(-2,-1,100)\n",
    "\n",
    "\n",
    "ridge_cv = RidgeCV(alphas = ridge_alphas, store_cv_values=True)\n",
    "\n",
    "ridge_cv.fit(x,y)\n",
    "\n",
    "\n",
    "\n",
    "\n",
    "\n",
    "\n",
    "\n",
    "\n"
   ]
  },
  {
   "cell_type": "code",
   "execution_count": null,
   "metadata": {},
   "outputs": [],
   "source": []
  },
  {
   "cell_type": "code",
   "execution_count": 39,
   "metadata": {},
   "outputs": [
    {
     "data": {
      "text/plain": [
       "0.03678379771828634"
      ]
     },
     "execution_count": 39,
     "metadata": {},
     "output_type": "execute_result"
    }
   ],
   "source": [
    "\n",
    "ridge_cv.alpha_"
   ]
  },
  {
   "cell_type": "code",
   "execution_count": 38,
   "metadata": {},
   "outputs": [
    {
     "data": {
      "text/plain": [
       "array([-1.07805433e-01,  4.64781001e-02,  1.88138776e-02,  2.68045230e+00,\n",
       "       -1.73526918e+01,  3.81310803e+00,  3.24037719e-04, -1.46946799e+00,\n",
       "        3.05078019e-01, -1.23674079e-02, -9.48157516e-01,  9.33326990e-03,\n",
       "       -5.25217160e-01])"
      ]
     },
     "execution_count": 38,
     "metadata": {},
     "output_type": "execute_result"
    }
   ],
   "source": [
    "ridge_cv.coef_"
   ]
  },
  {
   "cell_type": "code",
   "execution_count": 37,
   "metadata": {},
   "outputs": [
    {
     "data": {
      "text/html": [
       "<div>\n",
       "<style scoped>\n",
       "    .dataframe tbody tr th:only-of-type {\n",
       "        vertical-align: middle;\n",
       "    }\n",
       "\n",
       "    .dataframe tbody tr th {\n",
       "        vertical-align: top;\n",
       "    }\n",
       "\n",
       "    .dataframe thead th {\n",
       "        text-align: right;\n",
       "    }\n",
       "</style>\n",
       "<table border=\"1\" class=\"dataframe\">\n",
       "  <thead>\n",
       "    <tr style=\"text-align: right;\">\n",
       "      <th></th>\n",
       "      <th>coefs</th>\n",
       "    </tr>\n",
       "  </thead>\n",
       "  <tbody>\n",
       "    <tr>\n",
       "      <td>CRIM</td>\n",
       "      <td>-0.107805</td>\n",
       "    </tr>\n",
       "    <tr>\n",
       "      <td>ZN</td>\n",
       "      <td>0.046478</td>\n",
       "    </tr>\n",
       "    <tr>\n",
       "      <td>INDUS</td>\n",
       "      <td>0.018814</td>\n",
       "    </tr>\n",
       "    <tr>\n",
       "      <td>CHAS</td>\n",
       "      <td>2.680452</td>\n",
       "    </tr>\n",
       "    <tr>\n",
       "      <td>NOX</td>\n",
       "      <td>-17.352692</td>\n",
       "    </tr>\n",
       "    <tr>\n",
       "      <td>RM</td>\n",
       "      <td>3.813108</td>\n",
       "    </tr>\n",
       "    <tr>\n",
       "      <td>AGE</td>\n",
       "      <td>0.000324</td>\n",
       "    </tr>\n",
       "    <tr>\n",
       "      <td>DIS</td>\n",
       "      <td>-1.469468</td>\n",
       "    </tr>\n",
       "    <tr>\n",
       "      <td>RAD</td>\n",
       "      <td>0.305078</td>\n",
       "    </tr>\n",
       "    <tr>\n",
       "      <td>TAX</td>\n",
       "      <td>-0.012367</td>\n",
       "    </tr>\n",
       "    <tr>\n",
       "      <td>PTRATIO</td>\n",
       "      <td>-0.948158</td>\n",
       "    </tr>\n",
       "    <tr>\n",
       "      <td>B</td>\n",
       "      <td>0.009333</td>\n",
       "    </tr>\n",
       "    <tr>\n",
       "      <td>LSTAT</td>\n",
       "      <td>-0.525217</td>\n",
       "    </tr>\n",
       "  </tbody>\n",
       "</table>\n",
       "</div>"
      ],
      "text/plain": [
       "             coefs\n",
       "CRIM     -0.107805\n",
       "ZN        0.046478\n",
       "INDUS     0.018814\n",
       "CHAS      2.680452\n",
       "NOX     -17.352692\n",
       "RM        3.813108\n",
       "AGE       0.000324\n",
       "DIS      -1.469468\n",
       "RAD       0.305078\n",
       "TAX      -0.012367\n",
       "PTRATIO  -0.948158\n",
       "B         0.009333\n",
       "LSTAT    -0.525217"
      ]
     },
     "execution_count": 37,
     "metadata": {},
     "output_type": "execute_result"
    }
   ],
   "source": [
    "pd.DataFrame(ridge_cv.coef_,index = x.columns,columns=['coefs'])"
   ]
  },
  {
   "cell_type": "code",
   "execution_count": 36,
   "metadata": {},
   "outputs": [
    {
     "data": {
      "text/plain": [
       "array([-1.07805433e-01,  4.64781001e-02,  1.88138776e-02,  2.68045230e+00,\n",
       "       -1.73526918e+01,  3.81310803e+00,  3.24037719e-04, -1.46946799e+00,\n",
       "        3.05078019e-01, -1.23674079e-02, -9.48157516e-01,  9.33326990e-03,\n",
       "       -5.25217160e-01])"
      ]
     },
     "execution_count": 36,
     "metadata": {},
     "output_type": "execute_result"
    }
   ],
   "source": [
    "ridge_cv.coef_"
   ]
  },
  {
   "cell_type": "code",
   "execution_count": 35,
   "metadata": {},
   "outputs": [
    {
     "data": {
      "image/png": "[encoded data removed]",
      "text/plain": [
       "<Figure size 432x288 with 1 Axes>"
      ]
     },
     "metadata": {
      "needs_background": "light"
     },
     "output_type": "display_data"
    }
   ],
   "source": [
    "plt.plot(ridge_cv.alphas,ridge_cv.cv_values_.mean(0))\n",
    "plt.axvline(ridge_cv.alpha_ , c='g')\n",
    "plt.xlabel('Alphas')\n",
    "plt.ylabel('MSE')\n",
    "plt.show()"
   ]
  },
  {
   "cell_type": "markdown",
   "metadata": {},
   "source": [
    "# ELASTIC NET REGULARIZATION"
   ]
  },
  {
   "cell_type": "code",
   "execution_count": 96,
   "metadata": {},
   "outputs": [
    {
     "data": {
      "text/plain": [
       "array([0.01, 0.12, 0.23, 0.34, 0.45, 0.56, 0.67, 0.78, 0.89, 1.  ])"
      ]
     },
     "execution_count": 96,
     "metadata": {},
     "output_type": "execute_result"
    }
   ],
   "source": [
    "np.linspace(0.01,1,10)"
   ]
  },
  {
   "cell_type": "code",
   "execution_count": 97,
   "metadata": {},
   "outputs": [
    {
     "data": {
      "text/plain": [
       "array([0.01      , 0.01668101, 0.02782559, 0.04641589, 0.07742637,\n",
       "       0.12915497, 0.21544347, 0.35938137, 0.59948425, 1.        ])"
      ]
     },
     "execution_count": 97,
     "metadata": {},
     "output_type": "execute_result"
    }
   ],
   "source": [
    "np.logspace(-2,0,10)"
   ]
  },
  {
   "cell_type": "code",
   "execution_count": 98,
   "metadata": {},
   "outputs": [
    {
     "ename": "ValueError",
     "evalue": "could not convert string to float: 'yes'",
     "output_type": "error",
     "traceback": [
      "\u001b[1;31m---------------------------------------------------------------------------\u001b[0m",
      "\u001b[1;31mValueError\u001b[0m                                Traceback (most recent call last)",
      "\u001b[1;32m<ipython-input-98-b60f0cf1d97e>\u001b[0m in \u001b[0;36m<module>\u001b[1;34m\u001b[0m\n\u001b[0;32m      2\u001b[0m \u001b[1;33m\u001b[0m\u001b[0m\n\u001b[0;32m      3\u001b[0m \u001b[0men_cv\u001b[0m \u001b[1;33m=\u001b[0m \u001b[0mElasticNetCV\u001b[0m\u001b[1;33m(\u001b[0m\u001b[0malphas\u001b[0m\u001b[1;33m=\u001b[0m\u001b[0malphas\u001b[0m \u001b[1;33m,\u001b[0m\u001b[0mcv\u001b[0m\u001b[1;33m=\u001b[0m\u001b[1;36m3\u001b[0m \u001b[1;33m,\u001b[0m \u001b[0mrandom_state\u001b[0m\u001b[1;33m=\u001b[0m\u001b[1;36m3\u001b[0m\u001b[1;33m)\u001b[0m\u001b[1;33m\u001b[0m\u001b[1;33m\u001b[0m\u001b[0m\n\u001b[1;32m----> 4\u001b[1;33m \u001b[0men_cv\u001b[0m\u001b[1;33m.\u001b[0m\u001b[0mfit\u001b[0m\u001b[1;33m(\u001b[0m\u001b[0mx\u001b[0m\u001b[1;33m,\u001b[0m\u001b[0my\u001b[0m\u001b[1;33m)\u001b[0m\u001b[1;33m\u001b[0m\u001b[1;33m\u001b[0m\u001b[0m\n\u001b[0m",
      "\u001b[1;32m~\\Anaconda3\\lib\\site-packages\\sklearn\\linear_model\\coordinate_descent.py\u001b[0m in \u001b[0;36mfit\u001b[1;34m(self, X, y)\u001b[0m\n\u001b[0;32m   1138\u001b[0m         \u001b[1;32melse\u001b[0m\u001b[1;33m:\u001b[0m\u001b[1;33m\u001b[0m\u001b[1;33m\u001b[0m\u001b[0m\n\u001b[0;32m   1139\u001b[0m             X = check_array(X, 'csc', dtype=[np.float64, np.float32],\n\u001b[1;32m-> 1140\u001b[1;33m                             order='F', copy=copy_X)\n\u001b[0m\u001b[0;32m   1141\u001b[0m             \u001b[0mcopy_X\u001b[0m \u001b[1;33m=\u001b[0m \u001b[1;32mFalse\u001b[0m\u001b[1;33m\u001b[0m\u001b[1;33m\u001b[0m\u001b[0m\n\u001b[0;32m   1142\u001b[0m \u001b[1;33m\u001b[0m\u001b[0m\n",
      "\u001b[1;32m~\\Anaconda3\\lib\\site-packages\\sklearn\\utils\\validation.py\u001b[0m in \u001b[0;36mcheck_array\u001b[1;34m(array, accept_sparse, accept_large_sparse, dtype, order, copy, force_all_finite, ensure_2d, allow_nd, ensure_min_samples, ensure_min_features, warn_on_dtype, estimator)\u001b[0m\n\u001b[0;32m    494\u001b[0m             \u001b[1;32mtry\u001b[0m\u001b[1;33m:\u001b[0m\u001b[1;33m\u001b[0m\u001b[1;33m\u001b[0m\u001b[0m\n\u001b[0;32m    495\u001b[0m                 \u001b[0mwarnings\u001b[0m\u001b[1;33m.\u001b[0m\u001b[0msimplefilter\u001b[0m\u001b[1;33m(\u001b[0m\u001b[1;34m'error'\u001b[0m\u001b[1;33m,\u001b[0m \u001b[0mComplexWarning\u001b[0m\u001b[1;33m)\u001b[0m\u001b[1;33m\u001b[0m\u001b[1;33m\u001b[0m\u001b[0m\n\u001b[1;32m--> 496\u001b[1;33m                 \u001b[0marray\u001b[0m \u001b[1;33m=\u001b[0m \u001b[0mnp\u001b[0m\u001b[1;33m.\u001b[0m\u001b[0masarray\u001b[0m\u001b[1;33m(\u001b[0m\u001b[0marray\u001b[0m\u001b[1;33m,\u001b[0m \u001b[0mdtype\u001b[0m\u001b[1;33m=\u001b[0m\u001b[0mdtype\u001b[0m\u001b[1;33m,\u001b[0m \u001b[0morder\u001b[0m\u001b[1;33m=\u001b[0m\u001b[0morder\u001b[0m\u001b[1;33m)\u001b[0m\u001b[1;33m\u001b[0m\u001b[1;33m\u001b[0m\u001b[0m\n\u001b[0m\u001b[0;32m    497\u001b[0m             \u001b[1;32mexcept\u001b[0m \u001b[0mComplexWarning\u001b[0m\u001b[1;33m:\u001b[0m\u001b[1;33m\u001b[0m\u001b[1;33m\u001b[0m\u001b[0m\n\u001b[0;32m    498\u001b[0m                 raise ValueError(\"Complex data not supported\\n\"\n",
      "\u001b[1;32m~\\Anaconda3\\lib\\site-packages\\numpy\\core\\numeric.py\u001b[0m in \u001b[0;36masarray\u001b[1;34m(a, dtype, order)\u001b[0m\n\u001b[0;32m    536\u001b[0m \u001b[1;33m\u001b[0m\u001b[0m\n\u001b[0;32m    537\u001b[0m     \"\"\"\n\u001b[1;32m--> 538\u001b[1;33m     \u001b[1;32mreturn\u001b[0m \u001b[0marray\u001b[0m\u001b[1;33m(\u001b[0m\u001b[0ma\u001b[0m\u001b[1;33m,\u001b[0m \u001b[0mdtype\u001b[0m\u001b[1;33m,\u001b[0m \u001b[0mcopy\u001b[0m\u001b[1;33m=\u001b[0m\u001b[1;32mFalse\u001b[0m\u001b[1;33m,\u001b[0m \u001b[0morder\u001b[0m\u001b[1;33m=\u001b[0m\u001b[0morder\u001b[0m\u001b[1;33m)\u001b[0m\u001b[1;33m\u001b[0m\u001b[1;33m\u001b[0m\u001b[0m\n\u001b[0m\u001b[0;32m    539\u001b[0m \u001b[1;33m\u001b[0m\u001b[0m\n\u001b[0;32m    540\u001b[0m \u001b[1;33m\u001b[0m\u001b[0m\n",
      "\u001b[1;31mValueError\u001b[0m: could not convert string to float: 'yes'"
     ]
    }
   ],
   "source": [
    "alphas= np.logspace(-3,2,10)\n",
    "\n",
    "en_cv = ElasticNetCV(alphas=alphas ,cv=3 , random_state=3)\n",
    "en_cv.fit(x,y)"
   ]
  },
  {
   "cell_type": "code",
   "execution_count": 99,
   "metadata": {},
   "outputs": [
    {
     "ename": "AttributeError",
     "evalue": "'ElasticNetCV' object has no attribute 'alpha_'",
     "output_type": "error",
     "traceback": [
      "\u001b[1;31m---------------------------------------------------------------------------\u001b[0m",
      "\u001b[1;31mAttributeError\u001b[0m                            Traceback (most recent call last)",
      "\u001b[1;32m<ipython-input-99-ab54bb08b549>\u001b[0m in \u001b[0;36m<module>\u001b[1;34m\u001b[0m\n\u001b[1;32m----> 1\u001b[1;33m \u001b[0men_cv\u001b[0m\u001b[1;33m.\u001b[0m\u001b[0malpha_\u001b[0m\u001b[1;33m\u001b[0m\u001b[1;33m\u001b[0m\u001b[0m\n\u001b[0m",
      "\u001b[1;31mAttributeError\u001b[0m: 'ElasticNetCV' object has no attribute 'alpha_'"
     ]
    }
   ],
   "source": [
    "en_cv.alpha_"
   ]
  },
  {
   "cell_type": "markdown",
   "metadata": {},
   "source": [
    "since optimal alpha is shify=ting the boundary at the lowest level, we can conclude that elastic net regularization is not required for this model"
   ]
  },
  {
   "cell_type": "code",
   "execution_count": 166,
   "metadata": {},
   "outputs": [],
   "source": [
    "df = pd.read_csv('file:///C:/Users/dell/Downloads/Housing.csv')"
   ]
  },
  {
   "cell_type": "code",
   "execution_count": 167,
   "metadata": {},
   "outputs": [],
   "source": [
    "df = df.sample(frac=1, random_state=3)"
   ]
  },
  {
   "cell_type": "code",
   "execution_count": 168,
   "metadata": {},
   "outputs": [
    {
     "name": "stdout",
     "output_type": "stream",
     "text": [
      "<class 'pandas.core.frame.DataFrame'>\n",
      "Int64Index: 546 entries, 399 to 249\n",
      "Data columns (total 13 columns):\n",
      "Unnamed: 0    546 non-null int64\n",
      "price         546 non-null float64\n",
      "lotsize       546 non-null int64\n",
      "bedrooms      546 non-null int64\n",
      "bathrms       546 non-null int64\n",
      "stories       546 non-null int64\n",
      "driveway      546 non-null object\n",
      "recroom       546 non-null object\n",
      "fullbase      546 non-null object\n",
      "gashw         546 non-null object\n",
      "airco         546 non-null object\n",
      "garagepl      546 non-null int64\n",
      "prefarea      546 non-null object\n",
      "dtypes: float64(1), int64(6), object(6)\n",
      "memory usage: 59.7+ KB\n"
     ]
    }
   ],
   "source": [
    "df.info()"
   ]
  },
  {
   "cell_type": "code",
   "execution_count": 169,
   "metadata": {},
   "outputs": [],
   "source": [
    "df = df.drop('Unnamed: 0',axis=1)"
   ]
  },
  {
   "cell_type": "code",
   "execution_count": 170,
   "metadata": {},
   "outputs": [
    {
     "data": {
      "text/html": [
       "<div>\n",
       "<style scoped>\n",
       "    .dataframe tbody tr th:only-of-type {\n",
       "        vertical-align: middle;\n",
       "    }\n",
       "\n",
       "    .dataframe tbody tr th {\n",
       "        vertical-align: top;\n",
       "    }\n",
       "\n",
       "    .dataframe thead th {\n",
       "        text-align: right;\n",
       "    }\n",
       "</style>\n",
       "<table border=\"1\" class=\"dataframe\">\n",
       "  <thead>\n",
       "    <tr style=\"text-align: right;\">\n",
       "      <th></th>\n",
       "      <th>price</th>\n",
       "      <th>lotsize</th>\n",
       "      <th>bedrooms</th>\n",
       "      <th>bathrms</th>\n",
       "      <th>stories</th>\n",
       "      <th>garagepl</th>\n",
       "    </tr>\n",
       "  </thead>\n",
       "  <tbody>\n",
       "    <tr>\n",
       "      <td>count</td>\n",
       "      <td>546.000000</td>\n",
       "      <td>546.000000</td>\n",
       "      <td>546.000000</td>\n",
       "      <td>546.000000</td>\n",
       "      <td>546.000000</td>\n",
       "      <td>546.000000</td>\n",
       "    </tr>\n",
       "    <tr>\n",
       "      <td>mean</td>\n",
       "      <td>68121.597070</td>\n",
       "      <td>5150.265568</td>\n",
       "      <td>2.965201</td>\n",
       "      <td>1.285714</td>\n",
       "      <td>1.807692</td>\n",
       "      <td>0.692308</td>\n",
       "    </tr>\n",
       "    <tr>\n",
       "      <td>std</td>\n",
       "      <td>26702.670926</td>\n",
       "      <td>2168.158725</td>\n",
       "      <td>0.737388</td>\n",
       "      <td>0.502158</td>\n",
       "      <td>0.868203</td>\n",
       "      <td>0.861307</td>\n",
       "    </tr>\n",
       "    <tr>\n",
       "      <td>min</td>\n",
       "      <td>25000.000000</td>\n",
       "      <td>1650.000000</td>\n",
       "      <td>1.000000</td>\n",
       "      <td>1.000000</td>\n",
       "      <td>1.000000</td>\n",
       "      <td>0.000000</td>\n",
       "    </tr>\n",
       "    <tr>\n",
       "      <td>25%</td>\n",
       "      <td>49125.000000</td>\n",
       "      <td>3600.000000</td>\n",
       "      <td>2.000000</td>\n",
       "      <td>1.000000</td>\n",
       "      <td>1.000000</td>\n",
       "      <td>0.000000</td>\n",
       "    </tr>\n",
       "    <tr>\n",
       "      <td>50%</td>\n",
       "      <td>62000.000000</td>\n",
       "      <td>4600.000000</td>\n",
       "      <td>3.000000</td>\n",
       "      <td>1.000000</td>\n",
       "      <td>2.000000</td>\n",
       "      <td>0.000000</td>\n",
       "    </tr>\n",
       "    <tr>\n",
       "      <td>75%</td>\n",
       "      <td>82000.000000</td>\n",
       "      <td>6360.000000</td>\n",
       "      <td>3.000000</td>\n",
       "      <td>2.000000</td>\n",
       "      <td>2.000000</td>\n",
       "      <td>1.000000</td>\n",
       "    </tr>\n",
       "    <tr>\n",
       "      <td>max</td>\n",
       "      <td>190000.000000</td>\n",
       "      <td>16200.000000</td>\n",
       "      <td>6.000000</td>\n",
       "      <td>4.000000</td>\n",
       "      <td>4.000000</td>\n",
       "      <td>3.000000</td>\n",
       "    </tr>\n",
       "  </tbody>\n",
       "</table>\n",
       "</div>"
      ],
      "text/plain": [
       "               price       lotsize    bedrooms     bathrms     stories  \\\n",
       "count     546.000000    546.000000  546.000000  546.000000  546.000000   \n",
       "mean    68121.597070   5150.265568    2.965201    1.285714    1.807692   \n",
       "std     26702.670926   2168.158725    0.737388    0.502158    0.868203   \n",
       "min     25000.000000   1650.000000    1.000000    1.000000    1.000000   \n",
       "25%     49125.000000   3600.000000    2.000000    1.000000    1.000000   \n",
       "50%     62000.000000   4600.000000    3.000000    1.000000    2.000000   \n",
       "75%     82000.000000   6360.000000    3.000000    2.000000    2.000000   \n",
       "max    190000.000000  16200.000000    6.000000    4.000000    4.000000   \n",
       "\n",
       "         garagepl  \n",
       "count  546.000000  \n",
       "mean     0.692308  \n",
       "std      0.861307  \n",
       "min      0.000000  \n",
       "25%      0.000000  \n",
       "50%      0.000000  \n",
       "75%      1.000000  \n",
       "max      3.000000  "
      ]
     },
     "execution_count": 170,
     "metadata": {},
     "output_type": "execute_result"
    }
   ],
   "source": [
    "df.describe()"
   ]
  },
  {
   "cell_type": "code",
   "execution_count": 171,
   "metadata": {},
   "outputs": [
    {
     "data": {
      "text/html": [
       "<div>\n",
       "<style scoped>\n",
       "    .dataframe tbody tr th:only-of-type {\n",
       "        vertical-align: middle;\n",
       "    }\n",
       "\n",
       "    .dataframe tbody tr th {\n",
       "        vertical-align: top;\n",
       "    }\n",
       "\n",
       "    .dataframe thead th {\n",
       "        text-align: right;\n",
       "    }\n",
       "</style>\n",
       "<table border=\"1\" class=\"dataframe\">\n",
       "  <thead>\n",
       "    <tr style=\"text-align: right;\">\n",
       "      <th></th>\n",
       "      <th>price</th>\n",
       "      <th>lotsize</th>\n",
       "      <th>bedrooms</th>\n",
       "      <th>bathrms</th>\n",
       "      <th>stories</th>\n",
       "      <th>driveway</th>\n",
       "      <th>recroom</th>\n",
       "      <th>fullbase</th>\n",
       "      <th>gashw</th>\n",
       "      <th>airco</th>\n",
       "      <th>garagepl</th>\n",
       "      <th>prefarea</th>\n",
       "    </tr>\n",
       "  </thead>\n",
       "  <tbody>\n",
       "    <tr>\n",
       "      <td>399</td>\n",
       "      <td>85000.0</td>\n",
       "      <td>7231</td>\n",
       "      <td>3</td>\n",
       "      <td>1</td>\n",
       "      <td>2</td>\n",
       "      <td>yes</td>\n",
       "      <td>yes</td>\n",
       "      <td>yes</td>\n",
       "      <td>no</td>\n",
       "      <td>yes</td>\n",
       "      <td>0</td>\n",
       "      <td>yes</td>\n",
       "    </tr>\n",
       "    <tr>\n",
       "      <td>251</td>\n",
       "      <td>52000.0</td>\n",
       "      <td>3520</td>\n",
       "      <td>2</td>\n",
       "      <td>2</td>\n",
       "      <td>1</td>\n",
       "      <td>yes</td>\n",
       "      <td>no</td>\n",
       "      <td>yes</td>\n",
       "      <td>no</td>\n",
       "      <td>no</td>\n",
       "      <td>0</td>\n",
       "      <td>no</td>\n",
       "    </tr>\n",
       "    <tr>\n",
       "      <td>455</td>\n",
       "      <td>75000.0</td>\n",
       "      <td>3800</td>\n",
       "      <td>3</td>\n",
       "      <td>1</td>\n",
       "      <td>2</td>\n",
       "      <td>yes</td>\n",
       "      <td>yes</td>\n",
       "      <td>yes</td>\n",
       "      <td>no</td>\n",
       "      <td>no</td>\n",
       "      <td>1</td>\n",
       "      <td>yes</td>\n",
       "    </tr>\n",
       "    <tr>\n",
       "      <td>466</td>\n",
       "      <td>54000.0</td>\n",
       "      <td>2856</td>\n",
       "      <td>3</td>\n",
       "      <td>1</td>\n",
       "      <td>3</td>\n",
       "      <td>yes</td>\n",
       "      <td>no</td>\n",
       "      <td>no</td>\n",
       "      <td>no</td>\n",
       "      <td>no</td>\n",
       "      <td>0</td>\n",
       "      <td>yes</td>\n",
       "    </tr>\n",
       "    <tr>\n",
       "      <td>129</td>\n",
       "      <td>127000.0</td>\n",
       "      <td>4600</td>\n",
       "      <td>3</td>\n",
       "      <td>2</td>\n",
       "      <td>2</td>\n",
       "      <td>yes</td>\n",
       "      <td>yes</td>\n",
       "      <td>no</td>\n",
       "      <td>no</td>\n",
       "      <td>yes</td>\n",
       "      <td>2</td>\n",
       "      <td>no</td>\n",
       "    </tr>\n",
       "    <tr>\n",
       "      <td>...</td>\n",
       "      <td>...</td>\n",
       "      <td>...</td>\n",
       "      <td>...</td>\n",
       "      <td>...</td>\n",
       "      <td>...</td>\n",
       "      <td>...</td>\n",
       "      <td>...</td>\n",
       "      <td>...</td>\n",
       "      <td>...</td>\n",
       "      <td>...</td>\n",
       "      <td>...</td>\n",
       "      <td>...</td>\n",
       "    </tr>\n",
       "    <tr>\n",
       "      <td>480</td>\n",
       "      <td>89500.0</td>\n",
       "      <td>6000</td>\n",
       "      <td>4</td>\n",
       "      <td>1</td>\n",
       "      <td>3</td>\n",
       "      <td>yes</td>\n",
       "      <td>yes</td>\n",
       "      <td>yes</td>\n",
       "      <td>no</td>\n",
       "      <td>no</td>\n",
       "      <td>0</td>\n",
       "      <td>yes</td>\n",
       "    </tr>\n",
       "    <tr>\n",
       "      <td>422</td>\n",
       "      <td>61100.0</td>\n",
       "      <td>3400</td>\n",
       "      <td>3</td>\n",
       "      <td>1</td>\n",
       "      <td>2</td>\n",
       "      <td>yes</td>\n",
       "      <td>no</td>\n",
       "      <td>yes</td>\n",
       "      <td>no</td>\n",
       "      <td>no</td>\n",
       "      <td>2</td>\n",
       "      <td>yes</td>\n",
       "    </tr>\n",
       "    <tr>\n",
       "      <td>119</td>\n",
       "      <td>116000.0</td>\n",
       "      <td>6840</td>\n",
       "      <td>5</td>\n",
       "      <td>1</td>\n",
       "      <td>2</td>\n",
       "      <td>yes</td>\n",
       "      <td>yes</td>\n",
       "      <td>yes</td>\n",
       "      <td>no</td>\n",
       "      <td>yes</td>\n",
       "      <td>1</td>\n",
       "      <td>no</td>\n",
       "    </tr>\n",
       "    <tr>\n",
       "      <td>256</td>\n",
       "      <td>71000.0</td>\n",
       "      <td>4410</td>\n",
       "      <td>4</td>\n",
       "      <td>3</td>\n",
       "      <td>2</td>\n",
       "      <td>yes</td>\n",
       "      <td>no</td>\n",
       "      <td>yes</td>\n",
       "      <td>no</td>\n",
       "      <td>no</td>\n",
       "      <td>2</td>\n",
       "      <td>no</td>\n",
       "    </tr>\n",
       "    <tr>\n",
       "      <td>249</td>\n",
       "      <td>45000.0</td>\n",
       "      <td>3450</td>\n",
       "      <td>3</td>\n",
       "      <td>1</td>\n",
       "      <td>2</td>\n",
       "      <td>yes</td>\n",
       "      <td>no</td>\n",
       "      <td>yes</td>\n",
       "      <td>no</td>\n",
       "      <td>no</td>\n",
       "      <td>0</td>\n",
       "      <td>no</td>\n",
       "    </tr>\n",
       "  </tbody>\n",
       "</table>\n",
       "<p>546 rows × 12 columns</p>\n",
       "</div>"
      ],
      "text/plain": [
       "        price  lotsize  bedrooms  bathrms  stories driveway recroom fullbase  \\\n",
       "399   85000.0     7231         3        1        2      yes     yes      yes   \n",
       "251   52000.0     3520         2        2        1      yes      no      yes   \n",
       "455   75000.0     3800         3        1        2      yes     yes      yes   \n",
       "466   54000.0     2856         3        1        3      yes      no       no   \n",
       "129  127000.0     4600         3        2        2      yes     yes       no   \n",
       "..        ...      ...       ...      ...      ...      ...     ...      ...   \n",
       "480   89500.0     6000         4        1        3      yes     yes      yes   \n",
       "422   61100.0     3400         3        1        2      yes      no      yes   \n",
       "119  116000.0     6840         5        1        2      yes     yes      yes   \n",
       "256   71000.0     4410         4        3        2      yes      no      yes   \n",
       "249   45000.0     3450         3        1        2      yes      no      yes   \n",
       "\n",
       "    gashw airco  garagepl prefarea  \n",
       "399    no   yes         0      yes  \n",
       "251    no    no         0       no  \n",
       "455    no    no         1      yes  \n",
       "466    no    no         0      yes  \n",
       "129    no   yes         2       no  \n",
       "..    ...   ...       ...      ...  \n",
       "480    no    no         0      yes  \n",
       "422    no    no         2      yes  \n",
       "119    no   yes         1       no  \n",
       "256    no    no         2       no  \n",
       "249    no    no         0       no  \n",
       "\n",
       "[546 rows x 12 columns]"
      ]
     },
     "execution_count": 171,
     "metadata": {},
     "output_type": "execute_result"
    }
   ],
   "source": [
    "df"
   ]
  },
  {
   "cell_type": "code",
   "execution_count": 172,
   "metadata": {},
   "outputs": [],
   "source": [
    "obj_cols = list(df.select_dtypes(include='object').columns)"
   ]
  },
  {
   "cell_type": "code",
   "execution_count": 173,
   "metadata": {},
   "outputs": [
    {
     "data": {
      "text/plain": [
       "['driveway', 'recroom', 'fullbase', 'gashw', 'airco', 'prefarea']"
      ]
     },
     "execution_count": 173,
     "metadata": {},
     "output_type": "execute_result"
    }
   ],
   "source": [
    "obj_cols"
   ]
  },
  {
   "cell_type": "code",
   "execution_count": 174,
   "metadata": {},
   "outputs": [
    {
     "name": "stdout",
     "output_type": "stream",
     "text": [
      "yes    469\n",
      "no      77\n",
      "Name: driveway, dtype: int64\n",
      "\n",
      "\n",
      "no     449\n",
      "yes     97\n",
      "Name: recroom, dtype: int64\n",
      "\n",
      "\n",
      "no     355\n",
      "yes    191\n",
      "Name: fullbase, dtype: int64\n",
      "\n",
      "\n",
      "no     521\n",
      "yes     25\n",
      "Name: gashw, dtype: int64\n",
      "\n",
      "\n",
      "no     373\n",
      "yes    173\n",
      "Name: airco, dtype: int64\n",
      "\n",
      "\n",
      "no     418\n",
      "yes    128\n",
      "Name: prefarea, dtype: int64\n",
      "\n",
      "\n"
     ]
    }
   ],
   "source": [
    "for col in obj_cols:\n",
    "    print(df[col].value_counts())\n",
    "    print('\\n')"
   ]
  },
  {
   "cell_type": "code",
   "execution_count": 175,
   "metadata": {},
   "outputs": [],
   "source": [
    "df = pd.get_dummies(df, columns=obj_cols, drop_first=True)"
   ]
  },
  {
   "cell_type": "code",
   "execution_count": 176,
   "metadata": {},
   "outputs": [
    {
     "data": {
      "text/plain": [
       "price           0.0\n",
       "lotsize         0.0\n",
       "bedrooms        0.0\n",
       "bathrms         0.0\n",
       "stories         0.0\n",
       "garagepl        0.0\n",
       "driveway_yes    0.0\n",
       "recroom_yes     0.0\n",
       "fullbase_yes    0.0\n",
       "gashw_yes       0.0\n",
       "airco_yes       0.0\n",
       "prefarea_yes    0.0\n",
       "dtype: float64"
      ]
     },
     "execution_count": 176,
     "metadata": {},
     "output_type": "execute_result"
    }
   ],
   "source": [
    "df.isnull().sum()*100/df.shape[1]"
   ]
  },
  {
   "cell_type": "code",
   "execution_count": 177,
   "metadata": {},
   "outputs": [
    {
     "data": {
      "text/plain": [
       "<matplotlib.axes._subplots.AxesSubplot at 0x18d110d86c8>"
      ]
     },
     "execution_count": 177,
     "metadata": {},
     "output_type": "execute_result"
    },
    {
     "data": {
      "image/png": "[encoded data removed]",
      "text/plain": [
       "<Figure size 432x288 with 1 Axes>"
      ]
     },
     "metadata": {
      "needs_background": "light"
     },
     "output_type": "display_data"
    }
   ],
   "source": [
    "sns.distplot(df.price)"
   ]
  },
  {
   "cell_type": "code",
   "execution_count": 178,
   "metadata": {},
   "outputs": [
    {
     "data": {
      "image/png": "[encoded data removed]",
      "text/plain": [
       "<Figure size 432x288 with 1 Axes>"
      ]
     },
     "metadata": {
      "needs_background": "light"
     },
     "output_type": "display_data"
    }
   ],
   "source": [
    "sns.distplot(df.lotsize)\n",
    "plt.show()"
   ]
  },
  {
   "cell_type": "code",
   "execution_count": 179,
   "metadata": {},
   "outputs": [
    {
     "data": {
      "text/plain": [
       "<matplotlib.axes._subplots.AxesSubplot at 0x18d10b60d48>"
      ]
     },
     "execution_count": 179,
     "metadata": {},
     "output_type": "execute_result"
    },
    {
     "data": {
      "image/png": "[encoded data removed]",
      "text/plain": [
       "<Figure size 432x288 with 1 Axes>"
      ]
     },
     "metadata": {
      "needs_background": "light"
     },
     "output_type": "display_data"
    }
   ],
   "source": [
    "sns.boxplot(df.lotsize)"
   ]
  },
  {
   "cell_type": "markdown",
   "metadata": {},
   "source": [
    "# stats model to predict price"
   ]
  },
  {
   "cell_type": "code",
   "execution_count": 180,
   "metadata": {},
   "outputs": [
    {
     "name": "stderr",
     "output_type": "stream",
     "text": [
      "C:\\Users\\dell\\Anaconda3\\lib\\site-packages\\numpy\\core\\fromnumeric.py:2389: FutureWarning: Method .ptp is deprecated and will be removed in a future version. Use numpy.ptp instead.\n",
      "  return ptp(axis=axis, out=out, **kwargs)\n"
     ]
    }
   ],
   "source": [
    "import statsmodels.api as sm\n",
    "\n",
    "y = df.price\n",
    "x = df.drop('price',axis=1)\n",
    "xc = sm.add_constant(x)"
   ]
  },
  {
   "cell_type": "code",
   "execution_count": 181,
   "metadata": {},
   "outputs": [
    {
     "data": {
      "text/html": [
       "<div>\n",
       "<style scoped>\n",
       "    .dataframe tbody tr th:only-of-type {\n",
       "        vertical-align: middle;\n",
       "    }\n",
       "\n",
       "    .dataframe tbody tr th {\n",
       "        vertical-align: top;\n",
       "    }\n",
       "\n",
       "    .dataframe thead th {\n",
       "        text-align: right;\n",
       "    }\n",
       "</style>\n",
       "<table border=\"1\" class=\"dataframe\">\n",
       "  <thead>\n",
       "    <tr style=\"text-align: right;\">\n",
       "      <th></th>\n",
       "      <th>vif</th>\n",
       "    </tr>\n",
       "  </thead>\n",
       "  <tbody>\n",
       "    <tr>\n",
       "      <td>const</td>\n",
       "      <td>26.682009</td>\n",
       "    </tr>\n",
       "    <tr>\n",
       "      <td>lotsize</td>\n",
       "      <td>1.321632</td>\n",
       "    </tr>\n",
       "    <tr>\n",
       "      <td>bedrooms</td>\n",
       "      <td>1.365633</td>\n",
       "    </tr>\n",
       "    <tr>\n",
       "      <td>bathrms</td>\n",
       "      <td>1.282494</td>\n",
       "    </tr>\n",
       "    <tr>\n",
       "      <td>stories</td>\n",
       "      <td>1.478584</td>\n",
       "    </tr>\n",
       "    <tr>\n",
       "      <td>garagepl</td>\n",
       "      <td>1.200839</td>\n",
       "    </tr>\n",
       "    <tr>\n",
       "      <td>driveway_yes</td>\n",
       "      <td>1.163091</td>\n",
       "    </tr>\n",
       "    <tr>\n",
       "      <td>recroom_yes</td>\n",
       "      <td>1.210501</td>\n",
       "    </tr>\n",
       "    <tr>\n",
       "      <td>fullbase_yes</td>\n",
       "      <td>1.316543</td>\n",
       "    </tr>\n",
       "    <tr>\n",
       "      <td>gashw_yes</td>\n",
       "      <td>1.038246</td>\n",
       "    </tr>\n",
       "    <tr>\n",
       "      <td>airco_yes</td>\n",
       "      <td>1.201397</td>\n",
       "    </tr>\n",
       "    <tr>\n",
       "      <td>prefarea_yes</td>\n",
       "      <td>1.147639</td>\n",
       "    </tr>\n",
       "  </tbody>\n",
       "</table>\n",
       "</div>"
      ],
      "text/plain": [
       "                    vif\n",
       "const         26.682009\n",
       "lotsize        1.321632\n",
       "bedrooms       1.365633\n",
       "bathrms        1.282494\n",
       "stories        1.478584\n",
       "garagepl       1.200839\n",
       "driveway_yes   1.163091\n",
       "recroom_yes    1.210501\n",
       "fullbase_yes   1.316543\n",
       "gashw_yes      1.038246\n",
       "airco_yes      1.201397\n",
       "prefarea_yes   1.147639"
      ]
     },
     "execution_count": 181,
     "metadata": {},
     "output_type": "execute_result"
    }
   ],
   "source": [
    "from statsmodels.stats.outliers_influence import variance_inflation_factor as vif\n",
    "\n",
    "pd.DataFrame([vif(xc.values,i) for i in range(xc.shape[1])], index=xc.columns,columns=['vif'])"
   ]
  },
  {
   "cell_type": "code",
   "execution_count": 182,
   "metadata": {},
   "outputs": [
    {
     "data": {
      "text/html": [
       "<table class=\"simpletable\">\n",
       "<caption>OLS Regression Results</caption>\n",
       "<tr>\n",
       "  <th>Dep. Variable:</th>          <td>price</td>      <th>  R-squared:         </th> <td>   0.673</td> \n",
       "</tr>\n",
       "<tr>\n",
       "  <th>Model:</th>                   <td>OLS</td>       <th>  Adj. R-squared:    </th> <td>   0.666</td> \n",
       "</tr>\n",
       "<tr>\n",
       "  <th>Method:</th>             <td>Least Squares</td>  <th>  F-statistic:       </th> <td>   99.97</td> \n",
       "</tr>\n",
       "<tr>\n",
       "  <th>Date:</th>             <td>Thu, 12 Mar 2020</td> <th>  Prob (F-statistic):</th> <td>6.18e-122</td>\n",
       "</tr>\n",
       "<tr>\n",
       "  <th>Time:</th>                 <td>15:05:17</td>     <th>  Log-Likelihood:    </th> <td> -6034.1</td> \n",
       "</tr>\n",
       "<tr>\n",
       "  <th>No. Observations:</th>      <td>   546</td>      <th>  AIC:               </th> <td>1.209e+04</td>\n",
       "</tr>\n",
       "<tr>\n",
       "  <th>Df Residuals:</th>          <td>   534</td>      <th>  BIC:               </th> <td>1.214e+04</td>\n",
       "</tr>\n",
       "<tr>\n",
       "  <th>Df Model:</th>              <td>    11</td>      <th>                     </th>     <td> </td>    \n",
       "</tr>\n",
       "<tr>\n",
       "  <th>Covariance Type:</th>      <td>nonrobust</td>    <th>                     </th>     <td> </td>    \n",
       "</tr>\n",
       "</table>\n",
       "<table class=\"simpletable\">\n",
       "<tr>\n",
       "        <td></td>          <th>coef</th>     <th>std err</th>      <th>t</th>      <th>P>|t|</th>  <th>[0.025</th>    <th>0.975]</th>  \n",
       "</tr>\n",
       "<tr>\n",
       "  <th>const</th>        <td>-4038.3504</td> <td> 3409.471</td> <td>   -1.184</td> <td> 0.237</td> <td>-1.07e+04</td> <td> 2659.271</td>\n",
       "</tr>\n",
       "<tr>\n",
       "  <th>lotsize</th>      <td>    3.5463</td> <td>    0.350</td> <td>   10.124</td> <td> 0.000</td> <td>    2.858</td> <td>    4.234</td>\n",
       "</tr>\n",
       "<tr>\n",
       "  <th>bedrooms</th>     <td> 1832.0035</td> <td> 1047.000</td> <td>    1.750</td> <td> 0.081</td> <td> -224.741</td> <td> 3888.748</td>\n",
       "</tr>\n",
       "<tr>\n",
       "  <th>bathrms</th>      <td> 1.434e+04</td> <td> 1489.921</td> <td>    9.622</td> <td> 0.000</td> <td> 1.14e+04</td> <td> 1.73e+04</td>\n",
       "</tr>\n",
       "<tr>\n",
       "  <th>stories</th>      <td> 6556.9457</td> <td>  925.290</td> <td>    7.086</td> <td> 0.000</td> <td> 4739.291</td> <td> 8374.600</td>\n",
       "</tr>\n",
       "<tr>\n",
       "  <th>garagepl</th>     <td> 4244.8290</td> <td>  840.544</td> <td>    5.050</td> <td> 0.000</td> <td> 2593.650</td> <td> 5896.008</td>\n",
       "</tr>\n",
       "<tr>\n",
       "  <th>driveway_yes</th> <td> 6687.7789</td> <td> 2045.246</td> <td>    3.270</td> <td> 0.001</td> <td> 2670.065</td> <td> 1.07e+04</td>\n",
       "</tr>\n",
       "<tr>\n",
       "  <th>recroom_yes</th>  <td> 4511.2838</td> <td> 1899.958</td> <td>    2.374</td> <td> 0.018</td> <td>  778.976</td> <td> 8243.592</td>\n",
       "</tr>\n",
       "<tr>\n",
       "  <th>fullbase_yes</th> <td> 5452.3855</td> <td> 1588.024</td> <td>    3.433</td> <td> 0.001</td> <td> 2332.845</td> <td> 8571.926</td>\n",
       "</tr>\n",
       "<tr>\n",
       "  <th>gashw_yes</th>    <td> 1.283e+04</td> <td> 3217.597</td> <td>    3.988</td> <td> 0.000</td> <td> 6510.706</td> <td> 1.92e+04</td>\n",
       "</tr>\n",
       "<tr>\n",
       "  <th>airco_yes</th>    <td> 1.263e+04</td> <td> 1555.021</td> <td>    8.124</td> <td> 0.000</td> <td> 9578.182</td> <td> 1.57e+04</td>\n",
       "</tr>\n",
       "<tr>\n",
       "  <th>prefarea_yes</th> <td> 9369.5132</td> <td> 1669.091</td> <td>    5.614</td> <td> 0.000</td> <td> 6090.724</td> <td> 1.26e+04</td>\n",
       "</tr>\n",
       "</table>\n",
       "<table class=\"simpletable\">\n",
       "<tr>\n",
       "  <th>Omnibus:</th>       <td>93.454</td> <th>  Durbin-Watson:     </th> <td>   1.964</td>\n",
       "</tr>\n",
       "<tr>\n",
       "  <th>Prob(Omnibus):</th> <td> 0.000</td> <th>  Jarque-Bera (JB):  </th> <td> 247.620</td>\n",
       "</tr>\n",
       "<tr>\n",
       "  <th>Skew:</th>          <td> 0.853</td> <th>  Prob(JB):          </th> <td>1.70e-54</td>\n",
       "</tr>\n",
       "<tr>\n",
       "  <th>Kurtosis:</th>      <td> 5.824</td> <th>  Cond. No.          </th> <td>3.07e+04</td>\n",
       "</tr>\n",
       "</table><br/><br/>Warnings:<br/>[1] Standard Errors assume that the covariance matrix of the errors is correctly specified.<br/>[2] The condition number is large, 3.07e+04. This might indicate that there are<br/>strong multicollinearity or other numerical problems."
      ],
      "text/plain": [
       "<class 'statsmodels.iolib.summary.Summary'>\n",
       "\"\"\"\n",
       "                            OLS Regression Results                            \n",
       "==============================================================================\n",
       "Dep. Variable:                  price   R-squared:                       0.673\n",
       "Model:                            OLS   Adj. R-squared:                  0.666\n",
       "Method:                 Least Squares   F-statistic:                     99.97\n",
       "Date:                Thu, 12 Mar 2020   Prob (F-statistic):          6.18e-122\n",
       "Time:                        15:05:17   Log-Likelihood:                -6034.1\n",
       "No. Observations:                 546   AIC:                         1.209e+04\n",
       "Df Residuals:                     534   BIC:                         1.214e+04\n",
       "Df Model:                          11                                         \n",
       "Covariance Type:            nonrobust                                         \n",
       "================================================================================\n",
       "                   coef    std err          t      P>|t|      [0.025      0.975]\n",
       "--------------------------------------------------------------------------------\n",
       "const        -4038.3504   3409.471     -1.184      0.237   -1.07e+04    2659.271\n",
       "lotsize          3.5463      0.350     10.124      0.000       2.858       4.234\n",
       "bedrooms      1832.0035   1047.000      1.750      0.081    -224.741    3888.748\n",
       "bathrms       1.434e+04   1489.921      9.622      0.000    1.14e+04    1.73e+04\n",
       "stories       6556.9457    925.290      7.086      0.000    4739.291    8374.600\n",
       "garagepl      4244.8290    840.544      5.050      0.000    2593.650    5896.008\n",
       "driveway_yes  6687.7789   2045.246      3.270      0.001    2670.065    1.07e+04\n",
       "recroom_yes   4511.2838   1899.958      2.374      0.018     778.976    8243.592\n",
       "fullbase_yes  5452.3855   1588.024      3.433      0.001    2332.845    8571.926\n",
       "gashw_yes     1.283e+04   3217.597      3.988      0.000    6510.706    1.92e+04\n",
       "airco_yes     1.263e+04   1555.021      8.124      0.000    9578.182    1.57e+04\n",
       "prefarea_yes  9369.5132   1669.091      5.614      0.000    6090.724    1.26e+04\n",
       "==============================================================================\n",
       "Omnibus:                       93.454   Durbin-Watson:                   1.964\n",
       "Prob(Omnibus):                  0.000   Jarque-Bera (JB):              247.620\n",
       "Skew:                           0.853   Prob(JB):                     1.70e-54\n",
       "Kurtosis:                       5.824   Cond. No.                     3.07e+04\n",
       "==============================================================================\n",
       "\n",
       "Warnings:\n",
       "[1] Standard Errors assume that the covariance matrix of the errors is correctly specified.\n",
       "[2] The condition number is large, 3.07e+04. This might indicate that there are\n",
       "strong multicollinearity or other numerical problems.\n",
       "\"\"\""
      ]
     },
     "execution_count": 182,
     "metadata": {},
     "output_type": "execute_result"
    }
   ],
   "source": [
    "model = sm.OLS(y,xc).fit()\n",
    "model.summary()"
   ]
  },
  {
   "cell_type": "markdown",
   "metadata": {},
   "source": [
    "# normality of residuals"
   ]
  },
  {
   "cell_type": "code",
   "execution_count": 183,
   "metadata": {},
   "outputs": [
    {
     "data": {
      "text/plain": [
       "<matplotlib.axes._subplots.AxesSubplot at 0x18d08769248>"
      ]
     },
     "execution_count": 183,
     "metadata": {},
     "output_type": "execute_result"
    },
    {
     "data": {
      "image/png": "[encoded data removed]",
      "text/plain": [
       "<Figure size 432x288 with 1 Axes>"
      ]
     },
     "metadata": {
      "needs_background": "light"
     },
     "output_type": "display_data"
    }
   ],
   "source": [
    "from scipy.stats import norm\n",
    "fit = norm\n",
    "sns.distplot(model.resid,fit=fit)"
   ]
  },
  {
   "cell_type": "code",
   "execution_count": 184,
   "metadata": {},
   "outputs": [
    {
     "data": {
      "image/png": "[encoded data removed]",
      "text/plain": [
       "<Figure size 432x288 with 1 Axes>"
      ]
     },
     "metadata": {
      "needs_background": "light"
     },
     "output_type": "display_data"
    }
   ],
   "source": [
    "import scipy.stats as st\n",
    "st.probplot(model.resid, plot = plt)\n",
    "plt.show()"
   ]
  },
  {
   "cell_type": "code",
   "execution_count": 185,
   "metadata": {},
   "outputs": [
    {
     "data": {
      "text/plain": [
       "(247.61979372009125, 0.0)"
      ]
     },
     "execution_count": 185,
     "metadata": {},
     "output_type": "execute_result"
    }
   ],
   "source": [
    "#h0 data is normal \n",
    "#h1 data is not normal\n",
    "\n",
    "st.jarque_bera(model.resid)"
   ]
  },
  {
   "cell_type": "markdown",
   "metadata": {},
   "source": [
    "jb test indicates that are not normal // if alpha value is less than p value reject null h0"
   ]
  },
  {
   "cell_type": "code",
   "execution_count": 186,
   "metadata": {},
   "outputs": [],
   "source": [
    "ly = np.log(y)"
   ]
  },
  {
   "cell_type": "code",
   "execution_count": 187,
   "metadata": {},
   "outputs": [
    {
     "data": {
      "text/html": [
       "<table class=\"simpletable\">\n",
       "<caption>OLS Regression Results</caption>\n",
       "<tr>\n",
       "  <th>Dep. Variable:</th>          <td>price</td>      <th>  R-squared:         </th> <td>   0.677</td> \n",
       "</tr>\n",
       "<tr>\n",
       "  <th>Model:</th>                   <td>OLS</td>       <th>  Adj. R-squared:    </th> <td>   0.670</td> \n",
       "</tr>\n",
       "<tr>\n",
       "  <th>Method:</th>             <td>Least Squares</td>  <th>  F-statistic:       </th> <td>   101.6</td> \n",
       "</tr>\n",
       "<tr>\n",
       "  <th>Date:</th>             <td>Thu, 12 Mar 2020</td> <th>  Prob (F-statistic):</th> <td>3.67e-123</td>\n",
       "</tr>\n",
       "<tr>\n",
       "  <th>Time:</th>                 <td>15:05:20</td>     <th>  Log-Likelihood:    </th> <td>  73.873</td> \n",
       "</tr>\n",
       "<tr>\n",
       "  <th>No. Observations:</th>      <td>   546</td>      <th>  AIC:               </th> <td>  -123.7</td> \n",
       "</tr>\n",
       "<tr>\n",
       "  <th>Df Residuals:</th>          <td>   534</td>      <th>  BIC:               </th> <td>  -72.11</td> \n",
       "</tr>\n",
       "<tr>\n",
       "  <th>Df Model:</th>              <td>    11</td>      <th>                     </th>     <td> </td>    \n",
       "</tr>\n",
       "<tr>\n",
       "  <th>Covariance Type:</th>      <td>nonrobust</td>    <th>                     </th>     <td> </td>    \n",
       "</tr>\n",
       "</table>\n",
       "<table class=\"simpletable\">\n",
       "<tr>\n",
       "        <td></td>          <th>coef</th>     <th>std err</th>      <th>t</th>      <th>P>|t|</th>  <th>[0.025</th>    <th>0.975]</th>  \n",
       "</tr>\n",
       "<tr>\n",
       "  <th>const</th>        <td>   10.0256</td> <td>    0.047</td> <td>  212.210</td> <td> 0.000</td> <td>    9.933</td> <td>   10.118</td>\n",
       "</tr>\n",
       "<tr>\n",
       "  <th>lotsize</th>      <td> 5.057e-05</td> <td> 4.85e-06</td> <td>   10.418</td> <td> 0.000</td> <td>  4.1e-05</td> <td> 6.01e-05</td>\n",
       "</tr>\n",
       "<tr>\n",
       "  <th>bedrooms</th>     <td>    0.0340</td> <td>    0.015</td> <td>    2.345</td> <td> 0.019</td> <td>    0.006</td> <td>    0.063</td>\n",
       "</tr>\n",
       "<tr>\n",
       "  <th>bathrms</th>      <td>    0.1678</td> <td>    0.021</td> <td>    8.126</td> <td> 0.000</td> <td>    0.127</td> <td>    0.208</td>\n",
       "</tr>\n",
       "<tr>\n",
       "  <th>stories</th>      <td>    0.0923</td> <td>    0.013</td> <td>    7.197</td> <td> 0.000</td> <td>    0.067</td> <td>    0.117</td>\n",
       "</tr>\n",
       "<tr>\n",
       "  <th>garagepl</th>     <td>    0.0508</td> <td>    0.012</td> <td>    4.358</td> <td> 0.000</td> <td>    0.028</td> <td>    0.074</td>\n",
       "</tr>\n",
       "<tr>\n",
       "  <th>driveway_yes</th> <td>    0.1307</td> <td>    0.028</td> <td>    4.610</td> <td> 0.000</td> <td>    0.075</td> <td>    0.186</td>\n",
       "</tr>\n",
       "<tr>\n",
       "  <th>recroom_yes</th>  <td>    0.0735</td> <td>    0.026</td> <td>    2.792</td> <td> 0.005</td> <td>    0.022</td> <td>    0.125</td>\n",
       "</tr>\n",
       "<tr>\n",
       "  <th>fullbase_yes</th> <td>    0.0994</td> <td>    0.022</td> <td>    4.517</td> <td> 0.000</td> <td>    0.056</td> <td>    0.143</td>\n",
       "</tr>\n",
       "<tr>\n",
       "  <th>gashw_yes</th>    <td>    0.1784</td> <td>    0.045</td> <td>    4.000</td> <td> 0.000</td> <td>    0.091</td> <td>    0.266</td>\n",
       "</tr>\n",
       "<tr>\n",
       "  <th>airco_yes</th>    <td>    0.1780</td> <td>    0.022</td> <td>    8.262</td> <td> 0.000</td> <td>    0.136</td> <td>    0.220</td>\n",
       "</tr>\n",
       "<tr>\n",
       "  <th>prefarea_yes</th> <td>    0.1271</td> <td>    0.023</td> <td>    5.496</td> <td> 0.000</td> <td>    0.082</td> <td>    0.173</td>\n",
       "</tr>\n",
       "</table>\n",
       "<table class=\"simpletable\">\n",
       "<tr>\n",
       "  <th>Omnibus:</th>       <td> 7.621</td> <th>  Durbin-Watson:     </th> <td>   1.974</td>\n",
       "</tr>\n",
       "<tr>\n",
       "  <th>Prob(Omnibus):</th> <td> 0.022</td> <th>  Jarque-Bera (JB):  </th> <td>   8.443</td>\n",
       "</tr>\n",
       "<tr>\n",
       "  <th>Skew:</th>          <td>-0.199</td> <th>  Prob(JB):          </th> <td>  0.0147</td>\n",
       "</tr>\n",
       "<tr>\n",
       "  <th>Kurtosis:</th>      <td> 3.461</td> <th>  Cond. No.          </th> <td>3.07e+04</td>\n",
       "</tr>\n",
       "</table><br/><br/>Warnings:<br/>[1] Standard Errors assume that the covariance matrix of the errors is correctly specified.<br/>[2] The condition number is large, 3.07e+04. This might indicate that there are<br/>strong multicollinearity or other numerical problems."
      ],
      "text/plain": [
       "<class 'statsmodels.iolib.summary.Summary'>\n",
       "\"\"\"\n",
       "                            OLS Regression Results                            \n",
       "==============================================================================\n",
       "Dep. Variable:                  price   R-squared:                       0.677\n",
       "Model:                            OLS   Adj. R-squared:                  0.670\n",
       "Method:                 Least Squares   F-statistic:                     101.6\n",
       "Date:                Thu, 12 Mar 2020   Prob (F-statistic):          3.67e-123\n",
       "Time:                        15:05:20   Log-Likelihood:                 73.873\n",
       "No. Observations:                 546   AIC:                            -123.7\n",
       "Df Residuals:                     534   BIC:                            -72.11\n",
       "Df Model:                          11                                         \n",
       "Covariance Type:            nonrobust                                         \n",
       "================================================================================\n",
       "                   coef    std err          t      P>|t|      [0.025      0.975]\n",
       "--------------------------------------------------------------------------------\n",
       "const           10.0256      0.047    212.210      0.000       9.933      10.118\n",
       "lotsize       5.057e-05   4.85e-06     10.418      0.000     4.1e-05    6.01e-05\n",
       "bedrooms         0.0340      0.015      2.345      0.019       0.006       0.063\n",
       "bathrms          0.1678      0.021      8.126      0.000       0.127       0.208\n",
       "stories          0.0923      0.013      7.197      0.000       0.067       0.117\n",
       "garagepl         0.0508      0.012      4.358      0.000       0.028       0.074\n",
       "driveway_yes     0.1307      0.028      4.610      0.000       0.075       0.186\n",
       "recroom_yes      0.0735      0.026      2.792      0.005       0.022       0.125\n",
       "fullbase_yes     0.0994      0.022      4.517      0.000       0.056       0.143\n",
       "gashw_yes        0.1784      0.045      4.000      0.000       0.091       0.266\n",
       "airco_yes        0.1780      0.022      8.262      0.000       0.136       0.220\n",
       "prefarea_yes     0.1271      0.023      5.496      0.000       0.082       0.173\n",
       "==============================================================================\n",
       "Omnibus:                        7.621   Durbin-Watson:                   1.974\n",
       "Prob(Omnibus):                  0.022   Jarque-Bera (JB):                8.443\n",
       "Skew:                          -0.199   Prob(JB):                       0.0147\n",
       "Kurtosis:                       3.461   Cond. No.                     3.07e+04\n",
       "==============================================================================\n",
       "\n",
       "Warnings:\n",
       "[1] Standard Errors assume that the covariance matrix of the errors is correctly specified.\n",
       "[2] The condition number is large, 3.07e+04. This might indicate that there are\n",
       "strong multicollinearity or other numerical problems.\n",
       "\"\"\""
      ]
     },
     "execution_count": 187,
     "metadata": {},
     "output_type": "execute_result"
    }
   ],
   "source": [
    "model = sm.OLS(ly,xc).fit()\n",
    "model.summary()"
   ]
  },
  {
   "cell_type": "code",
   "execution_count": 188,
   "metadata": {},
   "outputs": [
    {
     "data": {
      "text/plain": [
       "(8.443241215419079, 0.014674843059909293)"
      ]
     },
     "execution_count": 188,
     "metadata": {},
     "output_type": "execute_result"
    }
   ],
   "source": [
    "st.jarque_bera(model.resid)"
   ]
  },
  {
   "cell_type": "markdown",
   "metadata": {},
   "source": [
    "# test homoscedasticity"
   ]
  },
  {
   "cell_type": "code",
   "execution_count": 190,
   "metadata": {},
   "outputs": [
    {
     "data": {
      "image/png": "[encoded data removed]",
      "text/plain": [
       "<Figure size 432x288 with 1 Axes>"
      ]
     },
     "metadata": {
      "needs_background": "light"
     },
     "output_type": "display_data"
    }
   ],
   "source": [
    "y_pred=model.predict(xc)\n",
    "\n",
    "sns.regplot(x=y_pred, y=model.resid, lowess=True, line_kws={'color':'red'})\n",
    "plt.show()"
   ]
  },
  {
   "cell_type": "code",
   "execution_count": 191,
   "metadata": {},
   "outputs": [
    {
     "data": {
      "text/plain": [
       "(0.8243417719616921, 0.9403450681334398, 'increasing')"
      ]
     },
     "execution_count": 191,
     "metadata": {},
     "output_type": "execute_result"
    }
   ],
   "source": [
    "#not showing any serious change in pattern.\n",
    "\n",
    "\n",
    "#H0: Residual varience is constant\n",
    "#H1: residual varience is not constant\n",
    "\n",
    "import statsmodels.stats.api as sms\n",
    "sms.het_goldfeldquandt(y=model.resid, x=xc)"
   ]
  },
  {
   "cell_type": "markdown",
   "metadata": {},
   "source": [
    "### Prob=0.9357727109130592 suggests that residual varience is constant"
   ]
  },
  {
   "cell_type": "code",
   "execution_count": 192,
   "metadata": {},
   "outputs": [
    {
     "data": {
      "image/png": "[encoded data removed]",
      "text/plain": [
       "<Figure size 432x288 with 1 Axes>"
      ]
     },
     "metadata": {
      "needs_background": "light"
     },
     "output_type": "display_data"
    }
   ],
   "source": [
    "import statsmodels.tsa.api as smt\n",
    "acf=smt.graphics.plot_acf(model.resid, lags=30)"
   ]
  },
  {
   "cell_type": "markdown",
   "metadata": {},
   "source": [
    "### DW= 1.96 indicated that there is no autocorrelation"
   ]
  },
  {
   "cell_type": "markdown",
   "metadata": {},
   "source": [
    "  # test of lr"
   ]
  },
  {
   "cell_type": "code",
   "execution_count": 193,
   "metadata": {},
   "outputs": [
    {
     "data": {
      "image/png": "[encoded data removed]",
      "text/plain": [
       "<Figure size 432x288 with 1 Axes>"
      ]
     },
     "metadata": {
      "needs_background": "light"
     },
     "output_type": "display_data"
    }
   ],
   "source": [
    "sns.regplot(x=y_pred, y=ly, lowess=True, line_kws={'color': 'red'})\n",
    "plt.show()"
   ]
  },
  {
   "cell_type": "code",
   "execution_count": 194,
   "metadata": {},
   "outputs": [
    {
     "data": {
      "text/plain": [
       "(1.1286339110460553, 0.1621147470057974)"
      ]
     },
     "execution_count": 194,
     "metadata": {},
     "output_type": "execute_result"
    }
   ],
   "source": [
    "import statsmodels.api as sm\n",
    "\n",
    "sm.stats.diagnostic.linear_rainbow(res=model, )"
   ]
  },
  {
   "cell_type": "code",
   "execution_count": 197,
   "metadata": {},
   "outputs": [
    {
     "data": {
      "text/plain": [
       "[<matplotlib.lines.Line2D at 0x18d15d1d088>]"
      ]
     },
     "execution_count": 197,
     "metadata": {},
     "output_type": "execute_result"
    },
    {
     "data": {
      "image/png": "[encoded data removed]",
      "text/plain": [
       "<Figure size 432x288 with 1 Axes>"
      ]
     },
     "metadata": {
      "needs_background": "light"
     },
     "output_type": "display_data"
    }
   ],
   "source": [
    "plt.scatter(ly,y_pred)\n",
    "plt.plot(ly,ly,'r')"
   ]
  },
  {
   "cell_type": "code",
   "execution_count": null,
   "metadata": {},
   "outputs": [],
   "source": []
  }
 ],
 "metadata": {
  "kernelspec": {
   "display_name": "Python 3",
   "language": "python",
   "name": "python3"
  },
  "language_info": {
   "codemirror_mode": {
    "name": "ipython",
    "version": 3
   },
   "file_extension": ".py",
   "mimetype": "text/x-python",
   "name": "python",
   "nbconvert_exporter": "python",
   "pygments_lexer": "ipython3",
   "version": "3.7.4"
  }
 },
 "nbformat": 4,
 "nbformat_minor": 2
}
